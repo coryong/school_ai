{
  "nbformat": 4,
  "nbformat_minor": 0,
  "metadata": {
    "colab": {
      "provenance": [],
      "collapsed_sections": [
        "ovHXJdO0PrqC",
        "IlUVN9viPvlL",
        "9VAXMfC3P1tL"
      ]
    },
    "kernelspec": {
      "name": "python3",
      "display_name": "Python 3"
    },
    "language_info": {
      "name": "python"
    },
    "accelerator": "TPU"
  },
  "cells": [
    {
      "cell_type": "markdown",
      "metadata": {
        "id": "Dy02-fC3n8-R"
      },
      "source": [
        "# **생능 출판사 \"으뜸 머신러닝\"(1판) 교재의 소스 코드**\n",
        "# *8장 고급 인공 신경망 구현*\n",
        "---\n",
        "* 출판사 : 생능 출판사( http://www.booksr.co.kr/ )\n",
        "* 으뜸 머신러닝 저자 : 강영민, 박동규, 김성수\n",
        "*  소스코드 저장소 : https://github.com/dknife/ML\n",
        "*  저작권 : 본 주피터 노트북 코드는 자유롭게 배포가능하지만 위의 출판사, 저서, 저자표기와 함께 배포해 주십시오.\n",
        "---"
      ]
    },
    {
      "cell_type": "markdown",
      "metadata": {
        "id": "VaIW_6TKmwjv"
      },
      "source": [
        "### 8.1 심층 신경망이 부딪힌 한계 - 사라지는 기울기"
      ]
    },
    {
      "cell_type": "markdown",
      "metadata": {
        "id": "p_PaP4MqOjgt"
      },
      "source": [
        "### 8.2 심층 신경망 학습의 돌파구 - 연결강도 초기화"
      ]
    },
    {
      "cell_type": "markdown",
      "metadata": {
        "id": "GM_HPdfyOlj8"
      },
      "source": [
        "### 8.3 활성화 함수의 다양화"
      ]
    },
    {
      "cell_type": "markdown",
      "metadata": {
        "id": "D_0UApVgOn1L"
      },
      "source": [
        "### 8.4 최적화 기법 - 경사하강법의 문제와 개선"
      ]
    },
    {
      "cell_type": "markdown",
      "metadata": {
        "id": "dtYZ5AOMOp7r"
      },
      "source": [
        "### 8.5 다양한 최적화 기법 소개"
      ]
    },
    {
      "cell_type": "markdown",
      "metadata": {
        "id": "4Mq01JK1OrpC"
      },
      "source": [
        "### 8.6 텐서플로우 소개"
      ]
    },
    {
      "cell_type": "markdown",
      "metadata": {
        "id": "45HUkLoYOtyr"
      },
      "source": [
        "### 8.7 텐서플로우로 시작하는 Hello world!"
      ]
    },
    {
      "cell_type": "code",
      "metadata": {
        "colab": {
          "base_uri": "https://localhost:8080/"
        },
        "id": "yAMVJBfeSfOj",
        "outputId": "a8d0bd88-d30d-479f-cdf2-f8f753fd00e1"
      },
      "source": [
        "import tensorflow as tf\n",
        "from tensorflow import keras\n",
        "import numpy as np\n",
        "import matplotlib.pyplot as plt\n",
        "\n",
        "mnist = tf.keras.datasets.mnist\n",
        "\n",
        "(x_train, y_train), (x_test, y_test) = mnist.load_data()\n",
        "\n",
        "print('x_train 데이터의 형태:', x_train.shape)\n",
        "print('x_train[0] 데이터의 형태:', x_train[0].shape)\n",
        "print('y_train 데이터의 형태:',y_train.shape)"
      ],
      "execution_count": null,
      "outputs": [
        {
          "output_type": "stream",
          "name": "stdout",
          "text": [
            "Downloading data from https://storage.googleapis.com/tensorflow/tf-keras-datasets/mnist.npz\n",
            "11493376/11490434 [==============================] - 0s 0us/step\n",
            "11501568/11490434 [==============================] - 0s 0us/step\n",
            "x_train 데이터의 형태: (60000, 28, 28)\n",
            "x_train[0] 데이터의 형태: (28, 28)\n",
            "y_train 데이터의 형태: (60000,)\n"
          ]
        }
      ]
    },
    {
      "cell_type": "code",
      "metadata": {
        "colab": {
          "base_uri": "https://localhost:8080/"
        },
        "id": "KhFI7wMfSiqr",
        "outputId": "e885004f-a642-46c6-b803-f33438f697f8"
      },
      "source": [
        "num = x_train[0]\n",
        "for i in range(28):\n",
        "    for j in range(28):\n",
        "        print('{:4d}'.format(num[i][j]), end='')\n",
        "    print()"
      ],
      "execution_count": null,
      "outputs": [
        {
          "output_type": "stream",
          "name": "stdout",
          "text": [
            "   0   0   0   0   0   0   0   0   0   0   0   0   0   0   0   0   0   0   0   0   0   0   0   0   0   0   0   0\n",
            "   0   0   0   0   0   0   0   0   0   0   0   0   0   0   0   0   0   0   0   0   0   0   0   0   0   0   0   0\n",
            "   0   0   0   0   0   0   0   0   0   0   0   0   0   0   0   0   0   0   0   0   0   0   0   0   0   0   0   0\n",
            "   0   0   0   0   0   0   0   0   0   0   0   0   0   0   0   0   0   0   0   0   0   0   0   0   0   0   0   0\n",
            "   0   0   0   0   0   0   0   0   0   0   0   0   0   0   0   0   0   0   0   0   0   0   0   0   0   0   0   0\n",
            "   0   0   0   0   0   0   0   0   0   0   0   0   3  18  18  18 126 136 175  26 166 255 247 127   0   0   0   0\n",
            "   0   0   0   0   0   0   0   0  30  36  94 154 170 253 253 253 253 253 225 172 253 242 195  64   0   0   0   0\n",
            "   0   0   0   0   0   0   0  49 238 253 253 253 253 253 253 253 253 251  93  82  82  56  39   0   0   0   0   0\n",
            "   0   0   0   0   0   0   0  18 219 253 253 253 253 253 198 182 247 241   0   0   0   0   0   0   0   0   0   0\n",
            "   0   0   0   0   0   0   0   0  80 156 107 253 253 205  11   0  43 154   0   0   0   0   0   0   0   0   0   0\n",
            "   0   0   0   0   0   0   0   0   0  14   1 154 253  90   0   0   0   0   0   0   0   0   0   0   0   0   0   0\n",
            "   0   0   0   0   0   0   0   0   0   0   0 139 253 190   2   0   0   0   0   0   0   0   0   0   0   0   0   0\n",
            "   0   0   0   0   0   0   0   0   0   0   0  11 190 253  70   0   0   0   0   0   0   0   0   0   0   0   0   0\n",
            "   0   0   0   0   0   0   0   0   0   0   0   0  35 241 225 160 108   1   0   0   0   0   0   0   0   0   0   0\n",
            "   0   0   0   0   0   0   0   0   0   0   0   0   0  81 240 253 253 119  25   0   0   0   0   0   0   0   0   0\n",
            "   0   0   0   0   0   0   0   0   0   0   0   0   0   0  45 186 253 253 150  27   0   0   0   0   0   0   0   0\n",
            "   0   0   0   0   0   0   0   0   0   0   0   0   0   0   0  16  93 252 253 187   0   0   0   0   0   0   0   0\n",
            "   0   0   0   0   0   0   0   0   0   0   0   0   0   0   0   0   0 249 253 249  64   0   0   0   0   0   0   0\n",
            "   0   0   0   0   0   0   0   0   0   0   0   0   0   0  46 130 183 253 253 207   2   0   0   0   0   0   0   0\n",
            "   0   0   0   0   0   0   0   0   0   0   0   0  39 148 229 253 253 253 250 182   0   0   0   0   0   0   0   0\n",
            "   0   0   0   0   0   0   0   0   0   0  24 114 221 253 253 253 253 201  78   0   0   0   0   0   0   0   0   0\n",
            "   0   0   0   0   0   0   0   0  23  66 213 253 253 253 253 198  81   2   0   0   0   0   0   0   0   0   0   0\n",
            "   0   0   0   0   0   0  18 171 219 253 253 253 253 195  80   9   0   0   0   0   0   0   0   0   0   0   0   0\n",
            "   0   0   0   0  55 172 226 253 253 253 253 244 133  11   0   0   0   0   0   0   0   0   0   0   0   0   0   0\n",
            "   0   0   0   0 136 253 253 253 212 135 132  16   0   0   0   0   0   0   0   0   0   0   0   0   0   0   0   0\n",
            "   0   0   0   0   0   0   0   0   0   0   0   0   0   0   0   0   0   0   0   0   0   0   0   0   0   0   0   0\n",
            "   0   0   0   0   0   0   0   0   0   0   0   0   0   0   0   0   0   0   0   0   0   0   0   0   0   0   0   0\n",
            "   0   0   0   0   0   0   0   0   0   0   0   0   0   0   0   0   0   0   0   0   0   0   0   0   0   0   0   0\n"
          ]
        }
      ]
    },
    {
      "cell_type": "code",
      "metadata": {
        "colab": {
          "base_uri": "https://localhost:8080/",
          "height": 283
        },
        "id": "ZzJaI9MjSmny",
        "outputId": "bad8b0e7-878d-4fb0-d97f-f45528374312"
      },
      "source": [
        "plt.imshow(num, cmap='Greys', interpolation='nearest')"
      ],
      "execution_count": null,
      "outputs": [
        {
          "output_type": "execute_result",
          "data": {
            "text/plain": [
              "<matplotlib.image.AxesImage at 0x7f538825c850>"
            ]
          },
          "metadata": {},
          "execution_count": 4
        },
        {
          "output_type": "display_data",
          "data": {
            "text/plain": [
              "<Figure size 432x288 with 1 Axes>"
            ],
            "image/png": "[encoded data removed]"
          },
          "metadata": {
            "needs_background": "light"
          }
        }
      ]
    },
    {
      "cell_type": "code",
      "metadata": {
        "colab": {
          "base_uri": "https://localhost:8080/"
        },
        "id": "a1iZwKzDSos5",
        "outputId": "6dcff83a-894a-49e1-9a89-e91ab7a805ee"
      },
      "source": [
        "print('y_train[0] =', y_train[0])"
      ],
      "execution_count": null,
      "outputs": [
        {
          "output_type": "stream",
          "name": "stdout",
          "text": [
            "y_train[0] = 5\n"
          ]
        }
      ]
    },
    {
      "cell_type": "markdown",
      "metadata": {
        "id": "6Pn8Tvr5PMkz"
      },
      "source": [
        "### 8.8 keras로 순차 심층신경망 구축하기"
      ]
    },
    {
      "cell_type": "code",
      "metadata": {
        "colab": {
          "base_uri": "https://localhost:8080/"
        },
        "id": "3o1wioEkSrGD",
        "outputId": "bd438fe3-e930-48eb-ceee-49e91bd352dd"
      },
      "source": [
        "import tensorflow as tf\n",
        "from tensorflow import keras\n",
        "import numpy as np\n",
        "import matplotlib.pyplot as plt\n",
        "\n",
        "mnist = tf.keras.datasets.mnist\n",
        "\n",
        "(x_train, y_train), (x_test, y_test) = mnist.load_data()\n",
        "\n",
        "x_train, x_test = x_train / 255, x_test / 255  # 입력값 정규화\n",
        "\n",
        "model = keras.models.Sequential( [\n",
        "    keras.layers.Flatten(input_shape = (28, 28)),\n",
        "    keras.layers.Dense(256, activation = 'relu'),\n",
        "    keras.layers.Dense(10, activation = 'softmax'),\n",
        "])\n",
        "\n",
        "# 학습을 위한 최적화 함수, 손실 함수등을 가진 모델을 컴파일\n",
        "model.compile(optimizer='adam', loss='sparse_categorical_crossentropy', metrics=['accuracy'])\n",
        "model.fit(x_train, y_train, epochs = 4)"
      ],
      "execution_count": null,
      "outputs": [
        {
          "output_type": "stream",
          "name": "stdout",
          "text": [
            "Epoch 1/4\n",
            "1875/1875 [==============================] - 10s 4ms/step - loss: 0.2254 - accuracy: 0.9352\n",
            "Epoch 2/4\n",
            "1875/1875 [==============================] - 6s 3ms/step - loss: 0.0950 - accuracy: 0.9711\n",
            "Epoch 3/4\n",
            "1875/1875 [==============================] - 6s 3ms/step - loss: 0.0639 - accuracy: 0.9805\n",
            "Epoch 4/4\n",
            "1875/1875 [==============================] - 6s 3ms/step - loss: 0.0450 - accuracy: 0.9869\n"
          ]
        },
        {
          "output_type": "execute_result",
          "data": {
            "text/plain": [
              "<keras.callbacks.History at 0x7f5384488ad0>"
            ]
          },
          "metadata": {},
          "execution_count": 6
        }
      ]
    },
    {
      "cell_type": "code",
      "source": [
        "y_hat = model.predict(x_test)\n",
        "print(y_hat)"
      ],
      "metadata": {
        "colab": {
          "base_uri": "https://localhost:8080/"
        },
        "id": "P8SS_1_wolFM",
        "outputId": "813efb54-1673-4aa4-deed-dec7e8834c9a"
      },
      "execution_count": null,
      "outputs": [
        {
          "output_type": "stream",
          "name": "stdout",
          "text": [
            "[[1.13915615e-08 3.68852748e-09 6.54760015e-06 ... 9.99979854e-01\n",
            "  7.18832709e-08 2.49897334e-06]\n",
            " [4.08217495e-08 1.17703837e-06 9.99998689e-01 ... 1.77544082e-13\n",
            "  4.05528517e-08 7.30569956e-13]\n",
            " [1.45444324e-06 9.98434365e-01 3.52363713e-04 ... 6.70945738e-04\n",
            "  2.72988138e-04 4.20336073e-06]\n",
            " ...\n",
            " [8.43614206e-11 7.58933583e-10 8.92562080e-10 ... 4.87854195e-05\n",
            "  8.06770743e-07 3.77103133e-05]\n",
            " [3.02534147e-07 3.47029294e-10 3.38899853e-10 ... 3.35542119e-08\n",
            "  4.87208818e-05 6.26585806e-12]\n",
            " [1.59507678e-07 1.60254687e-12 6.23353813e-10 ... 5.56528044e-12\n",
            "  6.13443463e-11 1.15083585e-11]]\n"
          ]
        }
      ]
    },
    {
      "cell_type": "code",
      "source": [
        "yhat_idx = np.argmax( y_hat, axis = 1 )\n",
        "yhat_idx"
      ],
      "metadata": {
        "colab": {
          "base_uri": "https://localhost:8080/"
        },
        "id": "OTdwD3eCowrD",
        "outputId": "436dc07c-0ffa-4cd5-cabf-6c4f92036a83"
      },
      "execution_count": null,
      "outputs": [
        {
          "output_type": "execute_result",
          "data": {
            "text/plain": [
              "array([7, 2, 1, ..., 4, 5, 6])"
            ]
          },
          "metadata": {},
          "execution_count": 11
        }
      ]
    },
    {
      "cell_type": "code",
      "source": [
        "y_test"
      ],
      "metadata": {
        "colab": {
          "base_uri": "https://localhost:8080/"
        },
        "id": "04IRluWQpIHj",
        "outputId": "2ccab0b4-7c7b-4423-a3f3-a6516fa013a5"
      },
      "execution_count": null,
      "outputs": [
        {
          "output_type": "execute_result",
          "data": {
            "text/plain": [
              "array([7, 2, 1, ..., 4, 5, 6], dtype=uint8)"
            ]
          },
          "metadata": {},
          "execution_count": 12
        }
      ]
    },
    {
      "cell_type": "code",
      "source": [
        "plt.imshow(x_test[0], cmap='Greys', interpolation='nearest')"
      ],
      "metadata": {
        "colab": {
          "base_uri": "https://localhost:8080/",
          "height": 283
        },
        "id": "S6C82vUUpWHX",
        "outputId": "8a3d58ae-d1d1-4732-dfb9-7d49f4a06042"
      },
      "execution_count": null,
      "outputs": [
        {
          "output_type": "execute_result",
          "data": {
            "text/plain": [
              "<matplotlib.image.AxesImage at 0x7fbab6666490>"
            ]
          },
          "metadata": {},
          "execution_count": 16
        },
        {
          "output_type": "display_data",
          "data": {
            "text/plain": [
              "<Figure size 432x288 with 1 Axes>"
            ],
            "image/png": "[encoded data removed]"
          },
          "metadata": {
            "needs_background": "light"
          }
        }
      ]
    },
    {
      "cell_type": "code",
      "source": [
        "plt.imshow(x_test[1], cmap='Greys', interpolation='nearest')"
      ],
      "metadata": {
        "id": "jtbqf8T_p0ET",
        "outputId": "ea59f79c-0950-42c0-ac9a-2ca71de168e3",
        "colab": {
          "base_uri": "https://localhost:8080/",
          "height": 283
        }
      },
      "execution_count": null,
      "outputs": [
        {
          "output_type": "execute_result",
          "data": {
            "text/plain": [
              "<matplotlib.image.AxesImage at 0x7fbab65caa50>"
            ]
          },
          "metadata": {},
          "execution_count": 17
        },
        {
          "output_type": "display_data",
          "data": {
            "text/plain": [
              "<Figure size 432x288 with 1 Axes>"
            ],
            "image/png": "[encoded data removed]"
          },
          "metadata": {
            "needs_background": "light"
          }
        }
      ]
    },
    {
      "cell_type": "code",
      "source": [
        "\n",
        "plt.imshow(x_test[2], cmap='Greys', interpolation='nearest')"
      ],
      "metadata": {
        "id": "SNJoBItbp14E",
        "outputId": "178ec8cb-0ebc-4549-8497-2b54d469d87a",
        "colab": {
          "base_uri": "https://localhost:8080/",
          "height": 283
        }
      },
      "execution_count": null,
      "outputs": [
        {
          "output_type": "execute_result",
          "data": {
            "text/plain": [
              "<matplotlib.image.AxesImage at 0x7fbab65bb090>"
            ]
          },
          "metadata": {},
          "execution_count": 18
        },
        {
          "output_type": "display_data",
          "data": {
            "text/plain": [
              "<Figure size 432x288 with 1 Axes>"
            ],
            "image/png": "[encoded data removed]"
          },
          "metadata": {
            "needs_background": "light"
          }
        }
      ]
    },
    {
      "cell_type": "markdown",
      "metadata": {
        "id": "NBlBBXO6PWTi"
      },
      "source": [
        "### 8.9 인공신경망을 최적화 시키자"
      ]
    },
    {
      "cell_type": "code",
      "metadata": {
        "colab": {
          "base_uri": "https://localhost:8080/"
        },
        "id": "8lRf5bbVS6FL",
        "outputId": "6dd9810c-03e7-4a36-89fa-591c8f993a2d"
      },
      "source": [
        "model.summary()"
      ],
      "execution_count": null,
      "outputs": [
        {
          "output_type": "stream",
          "name": "stdout",
          "text": [
            "Model: \"sequential\"\n",
            "_________________________________________________________________\n",
            " Layer (type)                Output Shape              Param #   \n",
            "=================================================================\n",
            " flatten (Flatten)           (None, 784)               0         \n",
            "                                                                 \n",
            " dense (Dense)               (None, 256)               200960    \n",
            "                                                                 \n",
            " dense_1 (Dense)             (None, 10)                2570      \n",
            "                                                                 \n",
            "=================================================================\n",
            "Total params: 203,530\n",
            "Trainable params: 203,530\n",
            "Non-trainable params: 0\n",
            "_________________________________________________________________\n"
          ]
        }
      ]
    },
    {
      "cell_type": "code",
      "metadata": {
        "colab": {
          "base_uri": "https://localhost:8080/"
        },
        "id": "ZsqrsH3cS8eT",
        "outputId": "3c2216b4-4e64-489e-a905-9ee8d30afc63"
      },
      "source": [
        "print('신경망 모델의 학습 결과 :')\n",
        "eval_loss, eval_acc = model.evaluate(x_test, y_test)\n",
        "print('test 데이터의 손실값', eval_loss, 'test 데이터의 정확도', eval_acc)"
      ],
      "execution_count": null,
      "outputs": [
        {
          "output_type": "stream",
          "name": "stdout",
          "text": [
            "신경망 모델의 학습 결과 :\n",
            "313/313 [==============================] - 1s 2ms/step - loss: 0.0709 - accuracy: 0.9775\n",
            "test 데이터의 손실값 0.07090707123279572 test 데이터의 정확도 0.9775000214576721\n"
          ]
        }
      ]
    },
    {
      "cell_type": "markdown",
      "metadata": {
        "id": "4CmCizXrPeAL"
      },
      "source": [
        "### 8.10 소프트맥스 함수와 원-핫 인코딩"
      ]
    },
    {
      "cell_type": "code",
      "metadata": {
        "colab": {
          "base_uri": "https://localhost:8080/"
        },
        "id": "UvUS6kGiTCPC",
        "outputId": "a81600ef-bb16-4be1-d600-00224945f8ab"
      },
      "source": [
        "import numpy as np\n",
        "\n",
        "def softmax(a):    \n",
        "    exp_of_a = np.exp(a)       # 각각의 지수 함수\n",
        "    sum_exp = np.sum(exp_of_a) # 지수 함수값의 합\n",
        "    y = exp_of_a / sum_exp\n",
        "    return y\n",
        "\n",
        "a = np.array([0.5, 4.1, 2.5, 5.6, 1.2])\n",
        "print('신경망의 예측값 :', a)\n",
        "print('소프트맥스 함수의 출력 :', softmax(a))"
      ],
      "execution_count": null,
      "outputs": [
        {
          "output_type": "stream",
          "text": [
            "신경망의 예측값 : [0.5 4.1 2.5 5.6 1.2]\n",
            "소프트맥스 함수의 출력 : [0.00473882 0.17343248 0.03501541 0.77727047 0.00954281]\n"
          ],
          "name": "stdout"
        }
      ]
    },
    {
      "cell_type": "code",
      "metadata": {
        "colab": {
          "base_uri": "https://localhost:8080/"
        },
        "id": "9-SREW2STEx0",
        "outputId": "4e078248-9376-4fb9-e5f6-2d8612aea1c5"
      },
      "source": [
        "print('소프트맥스 함수의 최댓값 :', np.max(softmax(a)))"
      ],
      "execution_count": null,
      "outputs": [
        {
          "output_type": "stream",
          "text": [
            "소프트맥스 함수의 최댓값 : 0.7772704668966948\n"
          ],
          "name": "stdout"
        }
      ]
    },
    {
      "cell_type": "code",
      "metadata": {
        "colab": {
          "base_uri": "https://localhost:8080/"
        },
        "id": "3hZdx2D3TGAQ",
        "outputId": "dca7a60b-dd2e-4c8f-a081-9d8420bb574a"
      },
      "source": [
        "# 소프트맥스 함수의 입력값을 두 배로 증가시켜보자\n",
        "a = np.array([0.5, 4.1, 2.5, 5.6, 1.2]) * 2\n",
        "print('신경망의 예측값 :', a)\n",
        "print('소프트맥스 함수의 출력 :', softmax(a))\n",
        "print('소프트맥스 함수의 최댓값 :', np.max(softmax(a)))"
      ],
      "execution_count": null,
      "outputs": [
        {
          "output_type": "stream",
          "text": [
            "신경망의 예측값 : [ 1.   8.2  5.  11.2  2.4]\n",
            "소프트맥스 함수의 출력 : [3.53328547e-05 4.73259126e-02 1.92910850e-03 9.50566364e-01\n",
            " 1.43281791e-04]\n",
            "소프트맥스 함수의 최댓값 : 0.9505663642857384\n"
          ],
          "name": "stdout"
        }
      ]
    },
    {
      "cell_type": "markdown",
      "metadata": {
        "id": "-bg2qUeWPlMr"
      },
      "source": [
        "### 8.11 원-핫 인코딩과 평균제곱 오차"
      ]
    },
    {
      "cell_type": "code",
      "metadata": {
        "colab": {
          "base_uri": "https://localhost:8080/"
        },
        "id": "du9ypJv7TKQU",
        "outputId": "05797ec5-5bbf-4142-ab81-f41624984ef6"
      },
      "source": [
        "from keras.utils import to_categorical\n",
        "\n",
        "data = np.array([0, 1, 2, 3, 4])  # 수치 데이터 0에서 4까지의 값\n",
        "print('인코딩할 원본 데이터',data)\n",
        "encoded = to_categorical(data)    # 원-핫 인코딩된 범주형 데이터 생성\n",
        "print('원-핫 인코딩된 데이터 :')\n",
        "print(encoded)"
      ],
      "execution_count": null,
      "outputs": [
        {
          "output_type": "stream",
          "text": [
            "인코딩할 원본 데이터 [0 1 2 3 4]\n",
            "원-핫 인코딩된 데이터 :\n",
            "[[1. 0. 0. 0. 0.]\n",
            " [0. 1. 0. 0. 0.]\n",
            " [0. 0. 1. 0. 0.]\n",
            " [0. 0. 0. 1. 0.]\n",
            " [0. 0. 0. 0. 1.]]\n"
          ],
          "name": "stdout"
        }
      ]
    },
    {
      "cell_type": "code",
      "metadata": {
        "colab": {
          "base_uri": "https://localhost:8080/"
        },
        "id": "fd1fcc_wTM1T",
        "outputId": "b0d1c60a-9889-48cc-eda1-91494c20b794"
      },
      "source": [
        "import numpy as np\n",
        "\n",
        "# 정답 3이 인코딩된 target과 신경망의 예측값 y_hat이 있다고 가정하자\n",
        "target = np.array([0, 0, 0, 1, 0])\n",
        "y_hat = np.array([0.005, 0.173, 0.035, 0.777, 0.01])\n",
        "\n",
        "def mse(y, t):   # 평균제곱오차\n",
        "    return ((y-t)**2).mean()\n",
        "\n",
        "print('y_hat과 target과의 오차 :', mse(y_hat, target))"
      ],
      "execution_count": null,
      "outputs": [
        {
          "output_type": "stream",
          "text": [
            "y_hat과 target과의 오차 : 0.016201599999999997\n"
          ],
          "name": "stdout"
        }
      ]
    },
    {
      "cell_type": "code",
      "metadata": {
        "colab": {
          "base_uri": "https://localhost:8080/"
        },
        "id": "XEHJbHXhTNFa",
        "outputId": "7a726191-9c26-4f03-bb40-18cd85abfc28"
      },
      "source": [
        "# 정답에서 많이 벗어난 other_y_hat 추정치\n",
        "other_y_hat = np.array([0.2, 0.3, 0.4, 0.01, 0.09])\n",
        "# other_y_hat 추정치와 정답과의 오차를 알아보자 \n",
        "print('other_y_hat과 target과의 오차 :', mse( other_y_hat, target ))"
      ],
      "execution_count": null,
      "outputs": [
        {
          "output_type": "stream",
          "text": [
            "other_y_hat과 target과의 오차 : 0.25564\n"
          ],
          "name": "stdout"
        }
      ]
    },
    {
      "cell_type": "markdown",
      "metadata": {
        "id": "ovHXJdO0PrqC"
      },
      "source": [
        "### 8.12 평균제곱 오차와 교차 엔트로피 오차"
      ]
    },
    {
      "cell_type": "code",
      "metadata": {
        "colab": {
          "base_uri": "https://localhost:8080/"
        },
        "id": "wMaVcx_nTRfa",
        "outputId": "659e448d-80fe-40b6-8c34-6dde40a0c754"
      },
      "source": [
        "import numpy as np\n",
        "\n",
        "def mse(y, t):   # 평균제곱오차\n",
        "    return ((y-t)**2).mean()\n",
        "    \n",
        "# 교차 엔트로피 함수를 에러 함수로 사용해 보도록 하자\n",
        "def cee(y, t):\n",
        "   delta = 1e-7\n",
        "   return -np.sum(t * np.log(y + delta))\n",
        "\n",
        "t = np.array([0, 0, 1])\n",
        "y_hat1 = np.array([0.4, 0.05, 0.55])\n",
        "y_hat2 = np.array([0.9, 0.09, 0.01])\n",
        "\n",
        "# y_hat 추정치와 정답과의 오차를 알아보자\n",
        "print('y_hat1과의 cee : {:.2f}'.format(cee(y_hat1, t)))\n",
        "print('y_hat2과의 cee : {:.2f}'.format(cee(y_hat2, t)))\n",
        "print('두 값의 비 : {:.2f}'.format(cee(y_hat2, t)/cee(y_hat1, t)))\n",
        "\n",
        "# y_hat 추정치와 정답과의 오차를 알아보자\n",
        "print('y_hat1과의 mse : {:.2f}'.format(mse(y_hat1, t)))\n",
        "print('y_hat2과의 mse : {:.2f}'.format(mse(y_hat2, t)))\n",
        "print('두 값의 비 : {:.2f}'.format(mse(y_hat2, t)/mse(y_hat1, t)))"
      ],
      "execution_count": null,
      "outputs": [
        {
          "output_type": "stream",
          "text": [
            "y_hat1과의 cee : 0.60\n",
            "y_hat2과의 cee : 4.61\n",
            "두 값의 비 : 7.70\n",
            "y_hat1과의 mse : 0.12\n",
            "y_hat2과의 mse : 0.60\n",
            "두 값의 비 : 4.93\n"
          ],
          "name": "stdout"
        }
      ]
    },
    {
      "cell_type": "markdown",
      "metadata": {
        "id": "IlUVN9viPvlL"
      },
      "source": [
        "### 8.13 정규화와 표준화, 배치 정규화"
      ]
    },
    {
      "cell_type": "code",
      "metadata": {
        "colab": {
          "base_uri": "https://localhost:8080/",
          "height": 298
        },
        "id": "CjOlDmQ1TU8c",
        "outputId": "580a072a-6d93-43e4-e6dc-6ce914ef70e5"
      },
      "source": [
        "import numpy as np\n",
        "import matplotlib.pyplot as plt\n",
        "from sklearn.preprocessing import MinMaxScaler\n",
        "\n",
        "yr = np.array([15, 30, 23, 5, 9, 43, 33, 29, 3, 56])\n",
        "n_rooms = np.array([2, 4, 3, 4, 4, 3, 3, 1, 1, 2])\n",
        "\n",
        "min_max_scaler = MinMaxScaler()\n",
        "yr_norm = min_max_scaler.fit_transform(yr[:, np.newaxis])\n",
        "n_rooms_norm = min_max_scaler.fit_transform(n_rooms[:, np.newaxis])\n",
        "\n",
        "plt.scatter(yr_norm, n_rooms_norm, c='red')\n",
        "plt.xlim(-0.1, 1.1)\n",
        "plt.ylim(-0.1, 1.1)\n",
        "plt.xlabel('year')              \n",
        "plt.ylabel('num of rooms')"
      ],
      "execution_count": null,
      "outputs": [
        {
          "output_type": "execute_result",
          "data": {
            "text/plain": [
              "Text(0, 0.5, 'num of rooms')"
            ]
          },
          "metadata": {
            "tags": []
          },
          "execution_count": 5
        },
        {
          "output_type": "display_data",
          "data": {
            "image/png": "[encoded data removed]",
            "text/plain": [
              "<Figure size 432x288 with 1 Axes>"
            ]
          },
          "metadata": {
            "tags": [],
            "needs_background": "light"
          }
        }
      ]
    },
    {
      "cell_type": "markdown",
      "metadata": {
        "id": "9VAXMfC3P1tL"
      },
      "source": [
        "### 8.14 확률적 경사 하강법과 배치 학습"
      ]
    },
    {
      "cell_type": "markdown",
      "metadata": {
        "id": "4MTAkYPWP3ys"
      },
      "source": [
        "### 8.15 더 깊은 층으로 정확도를 높여보자"
      ]
    },
    {
      "cell_type": "code",
      "metadata": {
        "colab": {
          "base_uri": "https://localhost:8080/"
        },
        "id": "9jju7RiMP57M",
        "outputId": "232f74fb-f15d-4580-81c9-255bd99e0168"
      },
      "source": [
        "import tensorflow as tf\n",
        "from tensorflow import keras\n",
        "import numpy as np\n",
        "import matplotlib.pyplot as plt\n",
        "\n",
        "mnist = tf.keras.datasets.mnist\n",
        "(x_train, y_train), (x_test, y_test) = mnist.load_data()\n",
        "\n",
        "x_train, x_test = x_train / 255, x_test / 255  # 입력값 정규화\n",
        "\n",
        "# 층을 추가한 모델 만들기\n",
        "model = keras.models.Sequential( [\n",
        "    keras.layers.Flatten(input_shape = (28, 28)),\n",
        "    keras.layers.Dense(64, activation = 'relu'),\n",
        "    keras.layers.Dense(64, activation = 'relu'),\n",
        "    keras.layers.Dense(64, activation = 'relu'),\n",
        "    keras.layers.Dense(10, activation = 'softmax'),\n",
        "])\n",
        "\n",
        "model.compile(optimizer='adam', loss='sparse_categorical_crossentropy', metrics=['accuracy'])\n",
        "\n",
        "history = model.fit(x_train, y_train, epochs = 10, validation_data = (x_test, y_test))"
      ],
      "execution_count": null,
      "outputs": [
        {
          "output_type": "stream",
          "name": "stdout",
          "text": [
            "Epoch 1/10\n",
            "1875/1875 [==============================] - 6s 3ms/step - loss: 0.2723 - accuracy: 0.9189 - val_loss: 0.1473 - val_accuracy: 0.9549\n",
            "Epoch 2/10\n",
            "1875/1875 [==============================] - 5s 3ms/step - loss: 0.1213 - accuracy: 0.9639 - val_loss: 0.1146 - val_accuracy: 0.9641\n",
            "Epoch 3/10\n",
            "1875/1875 [==============================] - 5s 3ms/step - loss: 0.0903 - accuracy: 0.9720 - val_loss: 0.1081 - val_accuracy: 0.9671\n",
            "Epoch 4/10\n",
            "1875/1875 [==============================] - 5s 3ms/step - loss: 0.0713 - accuracy: 0.9772 - val_loss: 0.1009 - val_accuracy: 0.9699\n",
            "Epoch 5/10\n",
            "1875/1875 [==============================] - 6s 3ms/step - loss: 0.0592 - accuracy: 0.9813 - val_loss: 0.1084 - val_accuracy: 0.9689\n",
            "Epoch 6/10\n",
            "1875/1875 [==============================] - 5s 3ms/step - loss: 0.0502 - accuracy: 0.9835 - val_loss: 0.0906 - val_accuracy: 0.9749\n",
            "Epoch 7/10\n",
            "1875/1875 [==============================] - 5s 3ms/step - loss: 0.0422 - accuracy: 0.9861 - val_loss: 0.1022 - val_accuracy: 0.9719\n",
            "Epoch 8/10\n",
            "1875/1875 [==============================] - 5s 3ms/step - loss: 0.0381 - accuracy: 0.9879 - val_loss: 0.0967 - val_accuracy: 0.9759\n",
            "Epoch 9/10\n",
            "1875/1875 [==============================] - 5s 3ms/step - loss: 0.0332 - accuracy: 0.9893 - val_loss: 0.1020 - val_accuracy: 0.9739\n",
            "Epoch 10/10\n",
            "1875/1875 [==============================] - 5s 3ms/step - loss: 0.0303 - accuracy: 0.9901 - val_loss: 0.1045 - val_accuracy: 0.9746\n"
          ]
        }
      ]
    },
    {
      "cell_type": "code",
      "metadata": {
        "colab": {
          "base_uri": "https://localhost:8080/"
        },
        "id": "hXm5APaodpcW",
        "outputId": "f62880d6-0373-4d6e-fa9c-5a8b0c110a2d"
      },
      "source": [
        "print('신경망 모델의 학습 결과 :')\n",
        "eval_loss, eval_acc = model.evaluate(x_test, y_test)\n",
        "print('test 데이터의 손실값', eval_loss, 'test 데이터의 정확도', eval_acc)"
      ],
      "execution_count": null,
      "outputs": [
        {
          "output_type": "stream",
          "name": "stdout",
          "text": [
            "신경망 모델의 학습 결과 :\n",
            "313/313 [==============================] - 1s 2ms/step - loss: 0.1045 - accuracy: 0.9746\n",
            "test 데이터의 손실값 0.10447640717029572 test 데이터의 정확도 0.9746000170707703\n"
          ]
        }
      ]
    },
    {
      "cell_type": "code",
      "metadata": {
        "colab": {
          "base_uri": "https://localhost:8080/",
          "height": 391
        },
        "id": "DJfdDxcjFoGn",
        "outputId": "db440355-986b-4ddb-ce88-f6c6b5502530"
      },
      "source": [
        "import pandas as pd\n",
        "pd.DataFrame(history.history).plot(figsize = (10, 6))"
      ],
      "execution_count": null,
      "outputs": [
        {
          "output_type": "execute_result",
          "data": {
            "text/plain": [
              "<matplotlib.axes._subplots.AxesSubplot at 0x7f0afcb32610>"
            ]
          },
          "metadata": {
            "tags": []
          },
          "execution_count": 3
        },
        {
          "output_type": "display_data",
          "data": {
            "image/png": "[encoded data removed]",
            "text/plain": [
              "<Figure size 720x432 with 1 Axes>"
            ]
          },
          "metadata": {
            "tags": [],
            "needs_background": "light"
          }
        }
      ]
    },
    {
      "cell_type": "code",
      "metadata": {
        "colab": {
          "base_uri": "https://localhost:8080/"
        },
        "id": "SBLllO3IT-b8",
        "outputId": "b1c46bce-293c-4f8a-ec71-fe966ac34199"
      },
      "source": [
        "# 더 많은 층을 가진 신경망 모델 만들기\n",
        "model = keras.models.Sequential( [\n",
        "    keras.layers.Flatten(input_shape = (28, 28)),\n",
        "    keras.layers.Dense(64, activation = 'relu'),\n",
        "    keras.layers.Dense(64, activation = 'relu'),\n",
        "    keras.layers.Dense(64, activation = 'relu'),\n",
        "    keras.layers.Dense(64, activation = 'relu'),\n",
        "    keras.layers.Dense(64, activation = 'relu'),\n",
        "    keras.layers.Dense(64, activation = 'relu'),\n",
        "    keras.layers.Dense(10, activation = 'softmax'),\n",
        "])\n",
        "model.compile(optimizer='adam', loss='sparse_categorical_crossentropy', metrics=['accuracy'])\n",
        "\n",
        "history = model.fit(x_train, y_train, epochs = 10, validation_data = (x_test, y_test))"
      ],
      "execution_count": null,
      "outputs": [
        {
          "output_type": "stream",
          "text": [
            "Epoch 1/10\n",
            "1875/1875 [==============================] - 6s 3ms/step - loss: 0.5277 - accuracy: 0.8331 - val_loss: 0.1436 - val_accuracy: 0.9579\n",
            "Epoch 2/10\n",
            "1875/1875 [==============================] - 5s 3ms/step - loss: 0.1396 - accuracy: 0.9577 - val_loss: 0.1357 - val_accuracy: 0.9603\n",
            "Epoch 3/10\n",
            "1875/1875 [==============================] - 5s 3ms/step - loss: 0.1028 - accuracy: 0.9695 - val_loss: 0.1385 - val_accuracy: 0.9603\n",
            "Epoch 4/10\n",
            "1875/1875 [==============================] - 5s 3ms/step - loss: 0.0863 - accuracy: 0.9745 - val_loss: 0.1158 - val_accuracy: 0.9652\n",
            "Epoch 5/10\n",
            "1875/1875 [==============================] - 5s 3ms/step - loss: 0.0718 - accuracy: 0.9787 - val_loss: 0.0972 - val_accuracy: 0.9730\n",
            "Epoch 6/10\n",
            "1875/1875 [==============================] - 5s 3ms/step - loss: 0.0604 - accuracy: 0.9815 - val_loss: 0.1045 - val_accuracy: 0.9713\n",
            "Epoch 7/10\n",
            "1875/1875 [==============================] - 5s 3ms/step - loss: 0.0516 - accuracy: 0.9846 - val_loss: 0.1015 - val_accuracy: 0.9735\n",
            "Epoch 8/10\n",
            "1875/1875 [==============================] - 5s 3ms/step - loss: 0.0475 - accuracy: 0.9849 - val_loss: 0.1204 - val_accuracy: 0.9676\n",
            "Epoch 9/10\n",
            "1875/1875 [==============================] - 5s 3ms/step - loss: 0.0465 - accuracy: 0.9865 - val_loss: 0.1059 - val_accuracy: 0.9727\n",
            "Epoch 10/10\n",
            "1875/1875 [==============================] - 5s 3ms/step - loss: 0.0410 - accuracy: 0.9879 - val_loss: 0.1044 - val_accuracy: 0.9733\n"
          ],
          "name": "stdout"
        }
      ]
    },
    {
      "cell_type": "code",
      "metadata": {
        "colab": {
          "base_uri": "https://localhost:8080/"
        },
        "id": "w-xpVVfid20Z",
        "outputId": "45ecb723-3e91-44c5-ea7f-f4a3aa8c9255"
      },
      "source": [
        "print('신경망 모델의 학습 결과 :')\n",
        "eval_loss, eval_acc = model.evaluate(x_test, y_test)\n",
        "print('test 데이터의 손실값', eval_loss, 'test 데이터의 정확도', eval_acc)"
      ],
      "execution_count": null,
      "outputs": [
        {
          "output_type": "stream",
          "text": [
            "신경망 모델의 학습 결과 :\n",
            "313/313 [==============================] - 0s 1ms/step - loss: 0.1044 - accuracy: 0.9733\n",
            "test 데이터의 손실값 0.10437579452991486 test 데이터의 정확도 0.9732999801635742\n"
          ],
          "name": "stdout"
        }
      ]
    },
    {
      "cell_type": "code",
      "metadata": {
        "colab": {
          "base_uri": "https://localhost:8080/",
          "height": 391
        },
        "id": "qsQ7AdhafLbd",
        "outputId": "1bbe34ba-4f0d-4e0f-ddc0-b5557acddf0d"
      },
      "source": [
        "import pandas as pd\n",
        "pd.DataFrame(history.history).plot(figsize = (10, 6))"
      ],
      "execution_count": null,
      "outputs": [
        {
          "output_type": "execute_result",
          "data": {
            "text/plain": [
              "<matplotlib.axes._subplots.AxesSubplot at 0x7f0afb2b8ad0>"
            ]
          },
          "metadata": {
            "tags": []
          },
          "execution_count": 10
        },
        {
          "output_type": "display_data",
          "data": {
            "image/png": "[encoded data removed]",
            "text/plain": [
              "<Figure size 720x432 with 1 Axes>"
            ]
          },
          "metadata": {
            "tags": [],
            "needs_background": "light"
          }
        }
      ]
    },
    {
      "cell_type": "markdown",
      "metadata": {
        "id": "Bfz_MgAvUEiS"
      },
      "source": [
        "### 8.16 학습데이터에만 최적화된 신경망 개선하기 : 드롭아웃"
      ]
    },
    {
      "cell_type": "code",
      "metadata": {
        "colab": {
          "base_uri": "https://localhost:8080/"
        },
        "id": "NQFkA7DjUFos",
        "outputId": "9c91f3f4-b98e-4220-88bd-5f79a90665af"
      },
      "source": [
        "data = np.arange(1, 11).reshape(2, 5).astype(np.float32)\n",
        "print(data)"
      ],
      "execution_count": null,
      "outputs": [
        {
          "output_type": "stream",
          "text": [
            "[[ 1.  2.  3.  4.  5.]\n",
            " [ 6.  7.  8.  9. 10.]]\n"
          ],
          "name": "stdout"
        }
      ]
    },
    {
      "cell_type": "code",
      "metadata": {
        "colab": {
          "base_uri": "https://localhost:8080/"
        },
        "id": "-r18IwkRUI9y",
        "outputId": "7faf9cae-6cb7-40bb-ae42-62a2563645e0"
      },
      "source": [
        "layer = tf.keras.layers.Dropout(.3, input_shape = (2, ))\n",
        "outputs = layer(data, training=True)\n",
        "print(outputs)"
      ],
      "execution_count": null,
      "outputs": [
        {
          "output_type": "stream",
          "text": [
            "tf.Tensor(\n",
            "[[ 0.        2.857143  4.285714  0.        0.      ]\n",
            " [ 8.571428 10.       11.428572  0.        0.      ]], shape=(2, 5), dtype=float32)\n"
          ],
          "name": "stdout"
        }
      ]
    },
    {
      "cell_type": "code",
      "metadata": {
        "colab": {
          "base_uri": "https://localhost:8080/",
          "height": 409
        },
        "id": "lyZAztB6UJRy",
        "outputId": "35398bc8-b843-4657-cbdb-c8448b4482c5"
      },
      "source": [
        "import tensorflow as tf\n",
        "from tensorflow import keras\n",
        "import numpy as np\n",
        "import matplotlib.pyplot as plt\n",
        "\n",
        "mnist = tf.keras.datasets.mnist\n",
        "\n",
        "(x_train, y_train), (x_test, y_test) = mnist.load_data()\n",
        "\n",
        "x_train, x_test = x_train / 255, x_test / 255  # 입력값 정규화\n",
        "\n",
        "# 드롭아웃 계층을 가진 신경망 모델 만들기\n",
        "model = keras.models.Sequential( [\n",
        "    keras.layers.Flatten(input_shape = (28, 28)),\n",
        "    keras.layers.Dropout(0.2),\n",
        "    keras.layers.Dense(64, activation = 'relu'),\n",
        "    keras.layers.Dropout(0.2),\n",
        "    keras.layers.Dense(64, activation = 'relu'),\n",
        "    keras.layers.Dropout(0.2),\n",
        "    keras.layers.Dense(64, activation = 'relu'),\n",
        "    keras.layers.Dropout(0.2),\n",
        "    keras.layers.Dense(64, activation = 'relu'),\n",
        "    keras.layers.Dropout(0.2),\n",
        "    keras.layers.Dense(64, activation = 'relu'),\n",
        "    keras.layers.Dropout(0.2),\n",
        "    keras.layers.Dense(64, activation = 'relu'),\n",
        "    keras.layers.Dropout(0.2),\n",
        "    keras.layers.Dense(10, activation = 'softmax'),\n",
        "])\n",
        "model.compile(optimizer='adam', loss='sparse_categorical_crossentropy', metrics=['accuracy'])\n",
        "history = model.fit(x_train, y_train, epochs = 10, validation_data = (x_test, y_test))\n",
        "'''\n",
        "model = keras.models.Sequential( [\n",
        "    keras.layers.Flatten(input_shape = (28, 28)),\n",
        "    keras.layers.Dropout(0.2),\n",
        "    keras.layers.Dense(256, activation= 'relu'),\n",
        "    keras.layers.Dropout(0.2),\n",
        "    keras.layers.Dense(10, activation= 'softmax'),\n",
        "])\n",
        "# 이전 모델과 동일한 하이퍼파라미터로 컴파일하고 피팅함\n",
        "model.compile(optimizer='adam', loss='sparse_categorical_crossentropy', metrics=['accuracy'])\n",
        "model.fit(x_train, y_train, epochs = 10)\n",
        "'''"
      ],
      "execution_count": null,
      "outputs": [
        {
          "output_type": "stream",
          "text": [
            "Epoch 1/10\n",
            "1875/1875 [==============================] - 7s 3ms/step - loss: 1.1105 - accuracy: 0.6140 - val_loss: 0.2326 - val_accuracy: 0.9380\n",
            "Epoch 2/10\n",
            "1875/1875 [==============================] - 6s 3ms/step - loss: 0.3758 - accuracy: 0.9009 - val_loss: 0.1858 - val_accuracy: 0.9490\n",
            "Epoch 3/10\n",
            "1875/1875 [==============================] - 6s 3ms/step - loss: 0.3102 - accuracy: 0.9193 - val_loss: 0.1568 - val_accuracy: 0.9574\n",
            "Epoch 4/10\n",
            "1875/1875 [==============================] - 6s 3ms/step - loss: 0.2729 - accuracy: 0.9289 - val_loss: 0.1496 - val_accuracy: 0.9599\n",
            "Epoch 5/10\n",
            "1875/1875 [==============================] - 6s 3ms/step - loss: 0.2521 - accuracy: 0.9359 - val_loss: 0.1392 - val_accuracy: 0.9637\n",
            "Epoch 6/10\n",
            "1875/1875 [==============================] - 6s 3ms/step - loss: 0.2390 - accuracy: 0.9384 - val_loss: 0.1271 - val_accuracy: 0.9662\n",
            "Epoch 7/10\n",
            "1875/1875 [==============================] - 6s 3ms/step - loss: 0.2302 - accuracy: 0.9407 - val_loss: 0.1242 - val_accuracy: 0.9661\n",
            "Epoch 8/10\n",
            "1875/1875 [==============================] - 6s 3ms/step - loss: 0.2233 - accuracy: 0.9425 - val_loss: 0.1247 - val_accuracy: 0.9662\n",
            "Epoch 9/10\n",
            "1875/1875 [==============================] - 6s 3ms/step - loss: 0.2132 - accuracy: 0.9447 - val_loss: 0.1187 - val_accuracy: 0.9682\n",
            "Epoch 10/10\n",
            "1875/1875 [==============================] - 6s 3ms/step - loss: 0.2024 - accuracy: 0.9470 - val_loss: 0.1234 - val_accuracy: 0.9665\n"
          ],
          "name": "stdout"
        },
        {
          "output_type": "execute_result",
          "data": {
            "application/vnd.google.colaboratory.intrinsic+json": {
              "type": "string"
            },
            "text/plain": [
              "\"\\nmodel = keras.models.Sequential( [\\n    keras.layers.Flatten(input_shape = (28, 28)),\\n    keras.layers.Dropout(0.2),\\n    keras.layers.Dense(256, activation= 'relu'),\\n    keras.layers.Dropout(0.2),\\n    keras.layers.Dense(10, activation= 'softmax'),\\n])\\n# 이전 모델과 동일한 하이퍼파라미터로 컴파일하고 피팅함\\nmodel.compile(optimizer='adam', loss='sparse_categorical_crossentropy', metrics=['accuracy'])\\nmodel.fit(x_train, y_train, epochs = 10)\\n\""
            ]
          },
          "metadata": {
            "tags": []
          },
          "execution_count": 21
        }
      ]
    },
    {
      "cell_type": "code",
      "metadata": {
        "colab": {
          "base_uri": "https://localhost:8080/",
          "height": 281
        },
        "id": "uL5CKZM3Udlv",
        "outputId": "e14bd7fa-265a-4f3d-ac55-68266bd62df7"
      },
      "source": [
        "print('드롭아웃 노드를 가진 다층 신경망 모델의 학습 결과 :')\n",
        "print(model.evaluate(x_test, y_test))\n",
        "\n",
        "import pandas as pd\n",
        "pd.DataFrame(history.history).plot(figsize = (5, 3))"
      ],
      "execution_count": null,
      "outputs": [
        {
          "output_type": "stream",
          "text": [
            "드롭아웃 노드를 가진 다층 신경망 모델의 학습 결과 :\n",
            "313/313 [==============================] - 0s 1ms/step - loss: 0.1234 - accuracy: 0.9665\n",
            "[0.12339023500680923, 0.9664999842643738]\n"
          ],
          "name": "stdout"
        },
        {
          "output_type": "execute_result",
          "data": {
            "text/plain": [
              "<matplotlib.axes._subplots.AxesSubplot at 0x7f0af95bcbd0>"
            ]
          },
          "metadata": {
            "tags": []
          },
          "execution_count": 24
        },
        {
          "output_type": "display_data",
          "data": {
            "image/png": "[encoded data removed]",
            "text/plain": [
              "<Figure size 360x216 with 1 Axes>"
            ]
          },
          "metadata": {
            "tags": [],
            "needs_background": "light"
          }
        }
      ]
    },
    {
      "cell_type": "markdown",
      "metadata": {
        "id": "zXCEIczQUzlr"
      },
      "source": [
        "### LAB 8-1: Fashion-MNIST 데이터 분류하기"
      ]
    },
    {
      "cell_type": "code",
      "metadata": {
        "id": "hjYQDZmSU2_f"
      },
      "source": [
        "# tensorflow와 tf.keras를 임포트한다\n",
        "import tensorflow as tf\n",
        "from tensorflow import keras\n",
        "import numpy as np\n",
        "import matplotlib.pyplot as plt"
      ],
      "execution_count": null,
      "outputs": []
    },
    {
      "cell_type": "code",
      "metadata": {
        "id": "YnQ3X_itU5ZA",
        "colab": {
          "base_uri": "https://localhost:8080/"
        },
        "outputId": "eddcaa1a-1bd9-4176-faa1-ed38d9c9f692"
      },
      "source": [
        "# 패션 MNIST 데이터는 keras의 데이터셋에 있으며, 이를 학습용, 테스트 데이터로 구분하자\n",
        "fashion_mnist = keras.datasets.fashion_mnist\n",
        "(train_images, train_labels), (test_images, test_labels) = fashion_mnist.load_data()"
      ],
      "execution_count": null,
      "outputs": [
        {
          "output_type": "stream",
          "text": [
            "Downloading data from https://storage.googleapis.com/tensorflow/tf-keras-datasets/train-labels-idx1-ubyte.gz\n",
            "32768/29515 [=================================] - 0s 0us/step\n",
            "Downloading data from https://storage.googleapis.com/tensorflow/tf-keras-datasets/train-images-idx3-ubyte.gz\n",
            "26427392/26421880 [==============================] - 0s 0us/step\n",
            "Downloading data from https://storage.googleapis.com/tensorflow/tf-keras-datasets/t10k-labels-idx1-ubyte.gz\n",
            "8192/5148 [===============================================] - 0s 0us/step\n",
            "Downloading data from https://storage.googleapis.com/tensorflow/tf-keras-datasets/t10k-images-idx3-ubyte.gz\n",
            "4423680/4422102 [==============================] - 0s 0us/step\n"
          ],
          "name": "stdout"
        }
      ]
    },
    {
      "cell_type": "code",
      "metadata": {
        "colab": {
          "base_uri": "https://localhost:8080/"
        },
        "id": "fdjxg7uVU6-7",
        "outputId": "0b67e8ad-6a84-4dac-96c7-cbc44402c644"
      },
      "source": [
        "print(train_images.shape)  # 학습 이미지의 형태와 레이블을 출력한다\n",
        "print(train_labels)\n",
        "print(test_images.shape)"
      ],
      "execution_count": null,
      "outputs": [
        {
          "output_type": "stream",
          "text": [
            "(60000, 28, 28)\n",
            "[9 0 0 ... 3 0 5]\n",
            "(10000, 28, 28)\n"
          ],
          "name": "stdout"
        }
      ]
    },
    {
      "cell_type": "code",
      "metadata": {
        "colab": {
          "base_uri": "https://localhost:8080/",
          "height": 149
        },
        "id": "Z_ZWeFxkU-FX",
        "outputId": "e3ed6a5a-0347-40bd-e454-9ac6a095a188"
      },
      "source": [
        "fig = plt.figure()\n",
        "ax1 = fig.add_subplot(1, 3, 1)\n",
        "ax2 = fig.add_subplot(1, 3, 2)\n",
        "ax3 = fig.add_subplot(1, 3, 3)\n",
        "\n",
        "ax1.imshow(train_images[0])       # 첫 번째 훈련용 데이터\n",
        "ax2.imshow(train_images[1])       # 두 번째 훈련용 데이터\n",
        "ax3.imshow(train_images[2])       # 세 번째 훈련용 데이터\n",
        "plt.show()"
      ],
      "execution_count": null,
      "outputs": [
        {
          "output_type": "display_data",
          "data": {
            "image/png": "[encoded data removed]",
            "text/plain": [
              "<Figure size 432x288 with 3 Axes>"
            ]
          },
          "metadata": {
            "tags": [],
            "needs_background": "light"
          }
        }
      ]
    },
    {
      "cell_type": "code",
      "metadata": {
        "colab": {
          "base_uri": "https://localhost:8080/"
        },
        "id": "1akUvfBxU_nx",
        "outputId": "e10a02fb-0369-494f-f540-fc5dba93aa40"
      },
      "source": [
        "print(train_labels[:3])"
      ],
      "execution_count": null,
      "outputs": [
        {
          "output_type": "stream",
          "text": [
            "[9 0 0]\n"
          ],
          "name": "stdout"
        }
      ]
    },
    {
      "cell_type": "code",
      "metadata": {
        "id": "MYpihYCBVB3_"
      },
      "source": [
        "# 0-255 구간의 픽셀을 정규화한다\n",
        "train_images, test_images = train_images / 255, test_images / 255\n",
        "# 순차 심층 신경망 모델을 만들자\n",
        "model = keras.models.Sequential( [\n",
        "   keras.layers.Flatten(input_shape=(28, 28)),\n",
        "   keras.layers.Dropout(0.2),\n",
        "   keras.layers.Dense(128, activation= 'relu'),\n",
        "   keras.layers.Dense(32, activation= 'relu'),\n",
        "   keras.layers.Dense(10, activation= 'softmax'),\n",
        "])"
      ],
      "execution_count": null,
      "outputs": []
    },
    {
      "cell_type": "code",
      "metadata": {
        "colab": {
          "base_uri": "https://localhost:8080/"
        },
        "id": "PTIo6_4hVDNf",
        "outputId": "7d54824a-68af-48c7-bf19-2ff5ee42cb16"
      },
      "source": [
        "model.compile(optimizer='adam',\n",
        "             loss='sparse_categorical_crossentropy',\n",
        "             metrics=['accuracy'])\n",
        "history = model.fit(train_images, train_labels, batch_size=64,\n",
        "                    epochs=10, validation_split=0.25)"
      ],
      "execution_count": null,
      "outputs": [
        {
          "output_type": "stream",
          "text": [
            "Epoch 1/10\n",
            "704/704 [==============================] - 4s 5ms/step - loss: 0.8124 - accuracy: 0.7196 - val_loss: 0.4505 - val_accuracy: 0.8441\n",
            "Epoch 2/10\n",
            "704/704 [==============================] - 3s 4ms/step - loss: 0.4536 - accuracy: 0.8399 - val_loss: 0.4102 - val_accuracy: 0.8533\n",
            "Epoch 3/10\n",
            "704/704 [==============================] - 3s 4ms/step - loss: 0.4035 - accuracy: 0.8553 - val_loss: 0.3854 - val_accuracy: 0.8607\n",
            "Epoch 4/10\n",
            "704/704 [==============================] - 3s 4ms/step - loss: 0.3792 - accuracy: 0.8600 - val_loss: 0.3671 - val_accuracy: 0.8691\n",
            "Epoch 5/10\n",
            "704/704 [==============================] - 3s 4ms/step - loss: 0.3566 - accuracy: 0.8692 - val_loss: 0.3493 - val_accuracy: 0.8721\n",
            "Epoch 6/10\n",
            "704/704 [==============================] - 3s 4ms/step - loss: 0.3477 - accuracy: 0.8720 - val_loss: 0.3593 - val_accuracy: 0.8665\n",
            "Epoch 7/10\n",
            "704/704 [==============================] - 3s 4ms/step - loss: 0.3224 - accuracy: 0.8805 - val_loss: 0.3243 - val_accuracy: 0.8791\n",
            "Epoch 8/10\n",
            "704/704 [==============================] - 3s 4ms/step - loss: 0.3227 - accuracy: 0.8793 - val_loss: 0.3312 - val_accuracy: 0.8776\n",
            "Epoch 9/10\n",
            "704/704 [==============================] - 3s 4ms/step - loss: 0.3108 - accuracy: 0.8852 - val_loss: 0.3153 - val_accuracy: 0.8843\n",
            "Epoch 10/10\n",
            "704/704 [==============================] - 3s 4ms/step - loss: 0.3069 - accuracy: 0.8827 - val_loss: 0.3338 - val_accuracy: 0.8798\n"
          ],
          "name": "stdout"
        }
      ]
    },
    {
      "cell_type": "code",
      "metadata": {
        "colab": {
          "base_uri": "https://localhost:8080/",
          "height": 283
        },
        "id": "jwcEg2h2VE1d",
        "outputId": "26133bd2-0607-4b2c-e9d3-42a68afd5784"
      },
      "source": [
        "plt.plot(history.history['loss'], 'b-')\n",
        "plt.plot(history.history['val_loss'], 'r--')"
      ],
      "execution_count": null,
      "outputs": [
        {
          "output_type": "execute_result",
          "data": {
            "text/plain": [
              "[<matplotlib.lines.Line2D at 0x7f3fd0767850>]"
            ]
          },
          "metadata": {
            "tags": []
          },
          "execution_count": 8
        },
        {
          "output_type": "display_data",
          "data": {
            "image/png": "[encoded data removed]",
            "text/plain": [
              "<Figure size 432x288 with 1 Axes>"
            ]
          },
          "metadata": {
            "tags": [],
            "needs_background": "light"
          }
        }
      ]
    },
    {
      "cell_type": "code",
      "metadata": {
        "colab": {
          "base_uri": "https://localhost:8080/",
          "height": 283
        },
        "id": "LDFsxZScVkBa",
        "outputId": "4631568f-79ad-4541-9fd8-5f56e7a95f6a"
      },
      "source": [
        "plt.plot(history.history['accuracy'], 'b-')\n",
        "plt.plot(history.history['val_accuracy'], 'r--')"
      ],
      "execution_count": null,
      "outputs": [
        {
          "output_type": "execute_result",
          "data": {
            "text/plain": [
              "[<matplotlib.lines.Line2D at 0x7f3fcf6bc8d0>]"
            ]
          },
          "metadata": {
            "tags": []
          },
          "execution_count": 9
        },
        {
          "output_type": "display_data",
          "data": {
            "image/png": "[encoded data removed]",
            "text/plain": [
              "<Figure size 432x288 with 1 Axes>"
            ]
          },
          "metadata": {
            "tags": [],
            "needs_background": "light"
          }
        }
      ]
    },
    {
      "cell_type": "code",
      "metadata": {
        "colab": {
          "base_uri": "https://localhost:8080/"
        },
        "id": "xafq7UJZVlnA",
        "outputId": "bce08041-a3df-446d-e592-c8cb2df34c0a"
      },
      "source": [
        "test_loss, test_acc = model.evaluate(test_images,  test_labels, verbose=2)\n",
        "print('테스트 정확도:', test_acc)"
      ],
      "execution_count": null,
      "outputs": [
        {
          "output_type": "stream",
          "text": [
            "313/313 - 0s - loss: 0.3548 - accuracy: 0.8732\n",
            "테스트 정확도: 0.873199999332428\n"
          ],
          "name": "stdout"
        }
      ]
    },
    {
      "cell_type": "code",
      "metadata": {
        "colab": {
          "base_uri": "https://localhost:8080/",
          "height": 283
        },
        "id": "sMw1Fu2RV3PR",
        "outputId": "c94dfe5c-5e5e-4df3-843c-9dac3f26db82"
      },
      "source": [
        "randIdx = np.random.randint(0, 1000)\n",
        "plt.imshow(test_images[randIdx])"
      ],
      "execution_count": null,
      "outputs": [
        {
          "output_type": "execute_result",
          "data": {
            "text/plain": [
              "<matplotlib.image.AxesImage at 0x7f3fcf644890>"
            ]
          },
          "metadata": {
            "tags": []
          },
          "execution_count": 11
        },
        {
          "output_type": "display_data",
          "data": {
            "image/png": "[encoded data removed]",
            "text/plain": [
              "<Figure size 432x288 with 1 Axes>"
            ]
          },
          "metadata": {
            "tags": [],
            "needs_background": "light"
          }
        }
      ]
    },
    {
      "cell_type": "code",
      "metadata": {
        "colab": {
          "base_uri": "https://localhost:8080/"
        },
        "id": "PXIyVjFRV56y",
        "outputId": "ac76d2b8-7844-4796-c005-7f20e8f5dc3d"
      },
      "source": [
        "print(test_images[randIdx].shape)\n",
        "new_image = test_images[randIdx][np.newaxis, :, :]\n",
        "print(new_image.shape)\n",
        "\n",
        "yhat = model.predict(new_image)\n",
        "print(yhat.round(3))    # 소수점 아래 세 자리 정확도로 살펴보자"
      ],
      "execution_count": null,
      "outputs": [
        {
          "output_type": "stream",
          "text": [
            "(28, 28)\n",
            "(1, 28, 28)\n",
            "[[0.605 0.015 0.002 0.122 0.001 0.    0.255 0.    0.001 0.   ]]\n"
          ],
          "name": "stdout"
        }
      ]
    },
    {
      "cell_type": "code",
      "metadata": {
        "colab": {
          "base_uri": "https://localhost:8080/"
        },
        "id": "uUXaLkOZV7wJ",
        "outputId": "9518ca1f-bef9-4e83-b9b6-6cfb5d05973e"
      },
      "source": [
        "yhat = np.argmax( model.predict( test_images[randIdx][np.newaxis, :, :]) )\n",
        "yhat"
      ],
      "execution_count": null,
      "outputs": [
        {
          "output_type": "execute_result",
          "data": {
            "text/plain": [
              "0"
            ]
          },
          "metadata": {
            "tags": []
          },
          "execution_count": 17
        }
      ]
    },
    {
      "cell_type": "code",
      "metadata": {
        "id": "TRiL39JkV9fB"
      },
      "source": [
        "class_names = ['T-shirt/top', 'Trouser', 'Pullover', 'Dress', 'Coat',\n",
        "              'Sandal', 'Shirt', 'Sneaker', 'Bag', 'Ankle boot']"
      ],
      "execution_count": null,
      "outputs": []
    },
    {
      "cell_type": "code",
      "metadata": {
        "colab": {
          "base_uri": "https://localhost:8080/"
        },
        "id": "FsZz83EeV_Pm",
        "outputId": "4e3cae17-dc14-4689-d296-59da2efd857d"
      },
      "source": [
        "print(class_names[yhat])"
      ],
      "execution_count": null,
      "outputs": [
        {
          "output_type": "stream",
          "text": [
            "T-shirt/top\n"
          ],
          "name": "stdout"
        }
      ]
    },
    {
      "cell_type": "code",
      "metadata": {
        "id": "3JYR2RTEWAke"
      },
      "source": [
        "def plot_images(images, labels, images_per_row=5):\n",
        "  n_images = len(images)\n",
        "  n_rows = (n_images-1) // images_per_row + 1\n",
        "  fig, ax = plt.subplots(n_rows, images_per_row, \n",
        "                         figsize = (images_per_row * 2, n_rows * 2))\n",
        "  for i in range(n_rows):\n",
        "      for j in range(images_per_row):\n",
        "          if i*images_per_row + j >= n_images: break\n",
        "          img_idx = i*images_per_row + j\n",
        "          a_image = images[img_idx].reshape(28,28)\n",
        "          if n_rows>1: axis = ax[i, j]\n",
        "          else: axis = ax[j]\n",
        "          axis.get_xaxis().set_visible(False)\n",
        "          axis.get_yaxis().set_visible(False)\n",
        "          label = class_names[labels[img_idx]]\n",
        "          axis.set_title(label)\n",
        "          axis.imshow(a_image, interpolation='nearest')"
      ],
      "execution_count": null,
      "outputs": []
    },
    {
      "cell_type": "code",
      "metadata": {
        "colab": {
          "base_uri": "https://localhost:8080/",
          "height": 612
        },
        "id": "T6aMKN3eWETc",
        "outputId": "520f5d87-24f7-460d-b6fe-eb4cbd322d18"
      },
      "source": [
        "images = test_images[:25]\n",
        "predictions = np.argmax(model.predict(images), axis=1)\n",
        "print(predictions)\n",
        "plot_images(images, predictions, images_per_row = 5)"
      ],
      "execution_count": null,
      "outputs": [
        {
          "output_type": "stream",
          "text": [
            "[9 2 1 1 6 1 4 6 5 7 4 5 7 3 4 1 2 2 8 0 2 5 7 9 1]\n"
          ],
          "name": "stdout"
        },
        {
          "output_type": "display_data",
          "data": {
            "image/png": "[encoded data removed]",
            "text/plain": [
              "<Figure size 720x720 with 25 Axes>"
            ]
          },
          "metadata": {
            "tags": [],
            "needs_background": "light"
          }
        }
      ]
    },
    {
      "cell_type": "markdown",
      "metadata": {
        "id": "YfALS1svNMFF"
      },
      "source": [
        "### 13.11 "
      ]
    },
    {
      "cell_type": "code",
      "metadata": {
        "colab": {
          "base_uri": "https://localhost:8080/"
        },
        "id": "PbqwdSVcQQNs",
        "outputId": "7a269812-8ff9-42ff-b941-a3f6f769b660"
      },
      "source": [
        "# tensorflow와 tf.keras를 임포트한다\n",
        "import tensorflow as tf\n",
        "from tensorflow import keras\n",
        "import numpy as np\n",
        "import matplotlib.pyplot as plt\n",
        "\n",
        "# 패션 MNIST 데이터는 keras의 데이터셋에 있으며, 이를 학습용, 테스트 데이터로 구분하자\n",
        "fashion_mnist = keras.datasets.fashion_mnist\n",
        "(train_images, train_labels), (test_images, test_labels) = fashion_mnist.load_data()"
      ],
      "execution_count": null,
      "outputs": [
        {
          "output_type": "stream",
          "name": "stdout",
          "text": [
            "Downloading data from https://storage.googleapis.com/tensorflow/tf-keras-datasets/train-labels-idx1-ubyte.gz\n",
            "32768/29515 [=================================] - 0s 0us/step\n",
            "40960/29515 [=========================================] - 0s 0us/step\n",
            "Downloading data from https://storage.googleapis.com/tensorflow/tf-keras-datasets/train-images-idx3-ubyte.gz\n",
            "26427392/26421880 [==============================] - 0s 0us/step\n",
            "26435584/26421880 [==============================] - 0s 0us/step\n",
            "Downloading data from https://storage.googleapis.com/tensorflow/tf-keras-datasets/t10k-labels-idx1-ubyte.gz\n",
            "16384/5148 [===============================================================================================] - 0s 0us/step\n",
            "Downloading data from https://storage.googleapis.com/tensorflow/tf-keras-datasets/t10k-images-idx3-ubyte.gz\n",
            "4423680/4422102 [==============================] - 0s 0us/step\n",
            "4431872/4422102 [==============================] - 0s 0us/step\n"
          ]
        }
      ]
    },
    {
      "cell_type": "code",
      "metadata": {
        "id": "RK8_ORBHQQtQ"
      },
      "source": [
        "train_images = train_images[:, :, :, np.newaxis]\n",
        "test_images = test_images[:, :, :, np.newaxis]"
      ],
      "execution_count": null,
      "outputs": []
    },
    {
      "cell_type": "code",
      "metadata": {
        "id": "VpQIxdPBQV8Y"
      },
      "source": [
        "model = keras.models.Sequential( [\n",
        "    keras.layers.Conv2D(input_shape = (28, 28, 1),\n",
        "                        kernel_size = (3,3), padding = 'same', \n",
        "                        filters = 32),\n",
        "    keras.layers.MaxPooling2D((2, 2), strides=2),\n",
        "    keras.layers.Conv2D(kernel_size = (3,3), padding ='same', \n",
        "                        filters = 64),\n",
        "    keras.layers.MaxPooling2D((2, 2), strides=2),\n",
        "    keras.layers.Conv2D(kernel_size = (3,3), padding = 'same', \n",
        "                        filters = 32),\n",
        "    keras.layers.Flatten(),\n",
        "    keras.layers.Dense(128, activation = 'relu'),\n",
        "    keras.layers.Dense(32, activation = 'relu'),\n",
        "    keras.layers.Dense(10, activation = 'softmax'),\n",
        "])"
      ],
      "execution_count": null,
      "outputs": []
    },
    {
      "cell_type": "code",
      "metadata": {
        "colab": {
          "base_uri": "https://localhost:8080/"
        },
        "id": "e8YYUSiQQas1",
        "outputId": "9ab072cf-66d1-4c59-a59b-63b2c031fac3"
      },
      "source": [
        "model.summary()"
      ],
      "execution_count": null,
      "outputs": [
        {
          "output_type": "stream",
          "name": "stdout",
          "text": [
            "Model: \"sequential\"\n",
            "_________________________________________________________________\n",
            "Layer (type)                 Output Shape              Param #   \n",
            "=================================================================\n",
            "conv2d (Conv2D)              (None, 28, 28, 32)        320       \n",
            "_________________________________________________________________\n",
            "max_pooling2d (MaxPooling2D) (None, 14, 14, 32)        0         \n",
            "_________________________________________________________________\n",
            "conv2d_1 (Conv2D)            (None, 14, 14, 64)        18496     \n",
            "_________________________________________________________________\n",
            "max_pooling2d_1 (MaxPooling2 (None, 7, 7, 64)          0         \n",
            "_________________________________________________________________\n",
            "conv2d_2 (Conv2D)            (None, 7, 7, 32)          18464     \n",
            "_________________________________________________________________\n",
            "flatten (Flatten)            (None, 1568)              0         \n",
            "_________________________________________________________________\n",
            "dense (Dense)                (None, 128)               200832    \n",
            "_________________________________________________________________\n",
            "dense_1 (Dense)              (None, 32)                4128      \n",
            "_________________________________________________________________\n",
            "dense_2 (Dense)              (None, 10)                330       \n",
            "=================================================================\n",
            "Total params: 242,570\n",
            "Trainable params: 242,570\n",
            "Non-trainable params: 0\n",
            "_________________________________________________________________\n"
          ]
        }
      ]
    },
    {
      "cell_type": "code",
      "metadata": {
        "colab": {
          "base_uri": "https://localhost:8080/"
        },
        "id": "8czijCb5QdHO",
        "outputId": "56aa18d5-4dd0-4035-bdf6-a4955cff5c98"
      },
      "source": [
        "model.compile(optimizer='adam',\n",
        "             loss='sparse_categorical_crossentropy',\n",
        "             metrics=['accuracy'])\n",
        "hist = model.fit(train_images, train_labels, \n",
        "                    epochs=5, validation_split=0.25)"
      ],
      "execution_count": null,
      "outputs": [
        {
          "output_type": "stream",
          "name": "stdout",
          "text": [
            "Epoch 1/5\n",
            "1407/1407 [==============================] - 68s 48ms/step - loss: 0.9955 - accuracy: 0.6989 - val_loss: 0.6009 - val_accuracy: 0.7840\n",
            "Epoch 2/5\n",
            "1407/1407 [==============================] - 68s 48ms/step - loss: 0.4433 - accuracy: 0.8329 - val_loss: 0.4090 - val_accuracy: 0.8565\n",
            "Epoch 3/5\n",
            "1407/1407 [==============================] - 68s 49ms/step - loss: 0.3480 - accuracy: 0.8764 - val_loss: 0.3642 - val_accuracy: 0.8687\n",
            "Epoch 4/5\n",
            "1407/1407 [==============================] - 69s 49ms/step - loss: 0.3131 - accuracy: 0.8896 - val_loss: 0.3626 - val_accuracy: 0.8753\n",
            "Epoch 5/5\n",
            "1407/1407 [==============================] - 70s 50ms/step - loss: 0.2810 - accuracy: 0.8987 - val_loss: 0.3129 - val_accuracy: 0.8953\n"
          ]
        }
      ]
    },
    {
      "cell_type": "code",
      "metadata": {
        "id": "i5VGmspRQhnr"
      },
      "source": [
        "plt.plot(hist.history['loss'], 'b-')\n",
        "plt.plot(hist.history['val_loss'], 'r--')"
      ],
      "execution_count": null,
      "outputs": []
    },
    {
      "cell_type": "code",
      "metadata": {
        "id": "xvu4KhbOQu0e"
      },
      "source": [
        "plt.plot(history.history['accuracy'], 'b-')\n",
        "plt.plot(history.history['val_accuracy'], 'r--')"
      ],
      "execution_count": null,
      "outputs": []
    },
    {
      "cell_type": "code",
      "metadata": {
        "id": "n13cUbcfQx2_"
      },
      "source": [
        "test_loss, test_acc = model.evaluate(test_images,  test_labels, verbose=2)\n",
        "print('테스트 정확도:', test_acc)"
      ],
      "execution_count": null,
      "outputs": []
    },
    {
      "cell_type": "code",
      "metadata": {
        "id": "58V8On_kQ0FL"
      },
      "source": [
        "class_names = ['T-shirt/top', 'Trouser', 'Pullover', 'Dress', 'Coat',\n",
        "              'Sandal', 'Shirt', 'Sneaker', 'Bag', 'Ankle boot']"
      ],
      "execution_count": null,
      "outputs": []
    },
    {
      "cell_type": "code",
      "metadata": {
        "id": "vl6QctYgQ2Wl"
      },
      "source": [
        "randIdx = np.random.randint(0, 1000)\n",
        "\n",
        "images = test_images[randIdx:randIdx+25]\n",
        "predictions = np.argmax(model.predict(images), axis=1)\n",
        "print(predictions)"
      ],
      "execution_count": null,
      "outputs": []
    },
    {
      "cell_type": "code",
      "metadata": {
        "id": "nanQx3IlQ52B"
      },
      "source": [
        "def plot_images(images, labels, images_per_row=5):\n",
        " n_images = len(images)\n",
        " n_rows = (n_images-1) // images_per_row + 1\n",
        " fig, ax = plt.subplots(n_rows, images_per_row,\n",
        "                        figsize = (images_per_row * 2, n_rows * 2))\n",
        " for i in range(n_rows):\n",
        "     for j in range(images_per_row):\n",
        "         if i*images_per_row + j >= n_images: break\n",
        "         img_idx = i*images_per_row + j\n",
        "         a_image = images[img_idx].reshape(28,28)\n",
        "         if n_rows>1: axis = ax[i, j]\n",
        "         else: axis = ax[j]\n",
        "         axis.get_xaxis().set_visible(False)\n",
        "         axis.get_yaxis().set_visible(False)\n",
        "         label = class_names[labels[img_idx]]\n",
        "         axis.set_title(label)\n",
        "         axis.imshow(a_image, cmap='gray', interpolation='nearest')\n",
        "\n",
        "plot_images(images, predictions, images_per_row = 5)"
      ],
      "execution_count": null,
      "outputs": []
    }
  ]
}