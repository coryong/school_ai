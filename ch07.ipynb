{
  "cells": [
    {
      "cell_type": "markdown",
      "metadata": {
        "id": "Dy02-fC3n8-R"
      },
      "source": [
        "# **생능 출판사 \"으뜸 머신러닝\"(1판) 교재의 소스 코드**\n",
        "# *7장 인공신경망기초 코드*\n",
        "---\n",
        "* 출판사 : 생능 출판사( http://www.booksr.co.kr/ )\n",
        "* 으뜸 머신러닝 저자 : 강영민, 박동규, 김성수\n",
        "*  소스코드 저장소 : https://github.com/dknife/ML\n",
        "*  저작권 : 본 주피터 노트북 코드는 자유롭게 배포가능하지만 위의 출판사, 저서, 저자표기와 함께 배포해 주십시오.\n",
        "---"
      ]
    },
    {
      "cell_type": "markdown",
      "metadata": {
        "id": "nAvj_4BzNFS1"
      },
      "source": [
        "### 7.1 뇌의 동작을 흉내내자 - 연결주의자의 목표"
      ]
    },
    {
      "cell_type": "markdown",
      "metadata": {
        "id": "gniLrbBTNJUc"
      },
      "source": [
        "### 7.2 학습할 수 있는 신경 모델 - 퍼셉트론"
      ]
    },
    {
      "cell_type": "markdown",
      "metadata": {
        "id": "VaIW_6TKmwjv"
      },
      "source": [
        "### LAB 7-1: AND / OR 연산을 수행하는 퍼셉트론"
      ]
    },
    {
      "cell_type": "code",
      "execution_count": null,
      "metadata": {
        "id": "Dwc2cmuAmvhH"
      },
      "outputs": [],
      "source": [
        "import numpy as np\n",
        "\n",
        "W, b = np.array([0.5, 0.5]), -0.7"
      ]
    },
    {
      "cell_type": "code",
      "execution_count": null,
      "metadata": {
        "id": "8WA__fbPoeQF"
      },
      "outputs": [],
      "source": [
        "def perceptron(x1, x2):\n",
        "    x = np.array([x1, x2])\n",
        "    tmp = np.sum( W * x ) + b\n",
        "    if tmp <= 0: return -1\n",
        "    else: return 1"
      ]
    },
    {
      "cell_type": "code",
      "execution_count": null,
      "metadata": {
        "colab": {
          "base_uri": "https://localhost:8080/"
        },
        "id": "FskqnhQVomul",
        "outputId": "3fb0fab4-0769-4b85-db5c-e58a4dc8ad2f"
      },
      "outputs": [
        {
          "name": "stdout",
          "output_type": "stream",
          "text": [
            "--- 퍼셉트론으로 구현한 AND 게이트 ---\n",
            "(-1, -1) :  -1\n",
            "(-1, 1) :  -1\n",
            "(1, -1) :  -1\n",
            "(1, 1) :  1\n"
          ]
        }
      ],
      "source": [
        "print('--- 퍼셉트론으로 구현한 AND 게이트 ---')\n",
        "for xs in [(-1, -1), (-1, 1), (1, -1), (1, 1)]:\n",
        "    y = perceptron(xs[0], xs[1])\n",
        "    print(xs, ': ', y)"
      ]
    },
    {
      "cell_type": "code",
      "execution_count": null,
      "metadata": {
        "id": "DcDA6vY6C3au"
      },
      "outputs": [],
      "source": [
        "W, b = np.array([0.7, 0.7]), .5"
      ]
    },
    {
      "cell_type": "code",
      "execution_count": null,
      "metadata": {
        "colab": {
          "base_uri": "https://localhost:8080/"
        },
        "id": "ijBvZZ0rC6i7",
        "outputId": "888021c4-dfa9-40bc-8dd2-31f009cf869a"
      },
      "outputs": [
        {
          "name": "stdout",
          "output_type": "stream",
          "text": [
            "--- 퍼셉트론으로 구현한 OR 게이트 ---\n",
            "(-1, -1) :  -1\n",
            "(-1, 1) :  1\n",
            "(1, -1) :  1\n",
            "(1, 1) :  1\n"
          ]
        }
      ],
      "source": [
        "print('--- 퍼셉트론으로 구현한 OR 게이트 ---')\n",
        "for xs in [(-1, -1), (-1, 1), (1, -1), (1, 1)]:\n",
        "    y = perceptron(xs[0], xs[1])\n",
        "    print(xs, ': ', y)"
      ]
    },
    {
      "cell_type": "markdown",
      "metadata": {
        "id": "9ZgvIbiKNX4P"
      },
      "source": [
        "### 7.3 학습의 원리 - 연결 강도의 변경"
      ]
    },
    {
      "cell_type": "markdown",
      "metadata": {
        "id": "hzUIYsBwDzxY"
      },
      "source": [
        "### LAB 7-2: 논리합을 수행하는 퍼셉트론 만들기"
      ]
    },
    {
      "cell_type": "code",
      "execution_count": null,
      "metadata": {
        "id": "AuWNIe7-DXG5"
      },
      "outputs": [],
      "source": [
        "import numpy as np\n",
        "\n",
        "W, b = np.array([0, 0]), 0.0\n",
        "learning_rate = 0.01  "
      ]
    },
    {
      "cell_type": "code",
      "execution_count": null,
      "metadata": {
        "id": "lQ8NdMHnD6wv"
      },
      "outputs": [],
      "source": [
        "def activation(s):\n",
        "    if s > 0: return 1\n",
        "    elif s < 0: return -1\n",
        "    return 0"
      ]
    },
    {
      "cell_type": "code",
      "execution_count": null,
      "metadata": {
        "id": "rLlmKfuCD9Jr"
      },
      "outputs": [],
      "source": [
        "def out(x) :\n",
        "    return activation (W.dot(x) + b)"
      ]
    },
    {
      "cell_type": "code",
      "execution_count": null,
      "metadata": {
        "id": "AkkW2qHPD_nh"
      },
      "outputs": [],
      "source": [
        "def train(x0, x1, target):\n",
        "    global W, b\n",
        "    X = np.array([x0, x1])\n",
        "    y = out(X)\n",
        "\n",
        "    ### 예측이 맞으면 아무것도 하지 않음-------------------------------------\n",
        "    if target == y: return False         # 가중치가 변경되지 않았음을 반환\n",
        "    ### 예측이 틀리면 학습 실시---------------------------------------------\n",
        "    print('가중치 수정전 target :{} y:{} b:{} W:{}'.format(target, y, b, W))\n",
        "    W = W + learning_rate * X * target   # 입력x출력 비례하여 가중치 변경\n",
        "    b = b + learning_rate * 1 * target   # 편향: 입력이 1이라고 볼 수 있음\n",
        "    print('가중치 수정후 target :{} y:{} b:{} W:{}'.format(target, y, b, W))\n",
        "    return True "
      ]
    },
    {
      "cell_type": "code",
      "execution_count": null,
      "metadata": {
        "id": "lWsIIQJeEHlq"
      },
      "outputs": [],
      "source": [
        "def predict(inputs):\n",
        "    outputs = []\n",
        "    for x in inputs:\n",
        "        outputs.append (out(x))\n",
        "    return outputs"
      ]
    },
    {
      "cell_type": "code",
      "execution_count": null,
      "metadata": {
        "colab": {
          "base_uri": "https://localhost:8080/"
        },
        "id": "IG4J9Bp9EL_9",
        "outputId": "9dd27350-10c9-4954-d79e-071cb6a92092"
      },
      "outputs": [
        {
          "name": "stdout",
          "output_type": "stream",
          "text": [
            "가중치 수정전 target :-1 y:0 b:0.0 W:[0 0]\n",
            "가중치 수정후 target :-1 y:0 b:-0.01 W:[0.01 0.01]\n",
            "가중치 수정전 target :1 y:-1 b:-0.01 W:[0.01 0.01]\n",
            "가중치 수정후 target :1 y:-1 b:0.0 W:[0.   0.02]\n",
            "가중치 수정전 target :1 y:-1 b:0.0 W:[0.   0.02]\n",
            "가중치 수정후 target :1 y:-1 b:0.01 W:[0.01 0.01]\n",
            "iteration ------------- 0\n",
            "iteration ------------- 1\n"
          ]
        }
      ],
      "source": [
        "adjusted = 0\n",
        "for i in range(100):\n",
        "    adjusted += train(-1,-1, -1)    # 훈련 데이터 1\n",
        "    adjusted += train(-1, 1,  1)    # 훈련 데이터 2\n",
        "    adjusted += train( 1,-1,  1)    # 훈련 데이터 3\n",
        "    adjusted += train( 1, 1,  1)    # 훈련 데이터 4\n",
        "    print(\"iteration -------------\", i)\n",
        "    if not adjusted: break  # 모든 훈련에 대해 가중치 변화 없으면 학습종료\n",
        "    adjusted = 0"
      ]
    },
    {
      "cell_type": "code",
      "execution_count": null,
      "metadata": {
        "colab": {
          "base_uri": "https://localhost:8080/"
        },
        "id": "r1ankGzKEPIL",
        "outputId": "7527fe0e-e4d5-40df-f889-4a6cb8b28c75"
      },
      "outputs": [
        {
          "name": "stdout",
          "output_type": "stream",
          "text": [
            "x0 x1  y\n",
            "-1 -1 -1\n",
            "-1  1  1\n",
            " 1 -1  1\n",
            " 1  1  1\n"
          ]
        }
      ],
      "source": [
        "X = [[-1, -1], [-1, 1], [1, -1], [1,1]]\n",
        "yhat = predict(X)\n",
        "print('x0 x1  y')\n",
        "for i in range(len(X)):\n",
        "    print('{0:2d} {1:2d} {2:2d}'.format(X[i][0], X[i][1], yhat[i]))"
      ]
    },
    {
      "cell_type": "markdown",
      "metadata": {
        "id": "MX2kGsQrGkE7"
      },
      "source": [
        "### LAB 7-3 : 다양한 논리 연산이 가능하게 퍼셉트론 훈련하기"
      ]
    },
    {
      "cell_type": "code",
      "execution_count": null,
      "metadata": {
        "colab": {
          "base_uri": "https://localhost:8080/"
        },
        "id": "FlAImlE8Gd7L",
        "outputId": "9cd8f39f-ebe8-49ff-8b02-b6da8072b22b"
      },
      "outputs": [
        {
          "name": "stdout",
          "output_type": "stream",
          "text": [
            "가중치 수정전 target :-1 y:1 b:0.01 W:[0.01 0.01]\n",
            "가중치 수정후 target :-1 y:1 b:0.0 W:[0.02 0.  ]\n",
            "가중치 수정전 target :-1 y:1 b:0.0 W:[0.02 0.  ]\n",
            "가중치 수정후 target :-1 y:1 b:-0.01 W:[0.01 0.01]\n",
            "iteration ------------- 0\n",
            "iteration ------------- 1\n"
          ]
        }
      ],
      "source": [
        "adjusted = 0\n",
        "for i in range(100):\n",
        "    adjusted += train(-1,-1, -1)    # 훈련 데이터 1\n",
        "    adjusted += train(-1, 1, -1)    # 훈련 데이터 2\n",
        "    adjusted += train( 1,-1, -1)    # 훈련 데이터 3\n",
        "    adjusted += train( 1, 1,  1)    # 훈련 데이터 4\n",
        "    print(\"iteration -------------\", i)\n",
        "    if not adjusted: break  # 모든 훈련에 대해 가중치 변화 없으면 학습종료\n",
        "    adjusted = 0 "
      ]
    },
    {
      "cell_type": "code",
      "execution_count": null,
      "metadata": {
        "colab": {
          "base_uri": "https://localhost:8080/"
        },
        "id": "I24-niO2GsHx",
        "outputId": "f8c8faa1-a9dd-4433-f485-5a1365704d27"
      },
      "outputs": [
        {
          "name": "stdout",
          "output_type": "stream",
          "text": [
            "x0 x1  y\n",
            "-1 -1 -1\n",
            "-1  1 -1\n",
            " 1 -1 -1\n",
            " 1  1  1\n"
          ]
        }
      ],
      "source": [
        "X = [[-1, -1], [-1, 1], [1, -1], [1,1]]\n",
        "yhat = predict(X)\n",
        "print('x0 x1  y')\n",
        "for i in range(len(X)):\n",
        "    print('{0:2d} {1:2d} {2:2d}'.format(X[i][0], X[i][1], yhat[i]))"
      ]
    },
    {
      "cell_type": "markdown",
      "metadata": {
        "id": "KxaFiUKIG91L"
      },
      "source": [
        "### NAND 구현"
      ]
    },
    {
      "cell_type": "code",
      "execution_count": null,
      "metadata": {
        "colab": {
          "base_uri": "https://localhost:8080/"
        },
        "id": "Lcw4F9x7GxLN",
        "outputId": "6cffabbd-ca29-4654-d898-0c841da624fc"
      },
      "outputs": [
        {
          "name": "stdout",
          "output_type": "stream",
          "text": [
            "가중치 수정전 target :1 y:-1 b:-0.01 W:[0.01 0.01]\n",
            "가중치 수정후 target :1 y:-1 b:0.0 W:[0. 0.]\n",
            "가중치 수정전 target :1 y:0 b:0.0 W:[0. 0.]\n",
            "가중치 수정후 target :1 y:0 b:0.01 W:[-0.01  0.01]\n",
            "가중치 수정전 target :1 y:-1 b:0.01 W:[-0.01  0.01]\n",
            "가중치 수정후 target :1 y:-1 b:0.02 W:[0. 0.]\n",
            "가중치 수정전 target :-1 y:1 b:0.02 W:[0. 0.]\n",
            "가중치 수정후 target :-1 y:1 b:0.01 W:[-0.01 -0.01]\n",
            "iteration ------------- 0\n",
            "iteration ------------- 1\n"
          ]
        }
      ],
      "source": [
        "adjusted = 0\n",
        "for i in range(100):\n",
        "    adjusted += train(-1,-1,  1)    # 훈련 데이터 1\n",
        "    adjusted += train(-1, 1,  1)    # 훈련 데이터 2\n",
        "    adjusted += train( 1,-1,  1)    # 훈련 데이터 3\n",
        "    adjusted += train( 1, 1, -1)    # 훈련 데이터 4\n",
        "    print(\"iteration -------------\", i)\n",
        "    if not adjusted: break  # 모든 훈련에 대해 가중치 변화 없으면 학습종료\n",
        "    adjusted = 0 "
      ]
    },
    {
      "cell_type": "code",
      "execution_count": null,
      "metadata": {
        "colab": {
          "base_uri": "https://localhost:8080/"
        },
        "id": "gmo9HjpxHIzJ",
        "outputId": "078de06e-e2bd-4411-c59f-6dfef79c9d4e"
      },
      "outputs": [
        {
          "name": "stdout",
          "output_type": "stream",
          "text": [
            "x0 x1  y\n",
            "-1 -1  1\n",
            "-1  1  1\n",
            " 1 -1  1\n",
            " 1  1 -1\n"
          ]
        }
      ],
      "source": [
        "X = [[-1, -1], [-1, 1], [1, -1], [1,1]]\n",
        "yhat = predict(X)\n",
        "print('x0 x1  y')\n",
        "for i in range(len(X)):\n",
        "    print('{0:2d} {1:2d} {2:2d}'.format(X[i][0], X[i][1], yhat[i]))"
      ]
    },
    {
      "cell_type": "markdown",
      "metadata": {
        "id": "R3cPDI59HVbB"
      },
      "source": [
        "### 도전문제 7.1 XOR의 진리표를 이용하여 퍼셉트론을 학습시켜 보자"
      ]
    },
    {
      "cell_type": "code",
      "execution_count": null,
      "metadata": {
        "colab": {
          "base_uri": "https://localhost:8080/"
        },
        "id": "QJQeGjAFHPby",
        "outputId": "b086a2a9-91f1-4dd1-bfe2-7064d9915060"
      },
      "outputs": [
        {
          "name": "stdout",
          "output_type": "stream",
          "text": [
            "가중치 수정전 target :-1 y:1 b:0.01 W:[-0.01 -0.01]\n",
            "가중치 수정후 target :-1 y:1 b:0.0 W:[0. 0.]\n",
            "가중치 수정전 target :1 y:0 b:0.0 W:[0. 0.]\n",
            "가중치 수정후 target :1 y:0 b:0.01 W:[-0.01  0.01]\n",
            "가중치 수정전 target :1 y:-1 b:0.01 W:[-0.01  0.01]\n",
            "가중치 수정후 target :1 y:-1 b:0.02 W:[0. 0.]\n",
            "가중치 수정전 target :-1 y:1 b:0.02 W:[0. 0.]\n",
            "가중치 수정후 target :-1 y:1 b:0.01 W:[-0.01 -0.01]\n",
            "iteration ------------- 0\n",
            "가중치 수정전 target :-1 y:1 b:0.01 W:[-0.01 -0.01]\n",
            "가중치 수정후 target :-1 y:1 b:0.0 W:[0. 0.]\n",
            "가중치 수정전 target :1 y:0 b:0.0 W:[0. 0.]\n",
            "가중치 수정후 target :1 y:0 b:0.01 W:[-0.01  0.01]\n",
            "가중치 수정전 target :1 y:-1 b:0.01 W:[-0.01  0.01]\n",
            "가중치 수정후 target :1 y:-1 b:0.02 W:[0. 0.]\n",
            "가중치 수정전 target :-1 y:1 b:0.02 W:[0. 0.]\n",
            "가중치 수정후 target :-1 y:1 b:0.01 W:[-0.01 -0.01]\n",
            "iteration ------------- 1\n",
            "가중치 수정전 target :-1 y:1 b:0.01 W:[-0.01 -0.01]\n",
            "가중치 수정후 target :-1 y:1 b:0.0 W:[0. 0.]\n",
            "가중치 수정전 target :1 y:0 b:0.0 W:[0. 0.]\n",
            "가중치 수정후 target :1 y:0 b:0.01 W:[-0.01  0.01]\n",
            "가중치 수정전 target :1 y:-1 b:0.01 W:[-0.01  0.01]\n",
            "가중치 수정후 target :1 y:-1 b:0.02 W:[0. 0.]\n",
            "가중치 수정전 target :-1 y:1 b:0.02 W:[0. 0.]\n",
            "가중치 수정후 target :-1 y:1 b:0.01 W:[-0.01 -0.01]\n",
            "iteration ------------- 2\n",
            "가중치 수정전 target :-1 y:1 b:0.01 W:[-0.01 -0.01]\n",
            "가중치 수정후 target :-1 y:1 b:0.0 W:[0. 0.]\n",
            "가중치 수정전 target :1 y:0 b:0.0 W:[0. 0.]\n",
            "가중치 수정후 target :1 y:0 b:0.01 W:[-0.01  0.01]\n",
            "가중치 수정전 target :1 y:-1 b:0.01 W:[-0.01  0.01]\n",
            "가중치 수정후 target :1 y:-1 b:0.02 W:[0. 0.]\n",
            "가중치 수정전 target :-1 y:1 b:0.02 W:[0. 0.]\n",
            "가중치 수정후 target :-1 y:1 b:0.01 W:[-0.01 -0.01]\n",
            "iteration ------------- 3\n",
            "가중치 수정전 target :-1 y:1 b:0.01 W:[-0.01 -0.01]\n",
            "가중치 수정후 target :-1 y:1 b:0.0 W:[0. 0.]\n",
            "가중치 수정전 target :1 y:0 b:0.0 W:[0. 0.]\n",
            "가중치 수정후 target :1 y:0 b:0.01 W:[-0.01  0.01]\n",
            "가중치 수정전 target :1 y:-1 b:0.01 W:[-0.01  0.01]\n",
            "가중치 수정후 target :1 y:-1 b:0.02 W:[0. 0.]\n",
            "가중치 수정전 target :-1 y:1 b:0.02 W:[0. 0.]\n",
            "가중치 수정후 target :-1 y:1 b:0.01 W:[-0.01 -0.01]\n",
            "iteration ------------- 4\n",
            "가중치 수정전 target :-1 y:1 b:0.01 W:[-0.01 -0.01]\n",
            "가중치 수정후 target :-1 y:1 b:0.0 W:[0. 0.]\n",
            "가중치 수정전 target :1 y:0 b:0.0 W:[0. 0.]\n",
            "가중치 수정후 target :1 y:0 b:0.01 W:[-0.01  0.01]\n",
            "가중치 수정전 target :1 y:-1 b:0.01 W:[-0.01  0.01]\n",
            "가중치 수정후 target :1 y:-1 b:0.02 W:[0. 0.]\n",
            "가중치 수정전 target :-1 y:1 b:0.02 W:[0. 0.]\n",
            "가중치 수정후 target :-1 y:1 b:0.01 W:[-0.01 -0.01]\n",
            "iteration ------------- 5\n",
            "가중치 수정전 target :-1 y:1 b:0.01 W:[-0.01 -0.01]\n",
            "가중치 수정후 target :-1 y:1 b:0.0 W:[0. 0.]\n",
            "가중치 수정전 target :1 y:0 b:0.0 W:[0. 0.]\n",
            "가중치 수정후 target :1 y:0 b:0.01 W:[-0.01  0.01]\n",
            "가중치 수정전 target :1 y:-1 b:0.01 W:[-0.01  0.01]\n",
            "가중치 수정후 target :1 y:-1 b:0.02 W:[0. 0.]\n",
            "가중치 수정전 target :-1 y:1 b:0.02 W:[0. 0.]\n",
            "가중치 수정후 target :-1 y:1 b:0.01 W:[-0.01 -0.01]\n",
            "iteration ------------- 6\n",
            "가중치 수정전 target :-1 y:1 b:0.01 W:[-0.01 -0.01]\n",
            "가중치 수정후 target :-1 y:1 b:0.0 W:[0. 0.]\n",
            "가중치 수정전 target :1 y:0 b:0.0 W:[0. 0.]\n",
            "가중치 수정후 target :1 y:0 b:0.01 W:[-0.01  0.01]\n",
            "가중치 수정전 target :1 y:-1 b:0.01 W:[-0.01  0.01]\n",
            "가중치 수정후 target :1 y:-1 b:0.02 W:[0. 0.]\n",
            "가중치 수정전 target :-1 y:1 b:0.02 W:[0. 0.]\n",
            "가중치 수정후 target :-1 y:1 b:0.01 W:[-0.01 -0.01]\n",
            "iteration ------------- 7\n",
            "가중치 수정전 target :-1 y:1 b:0.01 W:[-0.01 -0.01]\n",
            "가중치 수정후 target :-1 y:1 b:0.0 W:[0. 0.]\n",
            "가중치 수정전 target :1 y:0 b:0.0 W:[0. 0.]\n",
            "가중치 수정후 target :1 y:0 b:0.01 W:[-0.01  0.01]\n",
            "가중치 수정전 target :1 y:-1 b:0.01 W:[-0.01  0.01]\n",
            "가중치 수정후 target :1 y:-1 b:0.02 W:[0. 0.]\n",
            "가중치 수정전 target :-1 y:1 b:0.02 W:[0. 0.]\n",
            "가중치 수정후 target :-1 y:1 b:0.01 W:[-0.01 -0.01]\n",
            "iteration ------------- 8\n",
            "가중치 수정전 target :-1 y:1 b:0.01 W:[-0.01 -0.01]\n",
            "가중치 수정후 target :-1 y:1 b:0.0 W:[0. 0.]\n",
            "가중치 수정전 target :1 y:0 b:0.0 W:[0. 0.]\n",
            "가중치 수정후 target :1 y:0 b:0.01 W:[-0.01  0.01]\n",
            "가중치 수정전 target :1 y:-1 b:0.01 W:[-0.01  0.01]\n",
            "가중치 수정후 target :1 y:-1 b:0.02 W:[0. 0.]\n",
            "가중치 수정전 target :-1 y:1 b:0.02 W:[0. 0.]\n",
            "가중치 수정후 target :-1 y:1 b:0.01 W:[-0.01 -0.01]\n",
            "iteration ------------- 9\n",
            "가중치 수정전 target :-1 y:1 b:0.01 W:[-0.01 -0.01]\n",
            "가중치 수정후 target :-1 y:1 b:0.0 W:[0. 0.]\n",
            "가중치 수정전 target :1 y:0 b:0.0 W:[0. 0.]\n",
            "가중치 수정후 target :1 y:0 b:0.01 W:[-0.01  0.01]\n",
            "가중치 수정전 target :1 y:-1 b:0.01 W:[-0.01  0.01]\n",
            "가중치 수정후 target :1 y:-1 b:0.02 W:[0. 0.]\n",
            "가중치 수정전 target :-1 y:1 b:0.02 W:[0. 0.]\n",
            "가중치 수정후 target :-1 y:1 b:0.01 W:[-0.01 -0.01]\n",
            "iteration ------------- 10\n",
            "가중치 수정전 target :-1 y:1 b:0.01 W:[-0.01 -0.01]\n",
            "가중치 수정후 target :-1 y:1 b:0.0 W:[0. 0.]\n",
            "가중치 수정전 target :1 y:0 b:0.0 W:[0. 0.]\n",
            "가중치 수정후 target :1 y:0 b:0.01 W:[-0.01  0.01]\n",
            "가중치 수정전 target :1 y:-1 b:0.01 W:[-0.01  0.01]\n",
            "가중치 수정후 target :1 y:-1 b:0.02 W:[0. 0.]\n",
            "가중치 수정전 target :-1 y:1 b:0.02 W:[0. 0.]\n",
            "가중치 수정후 target :-1 y:1 b:0.01 W:[-0.01 -0.01]\n",
            "iteration ------------- 11\n",
            "가중치 수정전 target :-1 y:1 b:0.01 W:[-0.01 -0.01]\n",
            "가중치 수정후 target :-1 y:1 b:0.0 W:[0. 0.]\n",
            "가중치 수정전 target :1 y:0 b:0.0 W:[0. 0.]\n",
            "가중치 수정후 target :1 y:0 b:0.01 W:[-0.01  0.01]\n",
            "가중치 수정전 target :1 y:-1 b:0.01 W:[-0.01  0.01]\n",
            "가중치 수정후 target :1 y:-1 b:0.02 W:[0. 0.]\n",
            "가중치 수정전 target :-1 y:1 b:0.02 W:[0. 0.]\n",
            "가중치 수정후 target :-1 y:1 b:0.01 W:[-0.01 -0.01]\n",
            "iteration ------------- 12\n",
            "가중치 수정전 target :-1 y:1 b:0.01 W:[-0.01 -0.01]\n",
            "가중치 수정후 target :-1 y:1 b:0.0 W:[0. 0.]\n",
            "가중치 수정전 target :1 y:0 b:0.0 W:[0. 0.]\n",
            "가중치 수정후 target :1 y:0 b:0.01 W:[-0.01  0.01]\n",
            "가중치 수정전 target :1 y:-1 b:0.01 W:[-0.01  0.01]\n",
            "가중치 수정후 target :1 y:-1 b:0.02 W:[0. 0.]\n",
            "가중치 수정전 target :-1 y:1 b:0.02 W:[0. 0.]\n",
            "가중치 수정후 target :-1 y:1 b:0.01 W:[-0.01 -0.01]\n",
            "iteration ------------- 13\n",
            "가중치 수정전 target :-1 y:1 b:0.01 W:[-0.01 -0.01]\n",
            "가중치 수정후 target :-1 y:1 b:0.0 W:[0. 0.]\n",
            "가중치 수정전 target :1 y:0 b:0.0 W:[0. 0.]\n",
            "가중치 수정후 target :1 y:0 b:0.01 W:[-0.01  0.01]\n",
            "가중치 수정전 target :1 y:-1 b:0.01 W:[-0.01  0.01]\n",
            "가중치 수정후 target :1 y:-1 b:0.02 W:[0. 0.]\n",
            "가중치 수정전 target :-1 y:1 b:0.02 W:[0. 0.]\n",
            "가중치 수정후 target :-1 y:1 b:0.01 W:[-0.01 -0.01]\n",
            "iteration ------------- 14\n",
            "가중치 수정전 target :-1 y:1 b:0.01 W:[-0.01 -0.01]\n",
            "가중치 수정후 target :-1 y:1 b:0.0 W:[0. 0.]\n",
            "가중치 수정전 target :1 y:0 b:0.0 W:[0. 0.]\n",
            "가중치 수정후 target :1 y:0 b:0.01 W:[-0.01  0.01]\n",
            "가중치 수정전 target :1 y:-1 b:0.01 W:[-0.01  0.01]\n",
            "가중치 수정후 target :1 y:-1 b:0.02 W:[0. 0.]\n",
            "가중치 수정전 target :-1 y:1 b:0.02 W:[0. 0.]\n",
            "가중치 수정후 target :-1 y:1 b:0.01 W:[-0.01 -0.01]\n",
            "iteration ------------- 15\n",
            "가중치 수정전 target :-1 y:1 b:0.01 W:[-0.01 -0.01]\n",
            "가중치 수정후 target :-1 y:1 b:0.0 W:[0. 0.]\n",
            "가중치 수정전 target :1 y:0 b:0.0 W:[0. 0.]\n",
            "가중치 수정후 target :1 y:0 b:0.01 W:[-0.01  0.01]\n",
            "가중치 수정전 target :1 y:-1 b:0.01 W:[-0.01  0.01]\n",
            "가중치 수정후 target :1 y:-1 b:0.02 W:[0. 0.]\n",
            "가중치 수정전 target :-1 y:1 b:0.02 W:[0. 0.]\n",
            "가중치 수정후 target :-1 y:1 b:0.01 W:[-0.01 -0.01]\n",
            "iteration ------------- 16\n",
            "가중치 수정전 target :-1 y:1 b:0.01 W:[-0.01 -0.01]\n",
            "가중치 수정후 target :-1 y:1 b:0.0 W:[0. 0.]\n",
            "가중치 수정전 target :1 y:0 b:0.0 W:[0. 0.]\n",
            "가중치 수정후 target :1 y:0 b:0.01 W:[-0.01  0.01]\n",
            "가중치 수정전 target :1 y:-1 b:0.01 W:[-0.01  0.01]\n",
            "가중치 수정후 target :1 y:-1 b:0.02 W:[0. 0.]\n",
            "가중치 수정전 target :-1 y:1 b:0.02 W:[0. 0.]\n",
            "가중치 수정후 target :-1 y:1 b:0.01 W:[-0.01 -0.01]\n",
            "iteration ------------- 17\n",
            "가중치 수정전 target :-1 y:1 b:0.01 W:[-0.01 -0.01]\n",
            "가중치 수정후 target :-1 y:1 b:0.0 W:[0. 0.]\n",
            "가중치 수정전 target :1 y:0 b:0.0 W:[0. 0.]\n",
            "가중치 수정후 target :1 y:0 b:0.01 W:[-0.01  0.01]\n",
            "가중치 수정전 target :1 y:-1 b:0.01 W:[-0.01  0.01]\n",
            "가중치 수정후 target :1 y:-1 b:0.02 W:[0. 0.]\n",
            "가중치 수정전 target :-1 y:1 b:0.02 W:[0. 0.]\n",
            "가중치 수정후 target :-1 y:1 b:0.01 W:[-0.01 -0.01]\n",
            "iteration ------------- 18\n",
            "가중치 수정전 target :-1 y:1 b:0.01 W:[-0.01 -0.01]\n",
            "가중치 수정후 target :-1 y:1 b:0.0 W:[0. 0.]\n",
            "가중치 수정전 target :1 y:0 b:0.0 W:[0. 0.]\n",
            "가중치 수정후 target :1 y:0 b:0.01 W:[-0.01  0.01]\n",
            "가중치 수정전 target :1 y:-1 b:0.01 W:[-0.01  0.01]\n",
            "가중치 수정후 target :1 y:-1 b:0.02 W:[0. 0.]\n",
            "가중치 수정전 target :-1 y:1 b:0.02 W:[0. 0.]\n",
            "가중치 수정후 target :-1 y:1 b:0.01 W:[-0.01 -0.01]\n",
            "iteration ------------- 19\n",
            "가중치 수정전 target :-1 y:1 b:0.01 W:[-0.01 -0.01]\n",
            "가중치 수정후 target :-1 y:1 b:0.0 W:[0. 0.]\n",
            "가중치 수정전 target :1 y:0 b:0.0 W:[0. 0.]\n",
            "가중치 수정후 target :1 y:0 b:0.01 W:[-0.01  0.01]\n",
            "가중치 수정전 target :1 y:-1 b:0.01 W:[-0.01  0.01]\n",
            "가중치 수정후 target :1 y:-1 b:0.02 W:[0. 0.]\n",
            "가중치 수정전 target :-1 y:1 b:0.02 W:[0. 0.]\n",
            "가중치 수정후 target :-1 y:1 b:0.01 W:[-0.01 -0.01]\n",
            "iteration ------------- 20\n",
            "가중치 수정전 target :-1 y:1 b:0.01 W:[-0.01 -0.01]\n",
            "가중치 수정후 target :-1 y:1 b:0.0 W:[0. 0.]\n",
            "가중치 수정전 target :1 y:0 b:0.0 W:[0. 0.]\n",
            "가중치 수정후 target :1 y:0 b:0.01 W:[-0.01  0.01]\n",
            "가중치 수정전 target :1 y:-1 b:0.01 W:[-0.01  0.01]\n",
            "가중치 수정후 target :1 y:-1 b:0.02 W:[0. 0.]\n",
            "가중치 수정전 target :-1 y:1 b:0.02 W:[0. 0.]\n",
            "가중치 수정후 target :-1 y:1 b:0.01 W:[-0.01 -0.01]\n",
            "iteration ------------- 21\n",
            "가중치 수정전 target :-1 y:1 b:0.01 W:[-0.01 -0.01]\n",
            "가중치 수정후 target :-1 y:1 b:0.0 W:[0. 0.]\n",
            "가중치 수정전 target :1 y:0 b:0.0 W:[0. 0.]\n",
            "가중치 수정후 target :1 y:0 b:0.01 W:[-0.01  0.01]\n",
            "가중치 수정전 target :1 y:-1 b:0.01 W:[-0.01  0.01]\n",
            "가중치 수정후 target :1 y:-1 b:0.02 W:[0. 0.]\n",
            "가중치 수정전 target :-1 y:1 b:0.02 W:[0. 0.]\n",
            "가중치 수정후 target :-1 y:1 b:0.01 W:[-0.01 -0.01]\n",
            "iteration ------------- 22\n",
            "가중치 수정전 target :-1 y:1 b:0.01 W:[-0.01 -0.01]\n",
            "가중치 수정후 target :-1 y:1 b:0.0 W:[0. 0.]\n",
            "가중치 수정전 target :1 y:0 b:0.0 W:[0. 0.]\n",
            "가중치 수정후 target :1 y:0 b:0.01 W:[-0.01  0.01]\n",
            "가중치 수정전 target :1 y:-1 b:0.01 W:[-0.01  0.01]\n",
            "가중치 수정후 target :1 y:-1 b:0.02 W:[0. 0.]\n",
            "가중치 수정전 target :-1 y:1 b:0.02 W:[0. 0.]\n",
            "가중치 수정후 target :-1 y:1 b:0.01 W:[-0.01 -0.01]\n",
            "iteration ------------- 23\n",
            "가중치 수정전 target :-1 y:1 b:0.01 W:[-0.01 -0.01]\n",
            "가중치 수정후 target :-1 y:1 b:0.0 W:[0. 0.]\n",
            "가중치 수정전 target :1 y:0 b:0.0 W:[0. 0.]\n",
            "가중치 수정후 target :1 y:0 b:0.01 W:[-0.01  0.01]\n",
            "가중치 수정전 target :1 y:-1 b:0.01 W:[-0.01  0.01]\n",
            "가중치 수정후 target :1 y:-1 b:0.02 W:[0. 0.]\n",
            "가중치 수정전 target :-1 y:1 b:0.02 W:[0. 0.]\n",
            "가중치 수정후 target :-1 y:1 b:0.01 W:[-0.01 -0.01]\n",
            "iteration ------------- 24\n",
            "가중치 수정전 target :-1 y:1 b:0.01 W:[-0.01 -0.01]\n",
            "가중치 수정후 target :-1 y:1 b:0.0 W:[0. 0.]\n",
            "가중치 수정전 target :1 y:0 b:0.0 W:[0. 0.]\n",
            "가중치 수정후 target :1 y:0 b:0.01 W:[-0.01  0.01]\n",
            "가중치 수정전 target :1 y:-1 b:0.01 W:[-0.01  0.01]\n",
            "가중치 수정후 target :1 y:-1 b:0.02 W:[0. 0.]\n",
            "가중치 수정전 target :-1 y:1 b:0.02 W:[0. 0.]\n",
            "가중치 수정후 target :-1 y:1 b:0.01 W:[-0.01 -0.01]\n",
            "iteration ------------- 25\n",
            "가중치 수정전 target :-1 y:1 b:0.01 W:[-0.01 -0.01]\n",
            "가중치 수정후 target :-1 y:1 b:0.0 W:[0. 0.]\n",
            "가중치 수정전 target :1 y:0 b:0.0 W:[0. 0.]\n",
            "가중치 수정후 target :1 y:0 b:0.01 W:[-0.01  0.01]\n",
            "가중치 수정전 target :1 y:-1 b:0.01 W:[-0.01  0.01]\n",
            "가중치 수정후 target :1 y:-1 b:0.02 W:[0. 0.]\n",
            "가중치 수정전 target :-1 y:1 b:0.02 W:[0. 0.]\n",
            "가중치 수정후 target :-1 y:1 b:0.01 W:[-0.01 -0.01]\n",
            "iteration ------------- 26\n",
            "가중치 수정전 target :-1 y:1 b:0.01 W:[-0.01 -0.01]\n",
            "가중치 수정후 target :-1 y:1 b:0.0 W:[0. 0.]\n",
            "가중치 수정전 target :1 y:0 b:0.0 W:[0. 0.]\n",
            "가중치 수정후 target :1 y:0 b:0.01 W:[-0.01  0.01]\n",
            "가중치 수정전 target :1 y:-1 b:0.01 W:[-0.01  0.01]\n",
            "가중치 수정후 target :1 y:-1 b:0.02 W:[0. 0.]\n",
            "가중치 수정전 target :-1 y:1 b:0.02 W:[0. 0.]\n",
            "가중치 수정후 target :-1 y:1 b:0.01 W:[-0.01 -0.01]\n",
            "iteration ------------- 27\n",
            "가중치 수정전 target :-1 y:1 b:0.01 W:[-0.01 -0.01]\n",
            "가중치 수정후 target :-1 y:1 b:0.0 W:[0. 0.]\n",
            "가중치 수정전 target :1 y:0 b:0.0 W:[0. 0.]\n",
            "가중치 수정후 target :1 y:0 b:0.01 W:[-0.01  0.01]\n",
            "가중치 수정전 target :1 y:-1 b:0.01 W:[-0.01  0.01]\n",
            "가중치 수정후 target :1 y:-1 b:0.02 W:[0. 0.]\n",
            "가중치 수정전 target :-1 y:1 b:0.02 W:[0. 0.]\n",
            "가중치 수정후 target :-1 y:1 b:0.01 W:[-0.01 -0.01]\n",
            "iteration ------------- 28\n",
            "가중치 수정전 target :-1 y:1 b:0.01 W:[-0.01 -0.01]\n",
            "가중치 수정후 target :-1 y:1 b:0.0 W:[0. 0.]\n",
            "가중치 수정전 target :1 y:0 b:0.0 W:[0. 0.]\n",
            "가중치 수정후 target :1 y:0 b:0.01 W:[-0.01  0.01]\n",
            "가중치 수정전 target :1 y:-1 b:0.01 W:[-0.01  0.01]\n",
            "가중치 수정후 target :1 y:-1 b:0.02 W:[0. 0.]\n",
            "가중치 수정전 target :-1 y:1 b:0.02 W:[0. 0.]\n",
            "가중치 수정후 target :-1 y:1 b:0.01 W:[-0.01 -0.01]\n",
            "iteration ------------- 29\n",
            "가중치 수정전 target :-1 y:1 b:0.01 W:[-0.01 -0.01]\n",
            "가중치 수정후 target :-1 y:1 b:0.0 W:[0. 0.]\n",
            "가중치 수정전 target :1 y:0 b:0.0 W:[0. 0.]\n",
            "가중치 수정후 target :1 y:0 b:0.01 W:[-0.01  0.01]\n",
            "가중치 수정전 target :1 y:-1 b:0.01 W:[-0.01  0.01]\n",
            "가중치 수정후 target :1 y:-1 b:0.02 W:[0. 0.]\n",
            "가중치 수정전 target :-1 y:1 b:0.02 W:[0. 0.]\n",
            "가중치 수정후 target :-1 y:1 b:0.01 W:[-0.01 -0.01]\n",
            "iteration ------------- 30\n",
            "가중치 수정전 target :-1 y:1 b:0.01 W:[-0.01 -0.01]\n",
            "가중치 수정후 target :-1 y:1 b:0.0 W:[0. 0.]\n",
            "가중치 수정전 target :1 y:0 b:0.0 W:[0. 0.]\n",
            "가중치 수정후 target :1 y:0 b:0.01 W:[-0.01  0.01]\n",
            "가중치 수정전 target :1 y:-1 b:0.01 W:[-0.01  0.01]\n",
            "가중치 수정후 target :1 y:-1 b:0.02 W:[0. 0.]\n",
            "가중치 수정전 target :-1 y:1 b:0.02 W:[0. 0.]\n",
            "가중치 수정후 target :-1 y:1 b:0.01 W:[-0.01 -0.01]\n",
            "iteration ------------- 31\n",
            "가중치 수정전 target :-1 y:1 b:0.01 W:[-0.01 -0.01]\n",
            "가중치 수정후 target :-1 y:1 b:0.0 W:[0. 0.]\n",
            "가중치 수정전 target :1 y:0 b:0.0 W:[0. 0.]\n",
            "가중치 수정후 target :1 y:0 b:0.01 W:[-0.01  0.01]\n",
            "가중치 수정전 target :1 y:-1 b:0.01 W:[-0.01  0.01]\n",
            "가중치 수정후 target :1 y:-1 b:0.02 W:[0. 0.]\n",
            "가중치 수정전 target :-1 y:1 b:0.02 W:[0. 0.]\n",
            "가중치 수정후 target :-1 y:1 b:0.01 W:[-0.01 -0.01]\n",
            "iteration ------------- 32\n",
            "가중치 수정전 target :-1 y:1 b:0.01 W:[-0.01 -0.01]\n",
            "가중치 수정후 target :-1 y:1 b:0.0 W:[0. 0.]\n",
            "가중치 수정전 target :1 y:0 b:0.0 W:[0. 0.]\n",
            "가중치 수정후 target :1 y:0 b:0.01 W:[-0.01  0.01]\n",
            "가중치 수정전 target :1 y:-1 b:0.01 W:[-0.01  0.01]\n",
            "가중치 수정후 target :1 y:-1 b:0.02 W:[0. 0.]\n",
            "가중치 수정전 target :-1 y:1 b:0.02 W:[0. 0.]\n",
            "가중치 수정후 target :-1 y:1 b:0.01 W:[-0.01 -0.01]\n",
            "iteration ------------- 33\n",
            "가중치 수정전 target :-1 y:1 b:0.01 W:[-0.01 -0.01]\n",
            "가중치 수정후 target :-1 y:1 b:0.0 W:[0. 0.]\n",
            "가중치 수정전 target :1 y:0 b:0.0 W:[0. 0.]\n",
            "가중치 수정후 target :1 y:0 b:0.01 W:[-0.01  0.01]\n",
            "가중치 수정전 target :1 y:-1 b:0.01 W:[-0.01  0.01]\n",
            "가중치 수정후 target :1 y:-1 b:0.02 W:[0. 0.]\n",
            "가중치 수정전 target :-1 y:1 b:0.02 W:[0. 0.]\n",
            "가중치 수정후 target :-1 y:1 b:0.01 W:[-0.01 -0.01]\n",
            "iteration ------------- 34\n",
            "가중치 수정전 target :-1 y:1 b:0.01 W:[-0.01 -0.01]\n",
            "가중치 수정후 target :-1 y:1 b:0.0 W:[0. 0.]\n",
            "가중치 수정전 target :1 y:0 b:0.0 W:[0. 0.]\n",
            "가중치 수정후 target :1 y:0 b:0.01 W:[-0.01  0.01]\n",
            "가중치 수정전 target :1 y:-1 b:0.01 W:[-0.01  0.01]\n",
            "가중치 수정후 target :1 y:-1 b:0.02 W:[0. 0.]\n",
            "가중치 수정전 target :-1 y:1 b:0.02 W:[0. 0.]\n",
            "가중치 수정후 target :-1 y:1 b:0.01 W:[-0.01 -0.01]\n",
            "iteration ------------- 35\n",
            "가중치 수정전 target :-1 y:1 b:0.01 W:[-0.01 -0.01]\n",
            "가중치 수정후 target :-1 y:1 b:0.0 W:[0. 0.]\n",
            "가중치 수정전 target :1 y:0 b:0.0 W:[0. 0.]\n",
            "가중치 수정후 target :1 y:0 b:0.01 W:[-0.01  0.01]\n",
            "가중치 수정전 target :1 y:-1 b:0.01 W:[-0.01  0.01]\n",
            "가중치 수정후 target :1 y:-1 b:0.02 W:[0. 0.]\n",
            "가중치 수정전 target :-1 y:1 b:0.02 W:[0. 0.]\n",
            "가중치 수정후 target :-1 y:1 b:0.01 W:[-0.01 -0.01]\n",
            "iteration ------------- 36\n",
            "가중치 수정전 target :-1 y:1 b:0.01 W:[-0.01 -0.01]\n",
            "가중치 수정후 target :-1 y:1 b:0.0 W:[0. 0.]\n",
            "가중치 수정전 target :1 y:0 b:0.0 W:[0. 0.]\n",
            "가중치 수정후 target :1 y:0 b:0.01 W:[-0.01  0.01]\n",
            "가중치 수정전 target :1 y:-1 b:0.01 W:[-0.01  0.01]\n",
            "가중치 수정후 target :1 y:-1 b:0.02 W:[0. 0.]\n",
            "가중치 수정전 target :-1 y:1 b:0.02 W:[0. 0.]\n",
            "가중치 수정후 target :-1 y:1 b:0.01 W:[-0.01 -0.01]\n",
            "iteration ------------- 37\n",
            "가중치 수정전 target :-1 y:1 b:0.01 W:[-0.01 -0.01]\n",
            "가중치 수정후 target :-1 y:1 b:0.0 W:[0. 0.]\n",
            "가중치 수정전 target :1 y:0 b:0.0 W:[0. 0.]\n",
            "가중치 수정후 target :1 y:0 b:0.01 W:[-0.01  0.01]\n",
            "가중치 수정전 target :1 y:-1 b:0.01 W:[-0.01  0.01]\n",
            "가중치 수정후 target :1 y:-1 b:0.02 W:[0. 0.]\n",
            "가중치 수정전 target :-1 y:1 b:0.02 W:[0. 0.]\n",
            "가중치 수정후 target :-1 y:1 b:0.01 W:[-0.01 -0.01]\n",
            "iteration ------------- 38\n",
            "가중치 수정전 target :-1 y:1 b:0.01 W:[-0.01 -0.01]\n",
            "가중치 수정후 target :-1 y:1 b:0.0 W:[0. 0.]\n",
            "가중치 수정전 target :1 y:0 b:0.0 W:[0. 0.]\n",
            "가중치 수정후 target :1 y:0 b:0.01 W:[-0.01  0.01]\n",
            "가중치 수정전 target :1 y:-1 b:0.01 W:[-0.01  0.01]\n",
            "가중치 수정후 target :1 y:-1 b:0.02 W:[0. 0.]\n",
            "가중치 수정전 target :-1 y:1 b:0.02 W:[0. 0.]\n",
            "가중치 수정후 target :-1 y:1 b:0.01 W:[-0.01 -0.01]\n",
            "iteration ------------- 39\n",
            "가중치 수정전 target :-1 y:1 b:0.01 W:[-0.01 -0.01]\n",
            "가중치 수정후 target :-1 y:1 b:0.0 W:[0. 0.]\n",
            "가중치 수정전 target :1 y:0 b:0.0 W:[0. 0.]\n",
            "가중치 수정후 target :1 y:0 b:0.01 W:[-0.01  0.01]\n",
            "가중치 수정전 target :1 y:-1 b:0.01 W:[-0.01  0.01]\n",
            "가중치 수정후 target :1 y:-1 b:0.02 W:[0. 0.]\n",
            "가중치 수정전 target :-1 y:1 b:0.02 W:[0. 0.]\n",
            "가중치 수정후 target :-1 y:1 b:0.01 W:[-0.01 -0.01]\n",
            "iteration ------------- 40\n",
            "가중치 수정전 target :-1 y:1 b:0.01 W:[-0.01 -0.01]\n",
            "가중치 수정후 target :-1 y:1 b:0.0 W:[0. 0.]\n",
            "가중치 수정전 target :1 y:0 b:0.0 W:[0. 0.]\n",
            "가중치 수정후 target :1 y:0 b:0.01 W:[-0.01  0.01]\n",
            "가중치 수정전 target :1 y:-1 b:0.01 W:[-0.01  0.01]\n",
            "가중치 수정후 target :1 y:-1 b:0.02 W:[0. 0.]\n",
            "가중치 수정전 target :-1 y:1 b:0.02 W:[0. 0.]\n",
            "가중치 수정후 target :-1 y:1 b:0.01 W:[-0.01 -0.01]\n",
            "iteration ------------- 41\n",
            "가중치 수정전 target :-1 y:1 b:0.01 W:[-0.01 -0.01]\n",
            "가중치 수정후 target :-1 y:1 b:0.0 W:[0. 0.]\n",
            "가중치 수정전 target :1 y:0 b:0.0 W:[0. 0.]\n",
            "가중치 수정후 target :1 y:0 b:0.01 W:[-0.01  0.01]\n",
            "가중치 수정전 target :1 y:-1 b:0.01 W:[-0.01  0.01]\n",
            "가중치 수정후 target :1 y:-1 b:0.02 W:[0. 0.]\n",
            "가중치 수정전 target :-1 y:1 b:0.02 W:[0. 0.]\n",
            "가중치 수정후 target :-1 y:1 b:0.01 W:[-0.01 -0.01]\n",
            "iteration ------------- 42\n",
            "가중치 수정전 target :-1 y:1 b:0.01 W:[-0.01 -0.01]\n",
            "가중치 수정후 target :-1 y:1 b:0.0 W:[0. 0.]\n",
            "가중치 수정전 target :1 y:0 b:0.0 W:[0. 0.]\n",
            "가중치 수정후 target :1 y:0 b:0.01 W:[-0.01  0.01]\n",
            "가중치 수정전 target :1 y:-1 b:0.01 W:[-0.01  0.01]\n",
            "가중치 수정후 target :1 y:-1 b:0.02 W:[0. 0.]\n",
            "가중치 수정전 target :-1 y:1 b:0.02 W:[0. 0.]\n",
            "가중치 수정후 target :-1 y:1 b:0.01 W:[-0.01 -0.01]\n",
            "iteration ------------- 43\n",
            "가중치 수정전 target :-1 y:1 b:0.01 W:[-0.01 -0.01]\n",
            "가중치 수정후 target :-1 y:1 b:0.0 W:[0. 0.]\n",
            "가중치 수정전 target :1 y:0 b:0.0 W:[0. 0.]\n",
            "가중치 수정후 target :1 y:0 b:0.01 W:[-0.01  0.01]\n",
            "가중치 수정전 target :1 y:-1 b:0.01 W:[-0.01  0.01]\n",
            "가중치 수정후 target :1 y:-1 b:0.02 W:[0. 0.]\n",
            "가중치 수정전 target :-1 y:1 b:0.02 W:[0. 0.]\n",
            "가중치 수정후 target :-1 y:1 b:0.01 W:[-0.01 -0.01]\n",
            "iteration ------------- 44\n",
            "가중치 수정전 target :-1 y:1 b:0.01 W:[-0.01 -0.01]\n",
            "가중치 수정후 target :-1 y:1 b:0.0 W:[0. 0.]\n",
            "가중치 수정전 target :1 y:0 b:0.0 W:[0. 0.]\n",
            "가중치 수정후 target :1 y:0 b:0.01 W:[-0.01  0.01]\n",
            "가중치 수정전 target :1 y:-1 b:0.01 W:[-0.01  0.01]\n",
            "가중치 수정후 target :1 y:-1 b:0.02 W:[0. 0.]\n",
            "가중치 수정전 target :-1 y:1 b:0.02 W:[0. 0.]\n",
            "가중치 수정후 target :-1 y:1 b:0.01 W:[-0.01 -0.01]\n",
            "iteration ------------- 45\n",
            "가중치 수정전 target :-1 y:1 b:0.01 W:[-0.01 -0.01]\n",
            "가중치 수정후 target :-1 y:1 b:0.0 W:[0. 0.]\n",
            "가중치 수정전 target :1 y:0 b:0.0 W:[0. 0.]\n",
            "가중치 수정후 target :1 y:0 b:0.01 W:[-0.01  0.01]\n",
            "가중치 수정전 target :1 y:-1 b:0.01 W:[-0.01  0.01]\n",
            "가중치 수정후 target :1 y:-1 b:0.02 W:[0. 0.]\n",
            "가중치 수정전 target :-1 y:1 b:0.02 W:[0. 0.]\n",
            "가중치 수정후 target :-1 y:1 b:0.01 W:[-0.01 -0.01]\n",
            "iteration ------------- 46\n",
            "가중치 수정전 target :-1 y:1 b:0.01 W:[-0.01 -0.01]\n",
            "가중치 수정후 target :-1 y:1 b:0.0 W:[0. 0.]\n",
            "가중치 수정전 target :1 y:0 b:0.0 W:[0. 0.]\n",
            "가중치 수정후 target :1 y:0 b:0.01 W:[-0.01  0.01]\n",
            "가중치 수정전 target :1 y:-1 b:0.01 W:[-0.01  0.01]\n",
            "가중치 수정후 target :1 y:-1 b:0.02 W:[0. 0.]\n",
            "가중치 수정전 target :-1 y:1 b:0.02 W:[0. 0.]\n",
            "가중치 수정후 target :-1 y:1 b:0.01 W:[-0.01 -0.01]\n",
            "iteration ------------- 47\n",
            "가중치 수정전 target :-1 y:1 b:0.01 W:[-0.01 -0.01]\n",
            "가중치 수정후 target :-1 y:1 b:0.0 W:[0. 0.]\n",
            "가중치 수정전 target :1 y:0 b:0.0 W:[0. 0.]\n",
            "가중치 수정후 target :1 y:0 b:0.01 W:[-0.01  0.01]\n",
            "가중치 수정전 target :1 y:-1 b:0.01 W:[-0.01  0.01]\n",
            "가중치 수정후 target :1 y:-1 b:0.02 W:[0. 0.]\n",
            "가중치 수정전 target :-1 y:1 b:0.02 W:[0. 0.]\n",
            "가중치 수정후 target :-1 y:1 b:0.01 W:[-0.01 -0.01]\n",
            "iteration ------------- 48\n",
            "가중치 수정전 target :-1 y:1 b:0.01 W:[-0.01 -0.01]\n",
            "가중치 수정후 target :-1 y:1 b:0.0 W:[0. 0.]\n",
            "가중치 수정전 target :1 y:0 b:0.0 W:[0. 0.]\n",
            "가중치 수정후 target :1 y:0 b:0.01 W:[-0.01  0.01]\n",
            "가중치 수정전 target :1 y:-1 b:0.01 W:[-0.01  0.01]\n",
            "가중치 수정후 target :1 y:-1 b:0.02 W:[0. 0.]\n",
            "가중치 수정전 target :-1 y:1 b:0.02 W:[0. 0.]\n",
            "가중치 수정후 target :-1 y:1 b:0.01 W:[-0.01 -0.01]\n",
            "iteration ------------- 49\n",
            "가중치 수정전 target :-1 y:1 b:0.01 W:[-0.01 -0.01]\n",
            "가중치 수정후 target :-1 y:1 b:0.0 W:[0. 0.]\n",
            "가중치 수정전 target :1 y:0 b:0.0 W:[0. 0.]\n",
            "가중치 수정후 target :1 y:0 b:0.01 W:[-0.01  0.01]\n",
            "가중치 수정전 target :1 y:-1 b:0.01 W:[-0.01  0.01]\n",
            "가중치 수정후 target :1 y:-1 b:0.02 W:[0. 0.]\n",
            "가중치 수정전 target :-1 y:1 b:0.02 W:[0. 0.]\n",
            "가중치 수정후 target :-1 y:1 b:0.01 W:[-0.01 -0.01]\n",
            "iteration ------------- 50\n",
            "가중치 수정전 target :-1 y:1 b:0.01 W:[-0.01 -0.01]\n",
            "가중치 수정후 target :-1 y:1 b:0.0 W:[0. 0.]\n",
            "가중치 수정전 target :1 y:0 b:0.0 W:[0. 0.]\n",
            "가중치 수정후 target :1 y:0 b:0.01 W:[-0.01  0.01]\n",
            "가중치 수정전 target :1 y:-1 b:0.01 W:[-0.01  0.01]\n",
            "가중치 수정후 target :1 y:-1 b:0.02 W:[0. 0.]\n",
            "가중치 수정전 target :-1 y:1 b:0.02 W:[0. 0.]\n",
            "가중치 수정후 target :-1 y:1 b:0.01 W:[-0.01 -0.01]\n",
            "iteration ------------- 51\n",
            "가중치 수정전 target :-1 y:1 b:0.01 W:[-0.01 -0.01]\n",
            "가중치 수정후 target :-1 y:1 b:0.0 W:[0. 0.]\n",
            "가중치 수정전 target :1 y:0 b:0.0 W:[0. 0.]\n",
            "가중치 수정후 target :1 y:0 b:0.01 W:[-0.01  0.01]\n",
            "가중치 수정전 target :1 y:-1 b:0.01 W:[-0.01  0.01]\n",
            "가중치 수정후 target :1 y:-1 b:0.02 W:[0. 0.]\n",
            "가중치 수정전 target :-1 y:1 b:0.02 W:[0. 0.]\n",
            "가중치 수정후 target :-1 y:1 b:0.01 W:[-0.01 -0.01]\n",
            "iteration ------------- 52\n",
            "가중치 수정전 target :-1 y:1 b:0.01 W:[-0.01 -0.01]\n",
            "가중치 수정후 target :-1 y:1 b:0.0 W:[0. 0.]\n",
            "가중치 수정전 target :1 y:0 b:0.0 W:[0. 0.]\n",
            "가중치 수정후 target :1 y:0 b:0.01 W:[-0.01  0.01]\n",
            "가중치 수정전 target :1 y:-1 b:0.01 W:[-0.01  0.01]\n",
            "가중치 수정후 target :1 y:-1 b:0.02 W:[0. 0.]\n",
            "가중치 수정전 target :-1 y:1 b:0.02 W:[0. 0.]\n",
            "가중치 수정후 target :-1 y:1 b:0.01 W:[-0.01 -0.01]\n",
            "iteration ------------- 53\n",
            "가중치 수정전 target :-1 y:1 b:0.01 W:[-0.01 -0.01]\n",
            "가중치 수정후 target :-1 y:1 b:0.0 W:[0. 0.]\n",
            "가중치 수정전 target :1 y:0 b:0.0 W:[0. 0.]\n",
            "가중치 수정후 target :1 y:0 b:0.01 W:[-0.01  0.01]\n",
            "가중치 수정전 target :1 y:-1 b:0.01 W:[-0.01  0.01]\n",
            "가중치 수정후 target :1 y:-1 b:0.02 W:[0. 0.]\n",
            "가중치 수정전 target :-1 y:1 b:0.02 W:[0. 0.]\n",
            "가중치 수정후 target :-1 y:1 b:0.01 W:[-0.01 -0.01]\n",
            "iteration ------------- 54\n",
            "가중치 수정전 target :-1 y:1 b:0.01 W:[-0.01 -0.01]\n",
            "가중치 수정후 target :-1 y:1 b:0.0 W:[0. 0.]\n",
            "가중치 수정전 target :1 y:0 b:0.0 W:[0. 0.]\n",
            "가중치 수정후 target :1 y:0 b:0.01 W:[-0.01  0.01]\n",
            "가중치 수정전 target :1 y:-1 b:0.01 W:[-0.01  0.01]\n",
            "가중치 수정후 target :1 y:-1 b:0.02 W:[0. 0.]\n",
            "가중치 수정전 target :-1 y:1 b:0.02 W:[0. 0.]\n",
            "가중치 수정후 target :-1 y:1 b:0.01 W:[-0.01 -0.01]\n",
            "iteration ------------- 55\n",
            "가중치 수정전 target :-1 y:1 b:0.01 W:[-0.01 -0.01]\n",
            "가중치 수정후 target :-1 y:1 b:0.0 W:[0. 0.]\n",
            "가중치 수정전 target :1 y:0 b:0.0 W:[0. 0.]\n",
            "가중치 수정후 target :1 y:0 b:0.01 W:[-0.01  0.01]\n",
            "가중치 수정전 target :1 y:-1 b:0.01 W:[-0.01  0.01]\n",
            "가중치 수정후 target :1 y:-1 b:0.02 W:[0. 0.]\n",
            "가중치 수정전 target :-1 y:1 b:0.02 W:[0. 0.]\n",
            "가중치 수정후 target :-1 y:1 b:0.01 W:[-0.01 -0.01]\n",
            "iteration ------------- 56\n",
            "가중치 수정전 target :-1 y:1 b:0.01 W:[-0.01 -0.01]\n",
            "가중치 수정후 target :-1 y:1 b:0.0 W:[0. 0.]\n",
            "가중치 수정전 target :1 y:0 b:0.0 W:[0. 0.]\n",
            "가중치 수정후 target :1 y:0 b:0.01 W:[-0.01  0.01]\n",
            "가중치 수정전 target :1 y:-1 b:0.01 W:[-0.01  0.01]\n",
            "가중치 수정후 target :1 y:-1 b:0.02 W:[0. 0.]\n",
            "가중치 수정전 target :-1 y:1 b:0.02 W:[0. 0.]\n",
            "가중치 수정후 target :-1 y:1 b:0.01 W:[-0.01 -0.01]\n",
            "iteration ------------- 57\n",
            "가중치 수정전 target :-1 y:1 b:0.01 W:[-0.01 -0.01]\n",
            "가중치 수정후 target :-1 y:1 b:0.0 W:[0. 0.]\n",
            "가중치 수정전 target :1 y:0 b:0.0 W:[0. 0.]\n",
            "가중치 수정후 target :1 y:0 b:0.01 W:[-0.01  0.01]\n",
            "가중치 수정전 target :1 y:-1 b:0.01 W:[-0.01  0.01]\n",
            "가중치 수정후 target :1 y:-1 b:0.02 W:[0. 0.]\n",
            "가중치 수정전 target :-1 y:1 b:0.02 W:[0. 0.]\n",
            "가중치 수정후 target :-1 y:1 b:0.01 W:[-0.01 -0.01]\n",
            "iteration ------------- 58\n",
            "가중치 수정전 target :-1 y:1 b:0.01 W:[-0.01 -0.01]\n",
            "가중치 수정후 target :-1 y:1 b:0.0 W:[0. 0.]\n",
            "가중치 수정전 target :1 y:0 b:0.0 W:[0. 0.]\n",
            "가중치 수정후 target :1 y:0 b:0.01 W:[-0.01  0.01]\n",
            "가중치 수정전 target :1 y:-1 b:0.01 W:[-0.01  0.01]\n",
            "가중치 수정후 target :1 y:-1 b:0.02 W:[0. 0.]\n",
            "가중치 수정전 target :-1 y:1 b:0.02 W:[0. 0.]\n",
            "가중치 수정후 target :-1 y:1 b:0.01 W:[-0.01 -0.01]\n",
            "iteration ------------- 59\n",
            "가중치 수정전 target :-1 y:1 b:0.01 W:[-0.01 -0.01]\n",
            "가중치 수정후 target :-1 y:1 b:0.0 W:[0. 0.]\n",
            "가중치 수정전 target :1 y:0 b:0.0 W:[0. 0.]\n",
            "가중치 수정후 target :1 y:0 b:0.01 W:[-0.01  0.01]\n",
            "가중치 수정전 target :1 y:-1 b:0.01 W:[-0.01  0.01]\n",
            "가중치 수정후 target :1 y:-1 b:0.02 W:[0. 0.]\n",
            "가중치 수정전 target :-1 y:1 b:0.02 W:[0. 0.]\n",
            "가중치 수정후 target :-1 y:1 b:0.01 W:[-0.01 -0.01]\n",
            "iteration ------------- 60\n",
            "가중치 수정전 target :-1 y:1 b:0.01 W:[-0.01 -0.01]\n",
            "가중치 수정후 target :-1 y:1 b:0.0 W:[0. 0.]\n",
            "가중치 수정전 target :1 y:0 b:0.0 W:[0. 0.]\n",
            "가중치 수정후 target :1 y:0 b:0.01 W:[-0.01  0.01]\n",
            "가중치 수정전 target :1 y:-1 b:0.01 W:[-0.01  0.01]\n",
            "가중치 수정후 target :1 y:-1 b:0.02 W:[0. 0.]\n",
            "가중치 수정전 target :-1 y:1 b:0.02 W:[0. 0.]\n",
            "가중치 수정후 target :-1 y:1 b:0.01 W:[-0.01 -0.01]\n",
            "iteration ------------- 61\n",
            "가중치 수정전 target :-1 y:1 b:0.01 W:[-0.01 -0.01]\n",
            "가중치 수정후 target :-1 y:1 b:0.0 W:[0. 0.]\n",
            "가중치 수정전 target :1 y:0 b:0.0 W:[0. 0.]\n",
            "가중치 수정후 target :1 y:0 b:0.01 W:[-0.01  0.01]\n",
            "가중치 수정전 target :1 y:-1 b:0.01 W:[-0.01  0.01]\n",
            "가중치 수정후 target :1 y:-1 b:0.02 W:[0. 0.]\n",
            "가중치 수정전 target :-1 y:1 b:0.02 W:[0. 0.]\n",
            "가중치 수정후 target :-1 y:1 b:0.01 W:[-0.01 -0.01]\n",
            "iteration ------------- 62\n",
            "가중치 수정전 target :-1 y:1 b:0.01 W:[-0.01 -0.01]\n",
            "가중치 수정후 target :-1 y:1 b:0.0 W:[0. 0.]\n",
            "가중치 수정전 target :1 y:0 b:0.0 W:[0. 0.]\n",
            "가중치 수정후 target :1 y:0 b:0.01 W:[-0.01  0.01]\n",
            "가중치 수정전 target :1 y:-1 b:0.01 W:[-0.01  0.01]\n",
            "가중치 수정후 target :1 y:-1 b:0.02 W:[0. 0.]\n",
            "가중치 수정전 target :-1 y:1 b:0.02 W:[0. 0.]\n",
            "가중치 수정후 target :-1 y:1 b:0.01 W:[-0.01 -0.01]\n",
            "iteration ------------- 63\n",
            "가중치 수정전 target :-1 y:1 b:0.01 W:[-0.01 -0.01]\n",
            "가중치 수정후 target :-1 y:1 b:0.0 W:[0. 0.]\n",
            "가중치 수정전 target :1 y:0 b:0.0 W:[0. 0.]\n",
            "가중치 수정후 target :1 y:0 b:0.01 W:[-0.01  0.01]\n",
            "가중치 수정전 target :1 y:-1 b:0.01 W:[-0.01  0.01]\n",
            "가중치 수정후 target :1 y:-1 b:0.02 W:[0. 0.]\n",
            "가중치 수정전 target :-1 y:1 b:0.02 W:[0. 0.]\n",
            "가중치 수정후 target :-1 y:1 b:0.01 W:[-0.01 -0.01]\n",
            "iteration ------------- 64\n",
            "가중치 수정전 target :-1 y:1 b:0.01 W:[-0.01 -0.01]\n",
            "가중치 수정후 target :-1 y:1 b:0.0 W:[0. 0.]\n",
            "가중치 수정전 target :1 y:0 b:0.0 W:[0. 0.]\n",
            "가중치 수정후 target :1 y:0 b:0.01 W:[-0.01  0.01]\n",
            "가중치 수정전 target :1 y:-1 b:0.01 W:[-0.01  0.01]\n",
            "가중치 수정후 target :1 y:-1 b:0.02 W:[0. 0.]\n",
            "가중치 수정전 target :-1 y:1 b:0.02 W:[0. 0.]\n",
            "가중치 수정후 target :-1 y:1 b:0.01 W:[-0.01 -0.01]\n",
            "iteration ------------- 65\n",
            "가중치 수정전 target :-1 y:1 b:0.01 W:[-0.01 -0.01]\n",
            "가중치 수정후 target :-1 y:1 b:0.0 W:[0. 0.]\n",
            "가중치 수정전 target :1 y:0 b:0.0 W:[0. 0.]\n",
            "가중치 수정후 target :1 y:0 b:0.01 W:[-0.01  0.01]\n",
            "가중치 수정전 target :1 y:-1 b:0.01 W:[-0.01  0.01]\n",
            "가중치 수정후 target :1 y:-1 b:0.02 W:[0. 0.]\n",
            "가중치 수정전 target :-1 y:1 b:0.02 W:[0. 0.]\n",
            "가중치 수정후 target :-1 y:1 b:0.01 W:[-0.01 -0.01]\n",
            "iteration ------------- 66\n",
            "가중치 수정전 target :-1 y:1 b:0.01 W:[-0.01 -0.01]\n",
            "가중치 수정후 target :-1 y:1 b:0.0 W:[0. 0.]\n",
            "가중치 수정전 target :1 y:0 b:0.0 W:[0. 0.]\n",
            "가중치 수정후 target :1 y:0 b:0.01 W:[-0.01  0.01]\n",
            "가중치 수정전 target :1 y:-1 b:0.01 W:[-0.01  0.01]\n",
            "가중치 수정후 target :1 y:-1 b:0.02 W:[0. 0.]\n",
            "가중치 수정전 target :-1 y:1 b:0.02 W:[0. 0.]\n",
            "가중치 수정후 target :-1 y:1 b:0.01 W:[-0.01 -0.01]\n",
            "iteration ------------- 67\n",
            "가중치 수정전 target :-1 y:1 b:0.01 W:[-0.01 -0.01]\n",
            "가중치 수정후 target :-1 y:1 b:0.0 W:[0. 0.]\n",
            "가중치 수정전 target :1 y:0 b:0.0 W:[0. 0.]\n",
            "가중치 수정후 target :1 y:0 b:0.01 W:[-0.01  0.01]\n",
            "가중치 수정전 target :1 y:-1 b:0.01 W:[-0.01  0.01]\n",
            "가중치 수정후 target :1 y:-1 b:0.02 W:[0. 0.]\n",
            "가중치 수정전 target :-1 y:1 b:0.02 W:[0. 0.]\n",
            "가중치 수정후 target :-1 y:1 b:0.01 W:[-0.01 -0.01]\n",
            "iteration ------------- 68\n",
            "가중치 수정전 target :-1 y:1 b:0.01 W:[-0.01 -0.01]\n",
            "가중치 수정후 target :-1 y:1 b:0.0 W:[0. 0.]\n",
            "가중치 수정전 target :1 y:0 b:0.0 W:[0. 0.]\n",
            "가중치 수정후 target :1 y:0 b:0.01 W:[-0.01  0.01]\n",
            "가중치 수정전 target :1 y:-1 b:0.01 W:[-0.01  0.01]\n",
            "가중치 수정후 target :1 y:-1 b:0.02 W:[0. 0.]\n",
            "가중치 수정전 target :-1 y:1 b:0.02 W:[0. 0.]\n",
            "가중치 수정후 target :-1 y:1 b:0.01 W:[-0.01 -0.01]\n",
            "iteration ------------- 69\n",
            "가중치 수정전 target :-1 y:1 b:0.01 W:[-0.01 -0.01]\n",
            "가중치 수정후 target :-1 y:1 b:0.0 W:[0. 0.]\n",
            "가중치 수정전 target :1 y:0 b:0.0 W:[0. 0.]\n",
            "가중치 수정후 target :1 y:0 b:0.01 W:[-0.01  0.01]\n",
            "가중치 수정전 target :1 y:-1 b:0.01 W:[-0.01  0.01]\n",
            "가중치 수정후 target :1 y:-1 b:0.02 W:[0. 0.]\n",
            "가중치 수정전 target :-1 y:1 b:0.02 W:[0. 0.]\n",
            "가중치 수정후 target :-1 y:1 b:0.01 W:[-0.01 -0.01]\n",
            "iteration ------------- 70\n",
            "가중치 수정전 target :-1 y:1 b:0.01 W:[-0.01 -0.01]\n",
            "가중치 수정후 target :-1 y:1 b:0.0 W:[0. 0.]\n",
            "가중치 수정전 target :1 y:0 b:0.0 W:[0. 0.]\n",
            "가중치 수정후 target :1 y:0 b:0.01 W:[-0.01  0.01]\n",
            "가중치 수정전 target :1 y:-1 b:0.01 W:[-0.01  0.01]\n",
            "가중치 수정후 target :1 y:-1 b:0.02 W:[0. 0.]\n",
            "가중치 수정전 target :-1 y:1 b:0.02 W:[0. 0.]\n",
            "가중치 수정후 target :-1 y:1 b:0.01 W:[-0.01 -0.01]\n",
            "iteration ------------- 71\n",
            "가중치 수정전 target :-1 y:1 b:0.01 W:[-0.01 -0.01]\n",
            "가중치 수정후 target :-1 y:1 b:0.0 W:[0. 0.]\n",
            "가중치 수정전 target :1 y:0 b:0.0 W:[0. 0.]\n",
            "가중치 수정후 target :1 y:0 b:0.01 W:[-0.01  0.01]\n",
            "가중치 수정전 target :1 y:-1 b:0.01 W:[-0.01  0.01]\n",
            "가중치 수정후 target :1 y:-1 b:0.02 W:[0. 0.]\n",
            "가중치 수정전 target :-1 y:1 b:0.02 W:[0. 0.]\n",
            "가중치 수정후 target :-1 y:1 b:0.01 W:[-0.01 -0.01]\n",
            "iteration ------------- 72\n",
            "가중치 수정전 target :-1 y:1 b:0.01 W:[-0.01 -0.01]\n",
            "가중치 수정후 target :-1 y:1 b:0.0 W:[0. 0.]\n",
            "가중치 수정전 target :1 y:0 b:0.0 W:[0. 0.]\n",
            "가중치 수정후 target :1 y:0 b:0.01 W:[-0.01  0.01]\n",
            "가중치 수정전 target :1 y:-1 b:0.01 W:[-0.01  0.01]\n",
            "가중치 수정후 target :1 y:-1 b:0.02 W:[0. 0.]\n",
            "가중치 수정전 target :-1 y:1 b:0.02 W:[0. 0.]\n",
            "가중치 수정후 target :-1 y:1 b:0.01 W:[-0.01 -0.01]\n",
            "iteration ------------- 73\n",
            "가중치 수정전 target :-1 y:1 b:0.01 W:[-0.01 -0.01]\n",
            "가중치 수정후 target :-1 y:1 b:0.0 W:[0. 0.]\n",
            "가중치 수정전 target :1 y:0 b:0.0 W:[0. 0.]\n",
            "가중치 수정후 target :1 y:0 b:0.01 W:[-0.01  0.01]\n",
            "가중치 수정전 target :1 y:-1 b:0.01 W:[-0.01  0.01]\n",
            "가중치 수정후 target :1 y:-1 b:0.02 W:[0. 0.]\n",
            "가중치 수정전 target :-1 y:1 b:0.02 W:[0. 0.]\n",
            "가중치 수정후 target :-1 y:1 b:0.01 W:[-0.01 -0.01]\n",
            "iteration ------------- 74\n",
            "가중치 수정전 target :-1 y:1 b:0.01 W:[-0.01 -0.01]\n",
            "가중치 수정후 target :-1 y:1 b:0.0 W:[0. 0.]\n",
            "가중치 수정전 target :1 y:0 b:0.0 W:[0. 0.]\n",
            "가중치 수정후 target :1 y:0 b:0.01 W:[-0.01  0.01]\n",
            "가중치 수정전 target :1 y:-1 b:0.01 W:[-0.01  0.01]\n",
            "가중치 수정후 target :1 y:-1 b:0.02 W:[0. 0.]\n",
            "가중치 수정전 target :-1 y:1 b:0.02 W:[0. 0.]\n",
            "가중치 수정후 target :-1 y:1 b:0.01 W:[-0.01 -0.01]\n",
            "iteration ------------- 75\n",
            "가중치 수정전 target :-1 y:1 b:0.01 W:[-0.01 -0.01]\n",
            "가중치 수정후 target :-1 y:1 b:0.0 W:[0. 0.]\n",
            "가중치 수정전 target :1 y:0 b:0.0 W:[0. 0.]\n",
            "가중치 수정후 target :1 y:0 b:0.01 W:[-0.01  0.01]\n",
            "가중치 수정전 target :1 y:-1 b:0.01 W:[-0.01  0.01]\n",
            "가중치 수정후 target :1 y:-1 b:0.02 W:[0. 0.]\n",
            "가중치 수정전 target :-1 y:1 b:0.02 W:[0. 0.]\n",
            "가중치 수정후 target :-1 y:1 b:0.01 W:[-0.01 -0.01]\n",
            "iteration ------------- 76\n",
            "가중치 수정전 target :-1 y:1 b:0.01 W:[-0.01 -0.01]\n",
            "가중치 수정후 target :-1 y:1 b:0.0 W:[0. 0.]\n",
            "가중치 수정전 target :1 y:0 b:0.0 W:[0. 0.]\n",
            "가중치 수정후 target :1 y:0 b:0.01 W:[-0.01  0.01]\n",
            "가중치 수정전 target :1 y:-1 b:0.01 W:[-0.01  0.01]\n",
            "가중치 수정후 target :1 y:-1 b:0.02 W:[0. 0.]\n",
            "가중치 수정전 target :-1 y:1 b:0.02 W:[0. 0.]\n",
            "가중치 수정후 target :-1 y:1 b:0.01 W:[-0.01 -0.01]\n",
            "iteration ------------- 77\n",
            "가중치 수정전 target :-1 y:1 b:0.01 W:[-0.01 -0.01]\n",
            "가중치 수정후 target :-1 y:1 b:0.0 W:[0. 0.]\n",
            "가중치 수정전 target :1 y:0 b:0.0 W:[0. 0.]\n",
            "가중치 수정후 target :1 y:0 b:0.01 W:[-0.01  0.01]\n",
            "가중치 수정전 target :1 y:-1 b:0.01 W:[-0.01  0.01]\n",
            "가중치 수정후 target :1 y:-1 b:0.02 W:[0. 0.]\n",
            "가중치 수정전 target :-1 y:1 b:0.02 W:[0. 0.]\n",
            "가중치 수정후 target :-1 y:1 b:0.01 W:[-0.01 -0.01]\n",
            "iteration ------------- 78\n",
            "가중치 수정전 target :-1 y:1 b:0.01 W:[-0.01 -0.01]\n",
            "가중치 수정후 target :-1 y:1 b:0.0 W:[0. 0.]\n",
            "가중치 수정전 target :1 y:0 b:0.0 W:[0. 0.]\n",
            "가중치 수정후 target :1 y:0 b:0.01 W:[-0.01  0.01]\n",
            "가중치 수정전 target :1 y:-1 b:0.01 W:[-0.01  0.01]\n",
            "가중치 수정후 target :1 y:-1 b:0.02 W:[0. 0.]\n",
            "가중치 수정전 target :-1 y:1 b:0.02 W:[0. 0.]\n",
            "가중치 수정후 target :-1 y:1 b:0.01 W:[-0.01 -0.01]\n",
            "iteration ------------- 79\n",
            "가중치 수정전 target :-1 y:1 b:0.01 W:[-0.01 -0.01]\n",
            "가중치 수정후 target :-1 y:1 b:0.0 W:[0. 0.]\n",
            "가중치 수정전 target :1 y:0 b:0.0 W:[0. 0.]\n",
            "가중치 수정후 target :1 y:0 b:0.01 W:[-0.01  0.01]\n",
            "가중치 수정전 target :1 y:-1 b:0.01 W:[-0.01  0.01]\n",
            "가중치 수정후 target :1 y:-1 b:0.02 W:[0. 0.]\n",
            "가중치 수정전 target :-1 y:1 b:0.02 W:[0. 0.]\n",
            "가중치 수정후 target :-1 y:1 b:0.01 W:[-0.01 -0.01]\n",
            "iteration ------------- 80\n",
            "가중치 수정전 target :-1 y:1 b:0.01 W:[-0.01 -0.01]\n",
            "가중치 수정후 target :-1 y:1 b:0.0 W:[0. 0.]\n",
            "가중치 수정전 target :1 y:0 b:0.0 W:[0. 0.]\n",
            "가중치 수정후 target :1 y:0 b:0.01 W:[-0.01  0.01]\n",
            "가중치 수정전 target :1 y:-1 b:0.01 W:[-0.01  0.01]\n",
            "가중치 수정후 target :1 y:-1 b:0.02 W:[0. 0.]\n",
            "가중치 수정전 target :-1 y:1 b:0.02 W:[0. 0.]\n",
            "가중치 수정후 target :-1 y:1 b:0.01 W:[-0.01 -0.01]\n",
            "iteration ------------- 81\n",
            "가중치 수정전 target :-1 y:1 b:0.01 W:[-0.01 -0.01]\n",
            "가중치 수정후 target :-1 y:1 b:0.0 W:[0. 0.]\n",
            "가중치 수정전 target :1 y:0 b:0.0 W:[0. 0.]\n",
            "가중치 수정후 target :1 y:0 b:0.01 W:[-0.01  0.01]\n",
            "가중치 수정전 target :1 y:-1 b:0.01 W:[-0.01  0.01]\n",
            "가중치 수정후 target :1 y:-1 b:0.02 W:[0. 0.]\n",
            "가중치 수정전 target :-1 y:1 b:0.02 W:[0. 0.]\n",
            "가중치 수정후 target :-1 y:1 b:0.01 W:[-0.01 -0.01]\n",
            "iteration ------------- 82\n",
            "가중치 수정전 target :-1 y:1 b:0.01 W:[-0.01 -0.01]\n",
            "가중치 수정후 target :-1 y:1 b:0.0 W:[0. 0.]\n",
            "가중치 수정전 target :1 y:0 b:0.0 W:[0. 0.]\n",
            "가중치 수정후 target :1 y:0 b:0.01 W:[-0.01  0.01]\n",
            "가중치 수정전 target :1 y:-1 b:0.01 W:[-0.01  0.01]\n",
            "가중치 수정후 target :1 y:-1 b:0.02 W:[0. 0.]\n",
            "가중치 수정전 target :-1 y:1 b:0.02 W:[0. 0.]\n",
            "가중치 수정후 target :-1 y:1 b:0.01 W:[-0.01 -0.01]\n",
            "iteration ------------- 83\n",
            "가중치 수정전 target :-1 y:1 b:0.01 W:[-0.01 -0.01]\n",
            "가중치 수정후 target :-1 y:1 b:0.0 W:[0. 0.]\n",
            "가중치 수정전 target :1 y:0 b:0.0 W:[0. 0.]\n",
            "가중치 수정후 target :1 y:0 b:0.01 W:[-0.01  0.01]\n",
            "가중치 수정전 target :1 y:-1 b:0.01 W:[-0.01  0.01]\n",
            "가중치 수정후 target :1 y:-1 b:0.02 W:[0. 0.]\n",
            "가중치 수정전 target :-1 y:1 b:0.02 W:[0. 0.]\n",
            "가중치 수정후 target :-1 y:1 b:0.01 W:[-0.01 -0.01]\n",
            "iteration ------------- 84\n",
            "가중치 수정전 target :-1 y:1 b:0.01 W:[-0.01 -0.01]\n",
            "가중치 수정후 target :-1 y:1 b:0.0 W:[0. 0.]\n",
            "가중치 수정전 target :1 y:0 b:0.0 W:[0. 0.]\n",
            "가중치 수정후 target :1 y:0 b:0.01 W:[-0.01  0.01]\n",
            "가중치 수정전 target :1 y:-1 b:0.01 W:[-0.01  0.01]\n",
            "가중치 수정후 target :1 y:-1 b:0.02 W:[0. 0.]\n",
            "가중치 수정전 target :-1 y:1 b:0.02 W:[0. 0.]\n",
            "가중치 수정후 target :-1 y:1 b:0.01 W:[-0.01 -0.01]\n",
            "iteration ------------- 85\n",
            "가중치 수정전 target :-1 y:1 b:0.01 W:[-0.01 -0.01]\n",
            "가중치 수정후 target :-1 y:1 b:0.0 W:[0. 0.]\n",
            "가중치 수정전 target :1 y:0 b:0.0 W:[0. 0.]\n",
            "가중치 수정후 target :1 y:0 b:0.01 W:[-0.01  0.01]\n",
            "가중치 수정전 target :1 y:-1 b:0.01 W:[-0.01  0.01]\n",
            "가중치 수정후 target :1 y:-1 b:0.02 W:[0. 0.]\n",
            "가중치 수정전 target :-1 y:1 b:0.02 W:[0. 0.]\n",
            "가중치 수정후 target :-1 y:1 b:0.01 W:[-0.01 -0.01]\n",
            "iteration ------------- 86\n",
            "가중치 수정전 target :-1 y:1 b:0.01 W:[-0.01 -0.01]\n",
            "가중치 수정후 target :-1 y:1 b:0.0 W:[0. 0.]\n",
            "가중치 수정전 target :1 y:0 b:0.0 W:[0. 0.]\n",
            "가중치 수정후 target :1 y:0 b:0.01 W:[-0.01  0.01]\n",
            "가중치 수정전 target :1 y:-1 b:0.01 W:[-0.01  0.01]\n",
            "가중치 수정후 target :1 y:-1 b:0.02 W:[0. 0.]\n",
            "가중치 수정전 target :-1 y:1 b:0.02 W:[0. 0.]\n",
            "가중치 수정후 target :-1 y:1 b:0.01 W:[-0.01 -0.01]\n",
            "iteration ------------- 87\n",
            "가중치 수정전 target :-1 y:1 b:0.01 W:[-0.01 -0.01]\n",
            "가중치 수정후 target :-1 y:1 b:0.0 W:[0. 0.]\n",
            "가중치 수정전 target :1 y:0 b:0.0 W:[0. 0.]\n",
            "가중치 수정후 target :1 y:0 b:0.01 W:[-0.01  0.01]\n",
            "가중치 수정전 target :1 y:-1 b:0.01 W:[-0.01  0.01]\n",
            "가중치 수정후 target :1 y:-1 b:0.02 W:[0. 0.]\n",
            "가중치 수정전 target :-1 y:1 b:0.02 W:[0. 0.]\n",
            "가중치 수정후 target :-1 y:1 b:0.01 W:[-0.01 -0.01]\n",
            "iteration ------------- 88\n",
            "가중치 수정전 target :-1 y:1 b:0.01 W:[-0.01 -0.01]\n",
            "가중치 수정후 target :-1 y:1 b:0.0 W:[0. 0.]\n",
            "가중치 수정전 target :1 y:0 b:0.0 W:[0. 0.]\n",
            "가중치 수정후 target :1 y:0 b:0.01 W:[-0.01  0.01]\n",
            "가중치 수정전 target :1 y:-1 b:0.01 W:[-0.01  0.01]\n",
            "가중치 수정후 target :1 y:-1 b:0.02 W:[0. 0.]\n",
            "가중치 수정전 target :-1 y:1 b:0.02 W:[0. 0.]\n",
            "가중치 수정후 target :-1 y:1 b:0.01 W:[-0.01 -0.01]\n",
            "iteration ------------- 89\n",
            "가중치 수정전 target :-1 y:1 b:0.01 W:[-0.01 -0.01]\n",
            "가중치 수정후 target :-1 y:1 b:0.0 W:[0. 0.]\n",
            "가중치 수정전 target :1 y:0 b:0.0 W:[0. 0.]\n",
            "가중치 수정후 target :1 y:0 b:0.01 W:[-0.01  0.01]\n",
            "가중치 수정전 target :1 y:-1 b:0.01 W:[-0.01  0.01]\n",
            "가중치 수정후 target :1 y:-1 b:0.02 W:[0. 0.]\n",
            "가중치 수정전 target :-1 y:1 b:0.02 W:[0. 0.]\n",
            "가중치 수정후 target :-1 y:1 b:0.01 W:[-0.01 -0.01]\n",
            "iteration ------------- 90\n",
            "가중치 수정전 target :-1 y:1 b:0.01 W:[-0.01 -0.01]\n",
            "가중치 수정후 target :-1 y:1 b:0.0 W:[0. 0.]\n",
            "가중치 수정전 target :1 y:0 b:0.0 W:[0. 0.]\n",
            "가중치 수정후 target :1 y:0 b:0.01 W:[-0.01  0.01]\n",
            "가중치 수정전 target :1 y:-1 b:0.01 W:[-0.01  0.01]\n",
            "가중치 수정후 target :1 y:-1 b:0.02 W:[0. 0.]\n",
            "가중치 수정전 target :-1 y:1 b:0.02 W:[0. 0.]\n",
            "가중치 수정후 target :-1 y:1 b:0.01 W:[-0.01 -0.01]\n",
            "iteration ------------- 91\n",
            "가중치 수정전 target :-1 y:1 b:0.01 W:[-0.01 -0.01]\n",
            "가중치 수정후 target :-1 y:1 b:0.0 W:[0. 0.]\n",
            "가중치 수정전 target :1 y:0 b:0.0 W:[0. 0.]\n",
            "가중치 수정후 target :1 y:0 b:0.01 W:[-0.01  0.01]\n",
            "가중치 수정전 target :1 y:-1 b:0.01 W:[-0.01  0.01]\n",
            "가중치 수정후 target :1 y:-1 b:0.02 W:[0. 0.]\n",
            "가중치 수정전 target :-1 y:1 b:0.02 W:[0. 0.]\n",
            "가중치 수정후 target :-1 y:1 b:0.01 W:[-0.01 -0.01]\n",
            "iteration ------------- 92\n",
            "가중치 수정전 target :-1 y:1 b:0.01 W:[-0.01 -0.01]\n",
            "가중치 수정후 target :-1 y:1 b:0.0 W:[0. 0.]\n",
            "가중치 수정전 target :1 y:0 b:0.0 W:[0. 0.]\n",
            "가중치 수정후 target :1 y:0 b:0.01 W:[-0.01  0.01]\n",
            "가중치 수정전 target :1 y:-1 b:0.01 W:[-0.01  0.01]\n",
            "가중치 수정후 target :1 y:-1 b:0.02 W:[0. 0.]\n",
            "가중치 수정전 target :-1 y:1 b:0.02 W:[0. 0.]\n",
            "가중치 수정후 target :-1 y:1 b:0.01 W:[-0.01 -0.01]\n",
            "iteration ------------- 93\n",
            "가중치 수정전 target :-1 y:1 b:0.01 W:[-0.01 -0.01]\n",
            "가중치 수정후 target :-1 y:1 b:0.0 W:[0. 0.]\n",
            "가중치 수정전 target :1 y:0 b:0.0 W:[0. 0.]\n",
            "가중치 수정후 target :1 y:0 b:0.01 W:[-0.01  0.01]\n",
            "가중치 수정전 target :1 y:-1 b:0.01 W:[-0.01  0.01]\n",
            "가중치 수정후 target :1 y:-1 b:0.02 W:[0. 0.]\n",
            "가중치 수정전 target :-1 y:1 b:0.02 W:[0. 0.]\n",
            "가중치 수정후 target :-1 y:1 b:0.01 W:[-0.01 -0.01]\n",
            "iteration ------------- 94\n",
            "가중치 수정전 target :-1 y:1 b:0.01 W:[-0.01 -0.01]\n",
            "가중치 수정후 target :-1 y:1 b:0.0 W:[0. 0.]\n",
            "가중치 수정전 target :1 y:0 b:0.0 W:[0. 0.]\n",
            "가중치 수정후 target :1 y:0 b:0.01 W:[-0.01  0.01]\n",
            "가중치 수정전 target :1 y:-1 b:0.01 W:[-0.01  0.01]\n",
            "가중치 수정후 target :1 y:-1 b:0.02 W:[0. 0.]\n",
            "가중치 수정전 target :-1 y:1 b:0.02 W:[0. 0.]\n",
            "가중치 수정후 target :-1 y:1 b:0.01 W:[-0.01 -0.01]\n",
            "iteration ------------- 95\n",
            "가중치 수정전 target :-1 y:1 b:0.01 W:[-0.01 -0.01]\n",
            "가중치 수정후 target :-1 y:1 b:0.0 W:[0. 0.]\n",
            "가중치 수정전 target :1 y:0 b:0.0 W:[0. 0.]\n",
            "가중치 수정후 target :1 y:0 b:0.01 W:[-0.01  0.01]\n",
            "가중치 수정전 target :1 y:-1 b:0.01 W:[-0.01  0.01]\n",
            "가중치 수정후 target :1 y:-1 b:0.02 W:[0. 0.]\n",
            "가중치 수정전 target :-1 y:1 b:0.02 W:[0. 0.]\n",
            "가중치 수정후 target :-1 y:1 b:0.01 W:[-0.01 -0.01]\n",
            "iteration ------------- 96\n",
            "가중치 수정전 target :-1 y:1 b:0.01 W:[-0.01 -0.01]\n",
            "가중치 수정후 target :-1 y:1 b:0.0 W:[0. 0.]\n",
            "가중치 수정전 target :1 y:0 b:0.0 W:[0. 0.]\n",
            "가중치 수정후 target :1 y:0 b:0.01 W:[-0.01  0.01]\n",
            "가중치 수정전 target :1 y:-1 b:0.01 W:[-0.01  0.01]\n",
            "가중치 수정후 target :1 y:-1 b:0.02 W:[0. 0.]\n",
            "가중치 수정전 target :-1 y:1 b:0.02 W:[0. 0.]\n",
            "가중치 수정후 target :-1 y:1 b:0.01 W:[-0.01 -0.01]\n",
            "iteration ------------- 97\n",
            "가중치 수정전 target :-1 y:1 b:0.01 W:[-0.01 -0.01]\n",
            "가중치 수정후 target :-1 y:1 b:0.0 W:[0. 0.]\n",
            "가중치 수정전 target :1 y:0 b:0.0 W:[0. 0.]\n",
            "가중치 수정후 target :1 y:0 b:0.01 W:[-0.01  0.01]\n",
            "가중치 수정전 target :1 y:-1 b:0.01 W:[-0.01  0.01]\n",
            "가중치 수정후 target :1 y:-1 b:0.02 W:[0. 0.]\n",
            "가중치 수정전 target :-1 y:1 b:0.02 W:[0. 0.]\n",
            "가중치 수정후 target :-1 y:1 b:0.01 W:[-0.01 -0.01]\n",
            "iteration ------------- 98\n",
            "가중치 수정전 target :-1 y:1 b:0.01 W:[-0.01 -0.01]\n",
            "가중치 수정후 target :-1 y:1 b:0.0 W:[0. 0.]\n",
            "가중치 수정전 target :1 y:0 b:0.0 W:[0. 0.]\n",
            "가중치 수정후 target :1 y:0 b:0.01 W:[-0.01  0.01]\n",
            "가중치 수정전 target :1 y:-1 b:0.01 W:[-0.01  0.01]\n",
            "가중치 수정후 target :1 y:-1 b:0.02 W:[0. 0.]\n",
            "가중치 수정전 target :-1 y:1 b:0.02 W:[0. 0.]\n",
            "가중치 수정후 target :-1 y:1 b:0.01 W:[-0.01 -0.01]\n",
            "iteration ------------- 99\n"
          ]
        }
      ],
      "source": [
        "# XOR 진리표는 학습이 되지 않음!!\n",
        "adjusted = 0\n",
        "for i in range(100):\n",
        "    adjusted += train(-1,-1, -1)    # 훈련 데이터 1\n",
        "    adjusted += train(-1, 1,  1)    # 훈련 데이터 2\n",
        "    adjusted += train( 1,-1,  1)    # 훈련 데이터 3\n",
        "    adjusted += train( 1, 1, -1)    # 훈련 데이터 4\n",
        "    print(\"iteration -------------\", i)\n",
        "    if not adjusted: break  # 모든 훈련에 대해 가중치 변화 없으면 학습종료\n",
        "    adjusted = 0 "
      ]
    },
    {
      "cell_type": "markdown",
      "metadata": {
        "id": "j7cyy3sNNo2f"
      },
      "source": [
        "### 7.4 퍼셉트론, 연결주의가 누린 첫 영예와 긴 좌절"
      ]
    },
    {
      "cell_type": "markdown",
      "metadata": {
        "id": "NaM6I0afNt6l"
      },
      "source": [
        "### 7.5 퍼셉트론이 XOR를 풀 수 있게 만드는 방법은?"
      ]
    },
    {
      "cell_type": "markdown",
      "metadata": {
        "id": "dhVgUznCH_Jp"
      },
      "source": [
        "\n",
        "### LAB 7-4 : 입력 다항화로 XOR를 해결해 보기"
      ]
    },
    {
      "cell_type": "code",
      "execution_count": null,
      "metadata": {
        "id": "9cTGyU0AIHNv"
      },
      "outputs": [],
      "source": [
        "import numpy as np\n",
        "\n",
        "W = np.array([0, 0, 0, 0])\n",
        "learning_rate = 0.01 "
      ]
    },
    {
      "cell_type": "code",
      "execution_count": null,
      "metadata": {
        "id": "gXm0bw-RIIMT"
      },
      "outputs": [],
      "source": [
        "def activation(s):\n",
        "    if s > 0: return 1\n",
        "    elif s < 0: return -1\n",
        "    return 0"
      ]
    },
    {
      "cell_type": "code",
      "execution_count": null,
      "metadata": {
        "id": "Z7hyIz6BIKSm"
      },
      "outputs": [],
      "source": [
        "def out(polyX) :\n",
        "    return activation (W.dot(polyX))"
      ]
    },
    {
      "cell_type": "code",
      "execution_count": null,
      "metadata": {
        "id": "arHwyJ_yIMmw"
      },
      "outputs": [],
      "source": [
        "def train(x0, x1, target):\n",
        "    global W\n",
        "    polyX = np.array([x0, x1, x0*x1, 1])\n",
        "    y = out(polyX)\n",
        "\n",
        "    ### 예측이 맞으면 아무것도 하지 않음-------------------------------------\n",
        "    if target == y: return 0               # 가중치가 변경되지 않았음을 반환\n",
        "    ### 예측이 틀리면 학습 실시---------------------------------------------\n",
        "    print('가중치 수정전 target :{} y:{} W:{}'.format(target, y, W))\n",
        "    W = W + learning_rate * polyX * target # 입력x목표값에 비례하여 변경\n",
        "    print('가중치 수정후 target :{} y:{} W:{}'.format(target, y, W))\n",
        "    return 1                               # 가중치가 변경되었음을 반환"
      ]
    },
    {
      "cell_type": "code",
      "execution_count": null,
      "metadata": {
        "id": "FK0AaaUlIXX7"
      },
      "outputs": [],
      "source": [
        "def predict(inputs):\n",
        "    outputs = []\n",
        "    for x in inputs:\n",
        "        polyX = np.array([x[0], x[1], x[0]*x[1], 1])\n",
        "        outputs.append (out(polyX))\n",
        "    return outputs"
      ]
    },
    {
      "cell_type": "code",
      "execution_count": null,
      "metadata": {
        "colab": {
          "base_uri": "https://localhost:8080/"
        },
        "id": "H5IC34vHIang",
        "outputId": "e65fea69-f440-4d07-ba3f-4d5266ebfb55"
      },
      "outputs": [
        {
          "name": "stdout",
          "output_type": "stream",
          "text": [
            "가중치 수정전 target :-1 y:0 W:[0 0 0 0]\n",
            "가중치 수정후 target :-1 y:0 W:[ 0.01  0.01 -0.01 -0.01]\n",
            "가중치 수정전 target :1 y:0 W:[ 0.01  0.01 -0.01 -0.01]\n",
            "가중치 수정후 target :1 y:0 W:[ 0.    0.02 -0.02  0.  ]\n",
            "가중치 수정전 target :1 y:0 W:[ 0.    0.02 -0.02  0.  ]\n",
            "가중치 수정후 target :1 y:0 W:[ 0.01  0.01 -0.03  0.01]\n",
            "가중치 수정전 target :-1 y:1 W:[ 0.01  0.01 -0.03  0.01]\n",
            "가중치 수정후 target :-1 y:1 W:[ 0.    0.   -0.04  0.  ]\n",
            "iteration ------------- 0\n",
            "iteration ------------- 1\n",
            "x0 x1  y\n",
            "-1 -1 -1\n",
            "-1  1  1\n",
            " 1 -1  1\n",
            " 1  1 -1\n"
          ]
        }
      ],
      "source": [
        "adjusted = 0\n",
        "for i in range(100):\n",
        "    adjusted += train(-1,-1, -1)    # 훈련 데이터 1\n",
        "    adjusted += train(-1, 1,  1)    # 훈련 데이터 2\n",
        "    adjusted += train( 1,-1,  1)    # 훈련 데이터 3\n",
        "    adjusted += train( 1, 1, -1)    # 훈련 데이터 4\n",
        "    print(\"iteration -------------\", i)\n",
        "    if not adjusted: break  # 모든 훈련에 대해 가중치 변화 없으면 학습종료\n",
        "    adjusted = 0\n",
        "\n",
        "X = [[-1, -1], [-1, 1], [1, -1], [1,1]]\n",
        "yhat = predict(X)\n",
        "print('x0 x1  y')\n",
        "for i in range(len(X)):\n",
        "    print('{0:2d} {1:2d} {2:2d}'.format(X[i][0], X[i][1], yhat[i]))"
      ]
    },
    {
      "cell_type": "markdown",
      "metadata": {
        "id": "VPTcvotxNzhe"
      },
      "source": [
        "### 7.6 다층 퍼셉트론의 학습 1 - 오차를 줄이도록 연결 강도를 고치자"
      ]
    },
    {
      "cell_type": "markdown",
      "metadata": {
        "id": "jbvkit2vN26-"
      },
      "source": [
        "### 7.7 다층 퍼셉트론의 학습 2 - 오차를 아래로 전파하자"
      ]
    },
    {
      "cell_type": "markdown",
      "metadata": {
        "id": "8O9G-17hN75v"
      },
      "source": [
        "### 7.8 역전파 알고리즘에 대한 직관적 이해"
      ]
    },
    {
      "cell_type": "markdown",
      "metadata": {
        "id": "lbMcYwZ-N-eI"
      },
      "source": [
        "### 7.9 계층 단위로 신호 전파하기"
      ]
    },
    {
      "cell_type": "markdown",
      "metadata": {
        "id": "ncCSCkVkOAZp"
      },
      "source": [
        "### 7.10 역전파 알고리즘의 요약"
      ]
    },
    {
      "cell_type": "markdown",
      "metadata": {
        "id": "oQhR1VMYRjMH"
      },
      "source": [
        "### LAB 7-5 : XOR 연산이 가능한 다층 퍼셉트론 만들기"
      ]
    },
    {
      "cell_type": "code",
      "execution_count": null,
      "metadata": {
        "id": "iYEggK_ARohF"
      },
      "outputs": [],
      "source": [
        "import numpy as np\n",
        "import matplotlib.pyplot as plt"
      ]
    },
    {
      "cell_type": "markdown",
      "metadata": {
        "id": "D2riW_3TStxJ"
      },
      "source": [
        "U: 연결강도 $\\mathbf U$\n",
        "\n",
        "W: 연결강도 $\\mathbf W$\n",
        "\n",
        "learning_rate: 학습률 $\\eta$"
      ]
    },
    {
      "cell_type": "code",
      "execution_count": null,
      "metadata": {
        "id": "3JFrADH8RyAm"
      },
      "outputs": [],
      "source": [
        "U = np.random.rand(2,3)   # 연결강도 \n",
        "W = np.random.rand(3,2)   # 연결강도 \n",
        "learning_rate = 1.0       # 학습률 "
      ]
    },
    {
      "cell_type": "code",
      "execution_count": null,
      "metadata": {
        "id": "9sN0j9SeSPWt"
      },
      "outputs": [],
      "source": [
        "def sigmoid(v):\n",
        "    return 1 / (1+np.exp(-v))\n",
        "\n",
        "def derivative_sigmoid(v):\n",
        "    s = sigmoid(v)\n",
        "    return s*(1-s)"
      ]
    },
    {
      "cell_type": "markdown",
      "metadata": {
        "id": "36cuWksBWC6A"
      },
      "source": [
        "순전파시 계산될 값들 : $\\mathbf h^{\\Sigma} ~ \\mathbf h^{\\phi} ~ \\mathbf h^{{\\phi}'}$\n",
        "\n",
        "역전파시 계산될 값들 : $\\mathbf e^h ~ \\delta^h$\n",
        "\n",
        "\n",
        "순전파시 계산될 값들 : $\\mathbf y^{\\Sigma} ~ \\mathbf y^{\\phi} ~ \\mathbf y^{{\\phi}'}$\n",
        "\n",
        "역전파시 계산될 값들 : $ \\mathbf e^y ~ \\delta^y $"
      ]
    },
    {
      "cell_type": "code",
      "execution_count": null,
      "metadata": {
        "id": "ja5YfC_6SQ-L"
      },
      "outputs": [],
      "source": [
        "input = np.zeros(2)\n",
        "\n",
        "# 순전파시 계산될 값들 \n",
        "h_sum, h_out, h_deriv = np.zeros(3), np.zeros(3), np.zeros(3)\n",
        "# 역전파시 계산될 값들 \n",
        "h_error, h_delta = np.zeros(3), np.zeros(3)                  \n",
        "\n",
        "# 순전파시 계산될 값들 \n",
        "y_sum, y_out, y_deriv = np.zeros(2), np.zeros(2), np.zeros(2)\n",
        "# 역전파시 계산될 값들 \n",
        "y_error, y_delta = np.zeros(2), np.zeros(2)"
      ]
    },
    {
      "cell_type": "markdown",
      "metadata": {
        "id": "XIx5LokmX29v"
      },
      "source": [
        "은닉층에서 합산된 값: $\\mathbf h^{\\Sigma} = \\mathbf U^{\\mathrm T} \\mathbf x$\n",
        "\n",
        "은닉층의 활성화 값: $\\mathbf h^{\\phi} = \\phi(\\mathbf h^{\\Sigma})$\n",
        "\n",
        "은닉층 활성화 미분치: $\\mathbf h^{{\\phi}'} = \\phi'(\\mathbf h^{\\Sigma})$"
      ]
    },
    {
      "cell_type": "code",
      "execution_count": null,
      "metadata": {
        "id": "cS8fw2cLSUhq"
      },
      "outputs": [],
      "source": [
        "def forward_xh(x):\n",
        "    global input, h_sum, h_out, h_deriv\n",
        "    input = x\n",
        "    h_sum = U.T.dot(input)                 # 은닉층에서 합산된 값\n",
        "    h_out = sigmoid(h_sum)                 # 은닉층의 활성화 값\n",
        "    h_deriv = derivative_sigmoid(h_sum)    # 은닉층 활성화 미분치"
      ]
    },
    {
      "cell_type": "markdown",
      "metadata": {
        "id": "eCv1E9ifYUmP"
      },
      "source": [
        "출력층에서 합산된 값: $\\mathbf y^{\\Sigma} = \\mathbf W^{\\mathrm T} \\mathbf x$\n",
        "\n",
        "출력층의 활성화 값: $\\mathbf y^{\\phi} = \\phi(\\mathbf y^{\\Sigma})$\n",
        "\n",
        "출력층 활성화 미분치: $\\mathbf y^{{\\phi}'} = \\phi'(\\mathbf y^{\\Sigma})$"
      ]
    },
    {
      "cell_type": "code",
      "execution_count": null,
      "metadata": {
        "id": "noDseci6Snpo"
      },
      "outputs": [],
      "source": [
        "def forward_hy():\n",
        "    global y_sum, y_out, y_deriv\n",
        "    y_sum = W.T.dot(h_out)                  # 출력층에서 합산된 값\n",
        "    y_out = sigmoid(y_sum)                  # 출력층의 활성화 값\n",
        "    y_deriv = derivative_sigmoid(y_sum)     # 출력층의 활성화 미분치"
      ]
    },
    {
      "cell_type": "markdown",
      "metadata": {
        "id": "Tw_5W1MKYyBM"
      },
      "source": [
        "오차 계산: $ \\mathbf y^{\\phi} - \\mathbf t$"
      ]
    },
    {
      "cell_type": "code",
      "execution_count": null,
      "metadata": {
        "id": "voh88bUeSqVB"
      },
      "outputs": [],
      "source": [
        "def compute_error(target):\n",
        "    return y_out - target                   # 오차의 계산"
      ]
    },
    {
      "cell_type": "markdown",
      "metadata": {
        "id": "7YB0l0cJZJPe"
      },
      "source": [
        "출력층 오차 : $\\mathbf e^y$\n",
        "\n",
        "출력층에서 보내는 델타: $\\delta^y = \\mathbf y^{{\\phi}'} \\otimes \\mathbf e^y$\n",
        "\n",
        "연결강도 갱신: $\\Delta \\mathbf W = \\eta \\mathbf h^{\\phi} {\\delta^y}^{\\mathrm T}$"
      ]
    },
    {
      "cell_type": "code",
      "execution_count": null,
      "metadata": {
        "id": "-3zlHV2aSsjZ"
      },
      "outputs": [],
      "source": [
        "def backward_y(error):\n",
        "    global y_error, y_delta, W\n",
        "    y_error = error                                    # 출력층 오차\n",
        "    y_delta = y_deriv * y_error                        # 출력층에서 보내는 델타\n",
        "    ## 연결강도 W 수정\n",
        "    dW = - learning_rate * np.outer(h_out, y_delta)    # 연결강도 갱신: 은닉층 출력과 출력층 델타의 외적\n",
        "    W = W + dW   "
      ]
    },
    {
      "cell_type": "markdown",
      "metadata": {
        "id": "xOVJU17Sau-J"
      },
      "source": [
        "은닉층 오차 : $\\mathbf e^h = \\mathbf W \\delta^y$\n",
        "\n",
        "은닉층에서 보내는 델타: $\\delta^h = \\mathbf h^{{\\phi}'} \\otimes \\mathbf e^h$\n",
        "\n",
        "연결강도 갱신: $\\Delta \\mathbf U = \\eta \\mathbf x^{\\phi} {\\delta^h}^{\\mathrm T}$"
      ]
    },
    {
      "cell_type": "code",
      "execution_count": null,
      "metadata": {
        "id": "PlE54jkLSvNC"
      },
      "outputs": [],
      "source": [
        "def backward_h():\n",
        "   global h_error, h_delta, U\n",
        "   h_error = W.dot(y_delta)                             # 은닉층 오차\n",
        "   h_delta = h_deriv * h_error                          # 은닉층에서 보내는 델타\n",
        "   ## 연결강도 U 수정\n",
        "   dU = - learning_rate * np.outer(input, h_delta)      # 연결강도 갱신\n",
        "   U = U + dU  "
      ]
    },
    {
      "cell_type": "code",
      "execution_count": null,
      "metadata": {
        "id": "t0e4ZygcSx_z"
      },
      "outputs": [],
      "source": [
        "def train(x, target):\n",
        "    forward_xh(x)\n",
        "    forward_hy()\n",
        "    e = compute_error(target)\n",
        "    backward_y(e)\n",
        "    backward_h()\n",
        "    return e**2"
      ]
    },
    {
      "cell_type": "code",
      "execution_count": null,
      "metadata": {
        "id": "v5vUsbKmS0bM"
      },
      "outputs": [],
      "source": [
        "loss = []\n",
        "\n",
        "for i in range(1000):\n",
        "    e_accum=0\n",
        "    true = np.array([1,0])\n",
        "    false = np.array([0,1])\n",
        "    e_accum += train(np.array([0,0]), false)    # 훈련 데이터 1 \n",
        "    e_accum += train(np.array([0,1]), true)     # 훈련 데이터 2\n",
        "    e_accum += train(np.array([1,0]), true)     # 훈련 데이터 3\n",
        "    e_accum += train(np.array([1,1]), false)    # 훈련 데이터 4\n",
        "    loss.append(e_accum)"
      ]
    },
    {
      "cell_type": "code",
      "execution_count": null,
      "metadata": {
        "colab": {
          "base_uri": "https://localhost:8080/",
          "height": 449
        },
        "id": "9gQO_AFPS4KF",
        "outputId": "a1e8ed83-7bc6-48c3-e601-346fedb63bfe"
      },
      "outputs": [
        {
          "output_type": "display_data",
          "data": {
            "text/plain": [
              "<Figure size 640x480 with 1 Axes>"
            ],
            "image/png": "[encoded data removed]"
          },
          "metadata": {}
        }
      ],
      "source": [
        "plt.plot(loss)\n",
        "plt.ylabel('loss')\n",
        "plt.xlabel('training')\n",
        "plt.show()"
      ]
    },
    {
      "cell_type": "code",
      "execution_count": null,
      "metadata": {
        "id": "nArPP0bkTFnx"
      },
      "outputs": [],
      "source": [
        "def test(X):\n",
        "    y_hat = []\n",
        "    for x in X:\n",
        "        forward_xh(x)\n",
        "        forward_hy()\n",
        "        y_hat.append(y_out)\n",
        "    return y_hat"
      ]
    },
    {
      "cell_type": "code",
      "execution_count": null,
      "metadata": {
        "colab": {
          "base_uri": "https://localhost:8080/"
        },
        "id": "36glHze-UZqu",
        "outputId": "84f803d0-0eab-49e8-bd12-84be402dbbae"
      },
      "outputs": [
        {
          "output_type": "execute_result",
          "data": {
            "text/plain": [
              "[array([0.11827764, 0.88265796]),\n",
              " array([0.92654019, 0.07282   ]),\n",
              " array([0.92604573, 0.07329797]),\n",
              " array([0.03582479, 0.96468823])]"
            ]
          },
          "metadata": {},
          "execution_count": 15
        }
      ],
      "source": [
        "test(np.array([[0, 0], [0, 1], [1, 0], [1, 1]]))"
      ]
    },
    {
      "cell_type": "markdown",
      "metadata": {
        "id": "JgQi1smwPxxL"
      },
      "source": [
        "\n",
        "\n",
        "### LAB 7-6 : 다층 퍼셉트론으로 비선형 회귀 구현하기"
      ]
    },
    {
      "cell_type": "code",
      "execution_count": null,
      "metadata": {
        "colab": {
          "base_uri": "https://localhost:8080/",
          "height": 255
        },
        "id": "D54qOTCrVbVO",
        "outputId": "c9920b6e-47a8-4ab1-aee0-3a9259d7853c"
      },
      "outputs": [
        {
          "data": {
            "text/plain": [
              "<matplotlib.collections.PathCollection at 0x7f2eb5afda90>"
            ]
          },
          "execution_count": 38,
          "metadata": {},
          "output_type": "execute_result"
        },
        {
          "data": {
            "image/png": "[encoded data removed]",
            "text/plain": [
              "<Figure size 432x288 with 1 Axes>"
            ]
          },
          "metadata": {},
          "output_type": "display_data"
        }
      ],
      "source": [
        "import pandas as pd\n",
        "import matplotlib.pyplot as plt\n",
        "import numpy as np\n",
        "\n",
        "data_loc = 'https://github.com/dknife/ML/raw/main/data/'\n",
        "df = pd.read_csv(data_loc+'nonlinear.csv')\n",
        "plt.scatter(df['x'], df['y'])"
      ]
    },
    {
      "cell_type": "code",
      "execution_count": null,
      "metadata": {
        "id": "B59BZXWLVcFK"
      },
      "outputs": [],
      "source": [
        "nx, nh1, nh2, ny = 1, 6, 4, 1\n",
        "U = np.random.randn(nx , nh1)*2\n",
        "V = np.random.randn(nh1, nh2)*2\n",
        "W = np.random.randn(nh2, ny)*2\n",
        "learning_rate = 0.1"
      ]
    },
    {
      "cell_type": "code",
      "execution_count": null,
      "metadata": {
        "id": "vasOkRuXDhxL"
      },
      "outputs": [],
      "source": [
        "def sigmoid(v):\n",
        "    return 1 / (1+np.exp(-v))"
      ]
    },
    {
      "cell_type": "code",
      "execution_count": null,
      "metadata": {
        "id": "U2-84_rGDmAg"
      },
      "outputs": [],
      "source": [
        "input = np.zeros(nx)\n",
        "\n",
        "h1_out, h1_deriv = np.zeros(nh1), np.zeros(nh1) # 순전파시 계산 - 은닉계층 1\n",
        "h1_delta = np.zeros(nh1)                        # 역전파시 계산\n",
        "\n",
        "h2_out, h2_deriv = np.zeros(nh2), np.zeros(nh2) # 순전파시 계산 - 은닉계층 2\n",
        "h2_delta = np.zeros(nh2)                        # 역전파시 계산\n",
        "\n",
        "y_out, y_deriv = np.zeros(ny), np.zeros(ny)     # 순전파시 계산 - 출력계층\n",
        "y_delta = np.zeros(ny)                          # 역전파시 계산"
      ]
    },
    {
      "cell_type": "code",
      "execution_count": null,
      "metadata": {
        "id": "oLkcOCYLDoZQ"
      },
      "outputs": [],
      "source": [
        "def forward(x):\n",
        "    global input, h1_out, h1_deriv, h2_out, h2_deriv, y_out, y_deriv\n",
        "    input = x\n",
        "    h1_out = sigmoid ( U.T.dot(input) )          # 은닉계층 1로 전파\n",
        "    h1_deriv = h1_out * (1 - h1_out)             # 은닉계층 1의 미분\n",
        "\n",
        "    h2_out = sigmoid ( V.T.dot(h1_out) )         # 은닉계층 2로 전파\n",
        "    h2_deriv = h2_out * (1 - h2_out)             # 은닉계층 2의 미분\n",
        "  \n",
        "    y_out = sigmoid( W.T.dot(h2_out) )           # 출력계층으로 전파\n",
        "    y_deriv = y_out * (1 - y_out)                # 출력계층의 미분"
      ]
    },
    {
      "cell_type": "code",
      "execution_count": null,
      "metadata": {
        "id": "Otl8f2-2DqpI"
      },
      "outputs": [],
      "source": [
        "def compute_error(target):\n",
        "    return y_out - target"
      ]
    },
    {
      "cell_type": "code",
      "execution_count": null,
      "metadata": {
        "id": "vjCpMKsUDs1Q"
      },
      "outputs": [],
      "source": [
        "def backward(error):\n",
        "    global y_delta, W, h2_delta, V, h1_delta, U\n",
        "  \n",
        "    y_delta = y_deriv * error                         # 출력 계층의 델타\n",
        "    dW = - learning_rate * np.outer(h2_out, y_delta)  # W의 수정\n",
        "    W = W + dW\n",
        "\n",
        "    h2_delta = h2_deriv * W.dot(y_delta)              # 은닉 계층 2의 델타\n",
        "    dV = - learning_rate * np.outer(h1_out, h2_delta) # V의 수정\n",
        "    V = V + dV\n",
        "\n",
        "    h1_delta = h1_deriv * V.dot(h2_delta)             # 은닉 계층 1의 델타\n",
        "    dU = - learning_rate * np.outer(input, h1_delta)  # U의 수정\n",
        "    U = U + dV"
      ]
    },
    {
      "cell_type": "code",
      "execution_count": null,
      "metadata": {
        "id": "5hPJ6RMyDuzf"
      },
      "outputs": [],
      "source": [
        "def train(x, target):\n",
        "    forward(x)\n",
        "    e = compute_error(target)\n",
        "    backward(e)\n",
        "    return e**2"
      ]
    },
    {
      "cell_type": "code",
      "execution_count": null,
      "metadata": {
        "colab": {
          "background_save": true
        },
        "id": "SH0chacbDwzY"
      },
      "outputs": [],
      "source": [
        "loss = []\n",
        "X = df['x'].to_numpy()\n",
        "y_label = df['y'].to_numpy()\n",
        "for i in range(100):\n",
        "    e_accum = 0\n",
        "    for x, y in zip(X, y_label):\n",
        "        e_accum += train(x, y)\n",
        "    loss.append(e_accum)"
      ]
    },
    {
      "cell_type": "code",
      "execution_count": null,
      "metadata": {
        "colab": {
          "base_uri": "https://localhost:8080/",
          "height": 265
        },
        "id": "1yMJs12lD1Cv",
        "outputId": "854145e5-5ca2-46f9-a5c4-0c02d2049557"
      },
      "outputs": [
        {
          "data": {
            "image/png": "[encoded data removed]",
            "text/plain": [
              "<Figure size 432x288 with 1 Axes>"
            ]
          },
          "metadata": {
            "tags": []
          },
          "output_type": "display_data"
        }
      ],
      "source": [
        "err_log = np.array(loss).flatten()\n",
        "plt.plot(err_log)\n",
        "plt.show()"
      ]
    },
    {
      "cell_type": "code",
      "execution_count": null,
      "metadata": {
        "id": "zoeerS03D4jH"
      },
      "outputs": [],
      "source": [
        "def predict(X):\n",
        "    y_hat = []\n",
        "    for x in X:\n",
        "        forward(x)\n",
        "        y_hat.append(y_out)\n",
        "    return y_hat"
      ]
    },
    {
      "cell_type": "code",
      "execution_count": null,
      "metadata": {
        "colab": {
          "base_uri": "https://localhost:8080/",
          "height": 282
        },
        "id": "dr3yC1WoD7nP",
        "outputId": "05724aa2-f945-4ec5-ebb5-537583b8e671"
      },
      "outputs": [
        {
          "data": {
            "text/plain": [
              "<matplotlib.collections.PathCollection at 0x7f3591e85fd0>"
            ]
          },
          "execution_count": 49,
          "metadata": {
            "tags": []
          },
          "output_type": "execute_result"
        },
        {
          "data": {
            "image/png": "[encoded data removed]",
            "text/plain": [
              "<Figure size 432x288 with 1 Axes>"
            ]
          },
          "metadata": {
            "tags": []
          },
          "output_type": "display_data"
        }
      ],
      "source": [
        "domain = np.linspace(0, 1, 100).reshape(-1,1) # 입력은 2차원 벡터로 변형\n",
        "y_hat = predict(domain)\n",
        "plt.scatter(df['x'], df['y'])\n",
        "plt.scatter(domain, y_hat, color='r')"
      ]
    },
    {
      "cell_type": "markdown",
      "metadata": {
        "id": "Lu1uaez9EI8Q"
      },
      "source": [
        "### 7.11 신경망을 쉽게 설계하고 훈련을 실시할 수 있는 도구 활용"
      ]
    },
    {
      "cell_type": "code",
      "execution_count": null,
      "metadata": {
        "id": "Q4tax9HxELdw"
      },
      "outputs": [],
      "source": [
        "import pandas as pd\n",
        "import numpy as np\n",
        "import matplotlib.pyplot as plt\n",
        "\n",
        "# 텐서플로우와 케라스를 사용할 수 있도록 준비\n",
        "import tensorflow as tf\n",
        "from tensorflow import keras"
      ]
    },
    {
      "cell_type": "code",
      "execution_count": null,
      "metadata": {
        "id": "U2sAfKo7EObI"
      },
      "outputs": [],
      "source": [
        "model = keras.models.Sequential( [\n",
        "    keras.layers.Dense(6, activation= 'sigmoid'),\n",
        "    keras.layers.Dense(4, activation= 'sigmoid'),\n",
        "    keras.layers.Dense(1, activation= 'sigmoid'),\n",
        "])"
      ]
    },
    {
      "cell_type": "code",
      "execution_count": null,
      "metadata": {
        "id": "H8_WbPmWEQgQ"
      },
      "outputs": [],
      "source": [
        "optimizer = keras.optimizers.SGD(learning_rate=5.0)\n",
        "model.compile(optimizer=optimizer, loss='mse')"
      ]
    },
    {
      "cell_type": "code",
      "execution_count": null,
      "metadata": {
        "id": "u8LHaN2PESnQ"
      },
      "outputs": [],
      "source": [
        "data_loc = 'https://github.com/dknife/ML/raw/main/data/'\n",
        "df = pd.read_csv(data_loc+'nonlinear.csv')\n",
        "X = df['x'].to_numpy()[:, np.newaxis]\n",
        "y_label = df['y'].to_numpy()"
      ]
    },
    {
      "cell_type": "code",
      "execution_count": null,
      "metadata": {
        "colab": {
          "base_uri": "https://localhost:8080/"
        },
        "id": "YGgPyzcQEUXH",
        "outputId": "a6af82fc-e4c4-4fa6-97b6-b3a5e6609e45"
      },
      "outputs": [
        {
          "output_type": "stream",
          "name": "stdout",
          "text": [
            "Epoch 1/100\n",
            "32/32 [==============================] - 1s 4ms/step - loss: 0.6292\n",
            "Epoch 2/100\n",
            "32/32 [==============================] - 0s 3ms/step - loss: 0.5879\n",
            "Epoch 3/100\n",
            "32/32 [==============================] - 0s 3ms/step - loss: 0.5048\n",
            "Epoch 4/100\n",
            "32/32 [==============================] - 0s 2ms/step - loss: 0.4719\n",
            "Epoch 5/100\n",
            "32/32 [==============================] - 0s 3ms/step - loss: 0.4149\n",
            "Epoch 6/100\n",
            "32/32 [==============================] - 0s 5ms/step - loss: 0.4144\n",
            "Epoch 7/100\n",
            "32/32 [==============================] - 0s 4ms/step - loss: 0.4086\n",
            "Epoch 8/100\n",
            "32/32 [==============================] - 0s 5ms/step - loss: 0.4088\n",
            "Epoch 9/100\n",
            "32/32 [==============================] - 0s 4ms/step - loss: 0.4034\n",
            "Epoch 10/100\n",
            "32/32 [==============================] - 0s 4ms/step - loss: 0.4078\n",
            "Epoch 11/100\n",
            "32/32 [==============================] - 0s 2ms/step - loss: 0.4022\n",
            "Epoch 12/100\n",
            "32/32 [==============================] - 0s 2ms/step - loss: 0.4022\n",
            "Epoch 13/100\n",
            "32/32 [==============================] - 0s 3ms/step - loss: 0.4013\n",
            "Epoch 14/100\n",
            "32/32 [==============================] - 0s 3ms/step - loss: 0.3995\n",
            "Epoch 15/100\n",
            "32/32 [==============================] - 0s 3ms/step - loss: 0.4018\n",
            "Epoch 16/100\n",
            "32/32 [==============================] - 0s 2ms/step - loss: 0.4009\n",
            "Epoch 17/100\n",
            "32/32 [==============================] - 0s 4ms/step - loss: 0.4030\n",
            "Epoch 18/100\n",
            "32/32 [==============================] - 0s 4ms/step - loss: 0.4019\n",
            "Epoch 19/100\n",
            "32/32 [==============================] - 0s 6ms/step - loss: 0.4013\n",
            "Epoch 20/100\n",
            "32/32 [==============================] - 0s 4ms/step - loss: 0.4018\n",
            "Epoch 21/100\n",
            "32/32 [==============================] - 0s 3ms/step - loss: 0.4010\n",
            "Epoch 22/100\n",
            "32/32 [==============================] - 0s 3ms/step - loss: 0.3997\n",
            "Epoch 23/100\n",
            "32/32 [==============================] - 0s 2ms/step - loss: 0.4005\n",
            "Epoch 24/100\n",
            "32/32 [==============================] - 0s 2ms/step - loss: 0.3990\n",
            "Epoch 25/100\n",
            "32/32 [==============================] - 0s 4ms/step - loss: 0.4011\n",
            "Epoch 26/100\n",
            "32/32 [==============================] - 0s 4ms/step - loss: 0.4010\n",
            "Epoch 27/100\n",
            "32/32 [==============================] - 0s 3ms/step - loss: 0.4012\n",
            "Epoch 28/100\n",
            "32/32 [==============================] - 0s 6ms/step - loss: 0.4005\n",
            "Epoch 29/100\n",
            "32/32 [==============================] - 0s 2ms/step - loss: 0.3993\n",
            "Epoch 30/100\n",
            "32/32 [==============================] - 0s 4ms/step - loss: 0.4012\n",
            "Epoch 31/100\n",
            "32/32 [==============================] - 0s 3ms/step - loss: 0.3966\n",
            "Epoch 32/100\n",
            "32/32 [==============================] - 0s 3ms/step - loss: 0.4032\n",
            "Epoch 33/100\n",
            "32/32 [==============================] - 0s 2ms/step - loss: 0.3992\n",
            "Epoch 34/100\n",
            "32/32 [==============================] - 0s 4ms/step - loss: 0.4006\n",
            "Epoch 35/100\n",
            "32/32 [==============================] - 0s 3ms/step - loss: 0.4010\n",
            "Epoch 36/100\n",
            "32/32 [==============================] - 0s 4ms/step - loss: 0.3981\n",
            "Epoch 37/100\n",
            "32/32 [==============================] - 0s 4ms/step - loss: 0.4021\n",
            "Epoch 38/100\n",
            "32/32 [==============================] - 0s 5ms/step - loss: 0.3968\n",
            "Epoch 39/100\n",
            "32/32 [==============================] - 0s 4ms/step - loss: 0.3945\n",
            "Epoch 40/100\n",
            "32/32 [==============================] - 0s 4ms/step - loss: 0.3950\n",
            "Epoch 41/100\n",
            "32/32 [==============================] - 0s 4ms/step - loss: 0.3975\n",
            "Epoch 42/100\n",
            "32/32 [==============================] - 0s 4ms/step - loss: 0.3896\n",
            "Epoch 43/100\n",
            "32/32 [==============================] - 0s 4ms/step - loss: 0.3843\n",
            "Epoch 44/100\n",
            "32/32 [==============================] - 0s 3ms/step - loss: 0.3804\n",
            "Epoch 45/100\n",
            "32/32 [==============================] - 0s 4ms/step - loss: 0.3806\n",
            "Epoch 46/100\n",
            "32/32 [==============================] - 0s 3ms/step - loss: 0.3785\n",
            "Epoch 47/100\n",
            "32/32 [==============================] - 0s 3ms/step - loss: 0.3783\n",
            "Epoch 48/100\n",
            "32/32 [==============================] - 0s 3ms/step - loss: 0.3784\n",
            "Epoch 49/100\n",
            "32/32 [==============================] - 0s 6ms/step - loss: 0.3785\n",
            "Epoch 50/100\n",
            "32/32 [==============================] - 0s 2ms/step - loss: 0.3804\n",
            "Epoch 51/100\n",
            "32/32 [==============================] - 0s 2ms/step - loss: 0.3714\n",
            "Epoch 52/100\n",
            "32/32 [==============================] - 0s 2ms/step - loss: 0.3692\n",
            "Epoch 53/100\n",
            "32/32 [==============================] - 0s 2ms/step - loss: 0.3735\n",
            "Epoch 54/100\n",
            "32/32 [==============================] - 0s 2ms/step - loss: 0.3732\n",
            "Epoch 55/100\n",
            "32/32 [==============================] - 0s 2ms/step - loss: 0.3704\n",
            "Epoch 56/100\n",
            "32/32 [==============================] - 0s 2ms/step - loss: 0.3697\n",
            "Epoch 57/100\n",
            "32/32 [==============================] - 0s 2ms/step - loss: 0.3716\n",
            "Epoch 58/100\n",
            "32/32 [==============================] - 0s 2ms/step - loss: 0.3765\n",
            "Epoch 59/100\n",
            "32/32 [==============================] - 0s 3ms/step - loss: 0.3684\n",
            "Epoch 60/100\n",
            "32/32 [==============================] - 0s 2ms/step - loss: 0.3670\n",
            "Epoch 61/100\n",
            "32/32 [==============================] - 0s 2ms/step - loss: 0.3696\n",
            "Epoch 62/100\n",
            "32/32 [==============================] - 0s 2ms/step - loss: 0.3674\n",
            "Epoch 63/100\n",
            "32/32 [==============================] - 0s 3ms/step - loss: 0.3688\n",
            "Epoch 64/100\n",
            "32/32 [==============================] - 0s 3ms/step - loss: 0.3688\n",
            "Epoch 65/100\n",
            "32/32 [==============================] - 0s 4ms/step - loss: 0.3723\n",
            "Epoch 66/100\n",
            "32/32 [==============================] - 0s 3ms/step - loss: 0.3752\n",
            "Epoch 67/100\n",
            "32/32 [==============================] - 0s 2ms/step - loss: 0.3684\n",
            "Epoch 68/100\n",
            "32/32 [==============================] - 0s 2ms/step - loss: 0.3703\n",
            "Epoch 69/100\n",
            "32/32 [==============================] - 0s 3ms/step - loss: 0.3697\n",
            "Epoch 70/100\n",
            "32/32 [==============================] - 0s 2ms/step - loss: 0.3699\n",
            "Epoch 71/100\n",
            "32/32 [==============================] - 0s 3ms/step - loss: 0.3644\n",
            "Epoch 72/100\n",
            "32/32 [==============================] - 0s 2ms/step - loss: 0.3714\n",
            "Epoch 73/100\n",
            "32/32 [==============================] - 0s 3ms/step - loss: 0.3691\n",
            "Epoch 74/100\n",
            "32/32 [==============================] - 0s 3ms/step - loss: 0.3724\n",
            "Epoch 75/100\n",
            "32/32 [==============================] - 0s 3ms/step - loss: 0.3705\n",
            "Epoch 76/100\n",
            "32/32 [==============================] - 0s 3ms/step - loss: 0.3686\n",
            "Epoch 77/100\n",
            "32/32 [==============================] - 0s 3ms/step - loss: 0.3666\n",
            "Epoch 78/100\n",
            "32/32 [==============================] - 0s 3ms/step - loss: 0.3644\n",
            "Epoch 79/100\n",
            "32/32 [==============================] - 0s 2ms/step - loss: 0.3720\n",
            "Epoch 80/100\n",
            "32/32 [==============================] - 0s 3ms/step - loss: 0.3742\n",
            "Epoch 81/100\n",
            "32/32 [==============================] - 0s 2ms/step - loss: 0.3708\n",
            "Epoch 82/100\n",
            "32/32 [==============================] - 0s 3ms/step - loss: 0.3734\n",
            "Epoch 83/100\n",
            "32/32 [==============================] - 0s 2ms/step - loss: 0.3685\n",
            "Epoch 84/100\n",
            "32/32 [==============================] - 0s 4ms/step - loss: 0.3700\n",
            "Epoch 85/100\n",
            "32/32 [==============================] - 0s 2ms/step - loss: 0.3712\n",
            "Epoch 86/100\n",
            "32/32 [==============================] - 0s 2ms/step - loss: 0.3666\n",
            "Epoch 87/100\n",
            "32/32 [==============================] - 0s 2ms/step - loss: 0.3703\n",
            "Epoch 88/100\n",
            "32/32 [==============================] - 0s 2ms/step - loss: 0.3689\n",
            "Epoch 89/100\n",
            "32/32 [==============================] - 0s 2ms/step - loss: 0.3680\n",
            "Epoch 90/100\n",
            "32/32 [==============================] - 0s 3ms/step - loss: 0.3705\n",
            "Epoch 91/100\n",
            "32/32 [==============================] - 0s 2ms/step - loss: 0.3680\n",
            "Epoch 92/100\n",
            "32/32 [==============================] - 0s 3ms/step - loss: 0.3756\n",
            "Epoch 93/100\n",
            "32/32 [==============================] - 0s 3ms/step - loss: 0.3659\n",
            "Epoch 94/100\n",
            "32/32 [==============================] - 0s 2ms/step - loss: 0.3688\n",
            "Epoch 95/100\n",
            "32/32 [==============================] - 0s 4ms/step - loss: 0.3704\n",
            "Epoch 96/100\n",
            "32/32 [==============================] - 0s 6ms/step - loss: 0.3628\n",
            "Epoch 97/100\n",
            "32/32 [==============================] - 0s 7ms/step - loss: 0.3688\n",
            "Epoch 98/100\n",
            "32/32 [==============================] - 0s 6ms/step - loss: 0.3746\n",
            "Epoch 99/100\n",
            "32/32 [==============================] - 0s 6ms/step - loss: 0.3646\n",
            "Epoch 100/100\n",
            "32/32 [==============================] - 0s 4ms/step - loss: 0.3706\n"
          ]
        },
        {
          "output_type": "execute_result",
          "data": {
            "text/plain": [
              "<keras.callbacks.History at 0x7fd814f42b50>"
            ]
          },
          "metadata": {},
          "execution_count": 5
        }
      ],
      "source": [
        "model.fit(X, y_label, epochs=100)"
      ]
    },
    {
      "cell_type": "code",
      "execution_count": null,
      "metadata": {
        "colab": {
          "base_uri": "https://localhost:8080/",
          "height": 283
        },
        "id": "ACA2gF-6EWeQ",
        "outputId": "c3b40947-9570-4ca5-b356-84cb04eef6e5"
      },
      "outputs": [
        {
          "output_type": "execute_result",
          "data": {
            "text/plain": [
              "<matplotlib.collections.PathCollection at 0x7f2e39b2f610>"
            ]
          },
          "metadata": {},
          "execution_count": 59
        },
        {
          "output_type": "display_data",
          "data": {
            "text/plain": [
              "<Figure size 432x288 with 1 Axes>"
            ],
            "image/png": "[encoded data removed]"
          },
          "metadata": {
            "needs_background": "light"
          }
        }
      ],
      "source": [
        "domain = np.linspace(0, 1, 100).reshape(-1,1) # 입력은 2차원 벡터로 변형\n",
        "y_hat = model.predict(domain)\n",
        "plt.scatter(df['x'], df['y'])\n",
        "plt.scatter(domain, y_hat, color='r')"
      ]
    },
    {
      "cell_type": "code",
      "execution_count": null,
      "metadata": {
        "id": "x5fuhh0mB4zH"
      },
      "outputs": [],
      "source": []
    }
  ],
  "metadata": {
    "colab": {
      "provenance": []
    },
    "kernelspec": {
      "display_name": "Python 3",
      "name": "python3"
    },
    "language_info": {
      "name": "python"
    }
  },
  "nbformat": 4,
  "nbformat_minor": 0
}