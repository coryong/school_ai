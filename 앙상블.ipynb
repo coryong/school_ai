{
  "nbformat": 4,
  "nbformat_minor": 0,
  "metadata": {
    "colab": {
      "provenance": []
    },
    "kernelspec": {
      "name": "python3",
      "display_name": "Python 3"
    },
    "language_info": {
      "name": "python"
    }
  },
  "cells": [
    {
      "cell_type": "markdown",
      "source": [
        "데이터 준비하기"
      ],
      "metadata": {
        "id": "OCQWDbGpazUL"
      }
    },
    {
      "cell_type": "code",
      "execution_count": 1,
      "metadata": {
        "colab": {
          "base_uri": "https://localhost:8080/"
        },
        "id": "i1LlGFQ8Y4Se",
        "outputId": "2d53ea76-c90b-44e4-910f-bca35f12b5ab"
      },
      "outputs": [
        {
          "output_type": "execute_result",
          "data": {
            "text/plain": [
              "array([[5.1, 3.5, 1.4, 0.2],\n",
              "       [4.9, 3. , 1.4, 0.2],\n",
              "       [4.7, 3.2, 1.3, 0.2],\n",
              "       [4.6, 3.1, 1.5, 0.2],\n",
              "       [5. , 3.6, 1.4, 0.2]])"
            ]
          },
          "metadata": {},
          "execution_count": 1
        }
      ],
      "source": [
        "from sklearn.datasets import load_iris\n",
        "import numpy as np\n",
        "\n",
        "iris = load_iris() # iris 데이터 불러오기\n",
        "iris.data[:5]"
      ]
    },
    {
      "cell_type": "code",
      "source": [
        "print('iris 데이터의 형태:', iris.data.shape)\n",
        "print('iris 데이터의 속성들:', iris.feature_names)\n",
        "print('iris 데이터의 레이블:', iris.target)"
      ],
      "metadata": {
        "colab": {
          "base_uri": "https://localhost:8080/"
        },
        "id": "PK0UqQ3lZtKT",
        "outputId": "15062f7d-0131-4970-9f7f-3c23cd9b08c5"
      },
      "execution_count": 2,
      "outputs": [
        {
          "output_type": "stream",
          "name": "stdout",
          "text": [
            "iris 데이터의 형태: (150, 4)\n",
            "iris 데이터의 속성들: ['sepal length (cm)', 'sepal width (cm)', 'petal length (cm)', 'petal width (cm)']\n",
            "iris 데이터의 레이블: [0 0 0 0 0 0 0 0 0 0 0 0 0 0 0 0 0 0 0 0 0 0 0 0 0 0 0 0 0 0 0 0 0 0 0 0 0\n",
            " 0 0 0 0 0 0 0 0 0 0 0 0 0 1 1 1 1 1 1 1 1 1 1 1 1 1 1 1 1 1 1 1 1 1 1 1 1\n",
            " 1 1 1 1 1 1 1 1 1 1 1 1 1 1 1 1 1 1 1 1 1 1 1 1 1 1 2 2 2 2 2 2 2 2 2 2 2\n",
            " 2 2 2 2 2 2 2 2 2 2 2 2 2 2 2 2 2 2 2 2 2 2 2 2 2 2 2 2 2 2 2 2 2 2 2 2 2\n",
            " 2 2]\n"
          ]
        }
      ]
    },
    {
      "cell_type": "code",
      "source": [
        "from sklearn.model_selection import train_test_split\n",
        "X,y = iris.data, iris.target\n",
        "X_train,X_test,y_train,y_test = train_test_split(X, y, test_size=0.3) # 붓꼬데이터를 70%를 학습, 30% 테스트 데이터 분리"
      ],
      "metadata": {
        "id": "PokXFwrdtTta"
      },
      "execution_count": 3,
      "outputs": []
    },
    {
      "cell_type": "code",
      "source": [
        "#데이터 표준화(standardization)\n",
        "from sklearn.preprocessing import StandardScaler\n",
        "scaler = StandardScaler() \n",
        "SX_train = scaler.fit_transform(X_train)\n",
        "SX_test = scaler.fit_transform(X_test)"
      ],
      "metadata": {
        "id": "83hAB3LMw4qE"
      },
      "execution_count": 4,
      "outputs": []
    },
    {
      "cell_type": "markdown",
      "source": [
        "- K-NN (K=5)"
      ],
      "metadata": {
        "id": "YxIkRpU9bIUx"
      }
    },
    {
      "cell_type": "code",
      "source": [
        "from sklearn.neighbors import KNeighborsClassifier\n",
        "from sklearn import metrics\n",
        "from sklearn.metrics import confusion_matrix\n",
        "from sklearn.metrics import accuracy_score\n",
        "\n",
        "k = 5\n",
        "\n",
        "knn = KNeighborsClassifier(n_neighbors= k)\n",
        "knn.fit(SX_train, y_train)\n",
        "\n",
        "y_pred = knn.predict(SX_test)\n",
        "knn_matrix = confusion_matrix(y_test, y_pred)\n",
        "Knn_accuracy = metrics.accuracy_score(y_test, y_pred)\n",
        "print('n_neighbors가 {0:d} 일때 Knn 모델의 정확도: {1:.3f}\\n'.format(k,Knn_accuracy))\n",
        "print('Knn confusion_matrix:')\n",
        "print(knn_matrix)"
      ],
      "metadata": {
        "colab": {
          "base_uri": "https://localhost:8080/"
        },
        "id": "1vlyXcEDbca3",
        "outputId": "dee6c733-ed77-490b-de77-113e81632e8f"
      },
      "execution_count": 5,
      "outputs": [
        {
          "output_type": "stream",
          "name": "stdout",
          "text": [
            "n_neighbors가 5 일때 Knn 모델의 정확도: 0.911\n",
            "\n",
            "Knn confusion_matrix:\n",
            "[[16  1  0]\n",
            " [ 0 10  0]\n",
            " [ 0  3 15]]\n"
          ]
        }
      ]
    },
    {
      "cell_type": "markdown",
      "source": [
        "- Logistic Regression"
      ],
      "metadata": {
        "id": "t_wdVh6gfcT_"
      }
    },
    {
      "cell_type": "code",
      "source": [
        "from sklearn.linear_model import LogisticRegression\n",
        "\n",
        "LogisticRegression_model = LogisticRegression(max_iter=500)\n",
        "LogisticRegression_model.fit(SX_train, y_train)\n",
        "\n",
        "y_pred = LogisticRegression_model.predict(SX_test)\n",
        "LogisticRegression_accuracy = metrics.accuracy_score(y_test, y_pred)\n",
        "LogisticRegression_matrix = confusion_matrix(y_test, y_pred)\n",
        "print('Logistic_Regression의 정확도: {:.3f}\\n'.format(LogisticRegression_accuracy))\n",
        "print('LogisticRegression confusion_matrix:')\n",
        "print(LogisticRegression_matrix)\n",
        "\n"
      ],
      "metadata": {
        "colab": {
          "base_uri": "https://localhost:8080/"
        },
        "id": "XBm5HikHff24",
        "outputId": "28e15468-4c04-4b30-87d3-8dbc85827d37"
      },
      "execution_count": 6,
      "outputs": [
        {
          "output_type": "stream",
          "name": "stdout",
          "text": [
            "Logistic_Regression의 정확도: 0.933\n",
            "\n",
            "LogisticRegression confusion_matrix:\n",
            "[[16  1  0]\n",
            " [ 0 10  0]\n",
            " [ 0  2 16]]\n"
          ]
        }
      ]
    },
    {
      "cell_type": "markdown",
      "source": [
        "- Decision-Tree : max_depth = 4, criterion = gini"
      ],
      "metadata": {
        "id": "wL8EL4dIlDvi"
      }
    },
    {
      "cell_type": "code",
      "source": [
        "from sklearn.tree import DecisionTreeClassifier\n",
        "dec_tree = DecisionTreeClassifier(max_depth=4, criterion='gini')\n",
        "dec_tree.fit(SX_train, y_train)\n",
        "\n",
        "y_pred = dec_tree.predict(SX_test)\n",
        "dec_tree_accuracy = accuracy_score(y_test, y_pred)\n",
        "dec_tree_matrix = confusion_matrix(y_test, y_pred)\n",
        "print('Decision Tree 1 의 정확도: {:.3f}\\n'.format(dec_tree_accuracy))\n",
        "print('Decision Tree 1 confusion_matrix:')\n",
        "print(dec_tree_matrix )"
      ],
      "metadata": {
        "id": "5hz9ZpGIlFvj",
        "colab": {
          "base_uri": "https://localhost:8080/"
        },
        "outputId": "92f1eea1-9798-453d-ac2e-9bfb341bf594"
      },
      "execution_count": 7,
      "outputs": [
        {
          "output_type": "stream",
          "name": "stdout",
          "text": [
            "Decision Tree 1 의 정확도: 0.933\n",
            "\n",
            "Decision Tree 1 confusion_matrix:\n",
            "[[17  0  0]\n",
            " [ 0 10  0]\n",
            " [ 0  3 15]]\n"
          ]
        }
      ]
    },
    {
      "cell_type": "markdown",
      "source": [
        "- Decision-Tree : max_depth = 4, criterion = entropy\n",
        "\n"
      ],
      "metadata": {
        "id": "PydsWSkQoI7H"
      }
    },
    {
      "cell_type": "code",
      "source": [
        "from sklearn.tree import DecisionTreeClassifier\n",
        "dec_tree_2 = DecisionTreeClassifier(max_depth=4, criterion='entropy')\n",
        "dec_tree_2.fit(SX_train, y_train)\n",
        "\n",
        "y_pred = dec_tree_2.predict(SX_test)\n",
        "dec_tree_2_accuracy = accuracy_score(y_test, y_pred)\n",
        "dec_tree_2_matrix = confusion_matrix(y_test, y_pred)\n",
        "print('Decision Tree 2 의 정확도: {:.3f}\\n'.format(dec_tree_2_accuracy))\n",
        "print('Decision Tree 2 confusion_matrix:')\n",
        "print(dec_tree_2_matrix )"
      ],
      "metadata": {
        "id": "pofqkoEAoKSC",
        "colab": {
          "base_uri": "https://localhost:8080/"
        },
        "outputId": "585d85d7-d738-4345-ba21-27cd8ded2b91"
      },
      "execution_count": 8,
      "outputs": [
        {
          "output_type": "stream",
          "name": "stdout",
          "text": [
            "Decision Tree 2 의 정확도: 0.933\n",
            "\n",
            "Decision Tree 2 confusion_matrix:\n",
            "[[17  0  0]\n",
            " [ 0 10  0]\n",
            " [ 0  3 15]]\n"
          ]
        }
      ]
    },
    {
      "cell_type": "markdown",
      "source": [
        "- LinerSVM"
      ],
      "metadata": {
        "id": "3LZLzkPIostL"
      }
    },
    {
      "cell_type": "code",
      "source": [
        "from sklearn.svm import LinearSVC\n",
        "svm_simple = LinearSVC(max_iter=10000)\n",
        "svm_simple.fit(SX_train, y_train)\n",
        "\n",
        "y_pred = svm_simple.predict(SX_test)\n",
        "svm_simple_accuracy = accuracy_score(y_test, y_pred)\n",
        "svm_simple_matrix = confusion_matrix(y_test, y_pred)\n",
        "print('Decision Tree 2 의 정확도: {:.3f}\\n'.format(svm_simple_accuracy))\n",
        "print('Decision Tree 2 confusion_matrix:')\n",
        "print(svm_simple_matrix )"
      ],
      "metadata": {
        "id": "5EHEVu-GoyKb",
        "colab": {
          "base_uri": "https://localhost:8080/"
        },
        "outputId": "a2f7859c-4051-4b12-d02e-640116dc2257"
      },
      "execution_count": 9,
      "outputs": [
        {
          "output_type": "stream",
          "name": "stdout",
          "text": [
            "Decision Tree 2 의 정확도: 0.889\n",
            "\n",
            "Decision Tree 2 confusion_matrix:\n",
            "[[16  1  0]\n",
            " [ 0  9  1]\n",
            " [ 0  3 15]]\n"
          ]
        }
      ]
    },
    {
      "cell_type": "markdown",
      "source": [
        "- 앙상블"
      ],
      "metadata": {
        "id": "prwExpMmr9Cv"
      }
    },
    {
      "cell_type": "code",
      "source": [
        "from sklearn.ensemble import VotingClassifier\n",
        "\n",
        "voting_model = VotingClassifier(\n",
        "    estimators=[('knn', knn), \n",
        "                ('LogisticRegression', LogisticRegression_model), \n",
        "                ('dec_tree_1', dec_tree), \n",
        "                ('dec_tree_2', dec_tree_2), \n",
        "                ('svm', svm_simple)], \n",
        "    voting='hard')\n",
        "\n",
        "voting_model.fit(SX_train, y_train)\n",
        "y_pred = voting_model.predict(SX_test)\n",
        "\n",
        "voting_model_accuracy = accuracy_score(y_test, y_pred)\n",
        "print(\"앙상블의 정확도: {:.3f}\".format(voting_model_accuracy))"
      ],
      "metadata": {
        "id": "z-vMIx7xsEUS",
        "colab": {
          "base_uri": "https://localhost:8080/"
        },
        "outputId": "c90ebdde-c760-4aa0-bdf1-17e76f369c9d"
      },
      "execution_count": 10,
      "outputs": [
        {
          "output_type": "stream",
          "name": "stdout",
          "text": [
            "앙상블의 정확도: 0.911\n"
          ]
        }
      ]
    }
  ]
}